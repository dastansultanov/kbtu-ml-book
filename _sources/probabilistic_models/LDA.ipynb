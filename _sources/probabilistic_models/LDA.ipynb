{
 "cells": [
  {
   "cell_type": "markdown",
   "id": "cbfeca2d",
   "metadata": {},
   "source": [
    "# Linear Discriminant Analysis (LDA)"
   ]
  },
  {
   "cell_type": "markdown",
   "id": "a254c985",
   "metadata": {},
   "source": [
    "## Introduction to LDA\n",
    "\n",
    "**Linear Discriminant Analysis (LDA)** is a statistical method used for dimensionality reduction and classification in machine learning. At its core, LDA seeks to find the linear combinations of features that best separate different classes in a dataset. This allows for efficient representation of data while maximizing class separability."
   ]
  },
  {
   "cell_type": "markdown",
   "id": "288303bb",
   "metadata": {
    "jp-MarkdownHeadingCollapsed": true
   },
   "source": [
    "### Historical Context\n",
    "```{image} fisher.jpg\n",
    ":alt: Ronald A. Fisher\n",
    ":class: bg-primary mb-1\n",
    ":width: 200px\n",
    ":align: center\n",
    "```\n",
    "Introduced by Ronald A. Fisher in the 1930s, LDA has since become a fundamental tool in the fields of statistics and machine learning. Fisher formulated LDA as a means to find the linear combination of features that maximizes the ratio of between-class variance to within-class variance."
   ]
  },
  {
   "cell_type": "markdown",
   "id": "95f1d10e",
   "metadata": {},
   "source": [
    "## Theoretical Foundations of LDA"
   ]
  },
  {
   "cell_type": "markdown",
   "id": "7e349609",
   "metadata": {},
   "source": [
    "### Mathematical Formulation"
   ]
  },
  {
   "cell_type": "markdown",
   "id": "17b66790",
   "metadata": {},
   "source": [
    "#### Objective Function\n",
    "\n",
    "The primary goal of LDA is to maximize the between-class scatter while minimizing the within-class scatter. The objective function can be expressed as:\n",
    "\n",
    "$$J(W) = \\frac{{\\det(W^{-1}B)}}{{\\det(W^{-1}W)}}$$\n",
    "\n",
    "where $(W)$ is the weight matrix, $(B)$ is the between-class scatter matrix, and $(W^{-1})$ denotes the inverse of $(W)$."
   ]
  },
  {
   "cell_type": "markdown",
   "id": "a4b73fe3",
   "metadata": {},
   "source": [
    "#### Eigenvalue Decomposition\n",
    "\n",
    "To maximize the objective function, LDA involves the eigenvalue decomposition of \\(W^{-1}B\\). The eigenvectors corresponding to the largest eigenvalues form the basis for the discriminant subspace.\n",
    "\n",
    "$$ W^{-1}Bv_i = \\lambda_i v_i $$\n",
    "\n",
    "where $(v_i)$ is the $(i)$-th eigenvector, and $(\\lambda_i)$ is the corresponding eigenvalue.\n"
   ]
  },
  {
   "cell_type": "markdown",
   "id": "59b80412",
   "metadata": {},
   "source": [
    "### Assumptions and Limitations"
   ]
  },
  {
   "cell_type": "markdown",
   "id": "da84a98e",
   "metadata": {},
   "source": [
    "#### Assumptions\n",
    "1. **Multivariate Normality:** LDA assumes that the features in each class follow a multivariate normal distribution.\n",
    "2. **Equality of Covariance Matrices:** It assumes that the covariance matrices of different classes are equal."
   ]
  },
  {
   "cell_type": "markdown",
   "id": "0d69c6db",
   "metadata": {},
   "source": [
    "#### Limitation\n",
    "1. **Sensitive to Outliers:** LDA can be sensitive to outliers, impacting its performance.\n",
    "2. **Assumption Violations:** If the assumptions are violated, the effectiveness of LDA may be compromised."
   ]
  },
  {
   "cell_type": "markdown",
   "id": "ced06205",
   "metadata": {},
   "source": [
    "```{warning}\n",
    "Considering these limitatuins is essential for practitioners to use LDA effectively and understand potential challenges or issues that may arise when applying the method to real-world datasets.\n",
    "```"
   ]
  },
  {
   "cell_type": "markdown",
   "id": "ab0d2092",
   "metadata": {},
   "source": [
    "## Purpose of LDA\n",
    "\n",
    "LDA serves a dual purpose: it reduces the dimensionality of the data while retaining information relevant for classification, making it a versatile technique in machine learning applications."
   ]
  },
  {
   "cell_type": "markdown",
   "id": "5c00ad34",
   "metadata": {},
   "source": [
    "## Dimensionality Reduction with LDA\n",
    "\n",
    "In high-dimensional spaces, the distance between data points increases, making algorithms prone to overfitting. Working with lower-dimensional data can lead to more computationally efficient models. Therefore, reduced dimensionality makes it easier to visualize data and its inherent patterns. \n",
    "LDA is often used for dimensionality reduction. The primary goal is to transform the original feature space into a lower-dimensional space while preserving the discriminatory information between classes. In other words, LDA looks for a projection of the data in a way that maximizes the separation between different classes.\n",
    "\n",
    "### Objectives of Dimensionality Reduction\n",
    "\n",
    "1. LDA aims to **maximize the distance between the means** of different classes, enhancing class separability.\n",
    "\n",
    "2. Simultaneously, LDA seeks to **minimize the scatter within each class**, ensuring compact clusters.\n",
    "\n",
    "```{admonition} Note\n",
    ":class: note\n",
    "LDA accomplishes these objectives by finding a subspace that best captures the essential information for classification.\n",
    "```"
   ]
  },
  {
   "cell_type": "markdown",
   "id": "df166eb6dea32a78",
   "metadata": {
    "collapsed": false,
    "jupyter": {
     "outputs_hidden": false
    }
   },
   "source": [
    "## Classification using LDA\n",
    "\n",
    "Once LDA has been applied for dimensionality reduction, it can be employed for classification tasks. The process involves training the model on a labeled dataset, where the class labels are known, and learning the discriminative patterns in the reduced-dimensional space.\n",
    "\n",
    "### Working Principle of LDA in Classification\n",
    "\n",
    "1. LDA aims to find decision boundaries that best separate different classes in the reduced space.\n",
    "\n",
    "2. LDA can be interpreted as a probabilistic model. It models the distribution of features for each class and uses Bayes' theorem to calculate the probability of a data point belonging to a particular class.\n",
    "\n",
    "3. Given a set of features for an unseen data point, LDA can predict the most likely class based on the learned discriminative patterns during training.\n",
    "\n",
    "### Applications of LDA in Classification\n",
    "\n",
    "- **Face Recognition:**\n",
    "  LDA is commonly used for face recognition tasks where reducing the dimensionality of facial features enhances the accuracy of recognition.\n",
    "\n",
    "- **Medical Diagnosis:**\n",
    "  In medical diagnostics, LDA can help classify patients into different diagnostic categories based on relevant features.\n",
    "\n",
    "- **Speech Recognition:**\n",
    "  LDA can be applied to features extracted from speech signals to classify spoken words or phrases."
   ]
  },
  {
   "cell_type": "markdown",
   "id": "81c35d03162ed4e3",
   "metadata": {
    "collapsed": false,
    "jupyter": {
     "outputs_hidden": false
    }
   },
   "source": [
    "```{admonition} Fraud Detection in Banking\n",
    ":class: tip, dropdown\n",
    "### What's the Problem?\n",
    "- Banks need to **distinguish real and fake transactions** in huge amounts of data.\n",
    "### How Does LDA Help?\n",
    "- It **learns the difference** between normal and suspicious transactions by looking at data patterns.\n",
    "### The Main Goal\n",
    "- To **clearly separate** regular transactions from the fraudulent ones.\n",
    "### How It's Done\n",
    "1. **Clean and organize** the transaction data first.\n",
    "2. Then, use LDA to **find the most telling signs** of fraud in the data.\n",
    "### What's the Result?\n",
    "- A system that **spots fraud** by seeing how much a transaction differs from the usual pattern.\n",
    "### Why It Matters\n",
    "- Helps banks **catch fraud more effectively**, keeping everyone's money safer.\n",
    "```"
   ]
  },
  {
   "cell_type": "markdown",
   "id": "08474587",
   "metadata": {},
   "source": [
    "# Step by Step Guide to Implementing LDA"
   ]
  },
  {
   "cell_type": "markdown",
   "id": "32d4f3d2",
   "metadata": {},
   "source": [
    "## Data Preprocessing"
   ]
  },
  {
   "cell_type": "markdown",
   "id": "89368abb",
   "metadata": {},
   "source": [
    "```{warning}\n",
    "Before applying LDA, ensure proper data preprocessing.\n",
    "```"
   ]
  },
  {
   "cell_type": "markdown",
   "id": "3e6babb0",
   "metadata": {},
   "source": [
    "1. **Handling Missing Values**\n",
    "   - Address any missing values in the dataset. Fill in missing values or remove instances with missing data to ensure a complete dataset.\n",
    "\n",
    "2. **Scaling Features**\n",
    "   - Standardize or normalize features. This step ensures that all features contribute equally to the analysis, preventing any particular feature from dominating the model due to its scale.\n",
    "\n",
    "3. **Checking Assumptions**\n",
    "   - Verify that your data meets LDA assumptions. LDA assumes that the features in each class follow a multivariate normal distribution, and the covariance matrices of different classes are equal.\n"
   ]
  },
  {
   "cell_type": "markdown",
   "id": "a63f967a",
   "metadata": {},
   "source": [
    "## Model Training"
   ]
  },
  {
   "cell_type": "markdown",
   "id": "c57b354a",
   "metadata": {},
   "source": [
    "```{admonition} Where the fun begins\n",
    ":class: note \n",
    "Now, let's delve into the details of training your LDA model.\n",
    "```"
   ]
  },
  {
   "cell_type": "markdown",
   "id": "f2276131",
   "metadata": {},
   "source": [
    "#### 1. Compute Covariance Matrices:\n",
    "\n",
    "The within-class covariance matrix $(S_W)$ and the between-class covariance matrix $(S_B)$ are calculated as follows:\n",
    "\n",
    "- Within-class covariance matrix $(S_W)$:\n",
    "\n",
    "  $$S_W = \\sum_{i=1}^{c} \\sum_{j=1}^{n_i} (x_{ij} - \\mu_i)(x_{ij} - \\mu_i)^T$$\n",
    " \n",
    "  where $(c)$ is the number of classes, $(n_i)$ is the number of samples in class $(i)$, $(x_{ij})$ is the $(j)$-th sample from class $(i)$, and $(\\mu_i)$ is the mean vector of class $(i)$.\n",
    "\n",
    "- Between-class covariance matrix $(S_B)$:\n",
    "  \n",
    "  $$S_B = \\sum_{i=1}^{c} n_i (\\mu_i - \\mu)(\\mu_i - \\mu)^T$$\n",
    "  \n",
    "  where $(c)$ is the number of classes, $(n_i)$ is the number of samples in class $(i)$, $(\\mu_i)$ is the mean vector of class $(i)$, and $(\\mu)$ is the overall mean vector."
   ]
  },
  {
   "cell_type": "markdown",
   "id": "cb5375a6",
   "metadata": {},
   "source": [
    "#### 2. Solve Eigenvalue Problem:\n",
    "\n",
    "Next, solve the eigenvalue problem to obtain the eigenvalues $\\lambda$ and corresponding eigenvectors $(v)$ of the matrix $(S_W^{-1}S_B)$. This involves solving the following equation:\n",
    "  \n",
    "  $$S_W^{-1}S_Bv = \\lambda v$$"
   ]
  },
  {
   "cell_type": "markdown",
   "id": "99bb519b",
   "metadata": {},
   "source": [
    "#### 3. Select Discriminant Functions:\n",
    "\n",
    "Choose the top $(k)$ eigenvectors corresponding to the $(k)$ largest eigenvalues to form the matrix $(W)$. The discriminant functions can be defined as:\n",
    "\n",
    "  $$Y = XW$$ \n",
    "\n",
    "  where $(Y)$ is the transformed feature matrix, $(X)$ is the original feature matrix, and $(W)$ contains the selected eigenvectors.\n",
    "\n",
    "These discriminant functions will serve as the basis for making predictions and defining decision boundaries in your LDA model."
   ]
  },
  {
   "cell_type": "markdown",
   "id": "74489122",
   "metadata": {},
   "source": [
    "## Evaluation Metrics\n",
    "\n",
    "After training your LDA model, it's crucial to assess its performance using various evaluation metrics. These metrics provide insights into how well the model generalizes to new, unseen data.\n",
    "{ref}`Classification Metrics we have seen so far <classification-metrics>`\n",
    "\n"
   ]
  },
  {
   "cell_type": "markdown",
   "id": "7890abca",
   "metadata": {},
   "source": [
    "```{admonition} Remember\n",
    ":class: Warning \n",
    "Evaluating your model using these metrics is crucial to understanding its strengths and weaknesses, guiding potential improvements, and ensuring its suitability for real-world applications.\n",
    "```"
   ]
  },
  {
   "cell_type": "markdown",
   "id": "3b65d690",
   "metadata": {},
   "source": [
    "## LDA Implementation"
   ]
  },
  {
   "cell_type": "markdown",
   "id": "9181ac53",
   "metadata": {},
   "source": [
    "```{admonition} Try it\n",
    ":class: tip\n",
    "Feel free to adapt the code to your specific dataset and requirements."
   ]
  },
  {
   "cell_type": "markdown",
   "id": "cdf2fcea-6814-447c-befd-975b0551229f",
   "metadata": {},
   "source": [
    "Let's use LDA Classification for the **Iris dataset**"
   ]
  },
  {
   "cell_type": "code",
   "execution_count": 3,
   "id": "59a265a5",
   "metadata": {
    "ExecuteTime": {
     "end_time": "2023-12-04T08:51:15.976667200Z",
     "start_time": "2023-12-04T08:51:15.968996500Z"
    }
   },
   "outputs": [
    {
     "data": {
      "text/html": [
       "<div>\n",
       "<style scoped>\n",
       "    .dataframe tbody tr th:only-of-type {\n",
       "        vertical-align: middle;\n",
       "    }\n",
       "\n",
       "    .dataframe tbody tr th {\n",
       "        vertical-align: top;\n",
       "    }\n",
       "\n",
       "    .dataframe thead th {\n",
       "        text-align: right;\n",
       "    }\n",
       "</style>\n",
       "<table border=\"1\" class=\"dataframe\">\n",
       "  <thead>\n",
       "    <tr style=\"text-align: right;\">\n",
       "      <th></th>\n",
       "      <th>sepal_length</th>\n",
       "      <th>sepal_width</th>\n",
       "      <th>petal_length</th>\n",
       "      <th>petal_width</th>\n",
       "      <th>species</th>\n",
       "    </tr>\n",
       "  </thead>\n",
       "  <tbody>\n",
       "    <tr>\n",
       "      <th>0</th>\n",
       "      <td>5.1</td>\n",
       "      <td>3.5</td>\n",
       "      <td>1.4</td>\n",
       "      <td>0.2</td>\n",
       "      <td>setosa</td>\n",
       "    </tr>\n",
       "    <tr>\n",
       "      <th>1</th>\n",
       "      <td>4.9</td>\n",
       "      <td>3.0</td>\n",
       "      <td>1.4</td>\n",
       "      <td>0.2</td>\n",
       "      <td>setosa</td>\n",
       "    </tr>\n",
       "    <tr>\n",
       "      <th>2</th>\n",
       "      <td>4.7</td>\n",
       "      <td>3.2</td>\n",
       "      <td>1.3</td>\n",
       "      <td>0.2</td>\n",
       "      <td>setosa</td>\n",
       "    </tr>\n",
       "  </tbody>\n",
       "</table>\n",
       "</div>"
      ],
      "text/plain": [
       "   sepal_length  sepal_width  petal_length  petal_width species\n",
       "0           5.1          3.5           1.4          0.2  setosa\n",
       "1           4.9          3.0           1.4          0.2  setosa\n",
       "2           4.7          3.2           1.3          0.2  setosa"
      ]
     },
     "metadata": {},
     "output_type": "display_data"
    },
    {
     "name": "stdout",
     "output_type": "stream",
     "text": [
      "<class 'pandas.core.frame.DataFrame'>\n",
      "RangeIndex: 150 entries, 0 to 149\n",
      "Data columns (total 5 columns):\n",
      " #   Column        Non-Null Count  Dtype  \n",
      "---  ------        --------------  -----  \n",
      " 0   sepal_length  150 non-null    float64\n",
      " 1   sepal_width   150 non-null    float64\n",
      " 2   petal_length  150 non-null    float64\n",
      " 3   petal_width   150 non-null    float64\n",
      " 4   species       150 non-null    object \n",
      "dtypes: float64(4), object(1)\n",
      "memory usage: 6.0+ KB\n"
     ]
    }
   ],
   "source": [
    "import seaborn as sns\n",
    "data = sns.load_dataset(\"iris\")\n",
    "# to show some sample data\n",
    "display(data.head(3)) \n",
    "# to show information about data types and counts of Non Null\n",
    "data.info() "
   ]
  },
  {
   "cell_type": "markdown",
   "id": "e5016db0-6657-4684-ab33-72617aef2866",
   "metadata": {
    "collapsed": false,
    "jupyter": {
     "outputs_hidden": false
    }
   },
   "source": [
    "We will transform the class labels (setosa, versicolor, virginica) to numeric values (1,2,3) for convenience. We can do this by simply calling a function called LabelEndoder from sckit-learn library."
   ]
  },
  {
   "cell_type": "code",
   "execution_count": 4,
   "id": "db48d762-3061-4cdf-be6f-11f118c8d843",
   "metadata": {},
   "outputs": [],
   "source": [
    "from sklearn.preprocessing import LabelEncoder\n",
    "\n",
    "X = data.iloc[:,0:4].values\n",
    "y = data['species'].values\n",
    "\n",
    "enc = LabelEncoder()\n",
    "label_encoder = enc.fit(y)\n",
    "y = label_encoder.transform(y) + 1\n",
    "label_dict = {1: 'Setosa', 2: 'Versicolor', 3:'Virginica'}"
   ]
  },
  {
   "cell_type": "markdown",
   "id": "026e48ae-e384-4618-8815-8742f634b7c3",
   "metadata": {},
   "source": [
    "Just to get a rough idea how the samples of our three classes Setosa, Versicolor and Virginica are distributed, let us visualize the distributions of the four different features in 1-dimensional histograms."
   ]
  },
  {
   "cell_type": "markdown",
   "id": "6698c745-f435-4d77-b7db-0c13ec800156",
   "metadata": {},
   "source": [
    "```{image} 1d_histogram.png\n",
    ":alt: The distributions of the four different features of the Iris dataset in 1-dimensional histograms.\n",
    ":class: bg-primary mb-1\n",
    ":align: center\n",
    "```"
   ]
  },
  {
   "cell_type": "markdown",
   "id": "e1b2a9a0-e6d2-4466-be77-ad2ad8800353",
   "metadata": {},
   "source": [
    "```{admonition} Code for above histograms\n",
    ":class: note, dropdown\n",
    "\n",
    "```python\n",
    "from matplotlib import pyplot as plt\n",
    "import numpy as np\n",
    "import math\n",
    "\n",
    "fig, axes = plt.subplots(nrows=2, ncols=2, figsize=(12,6))\n",
    "\n",
    "feature_dict = {i:label for i,label in zip(\n",
    "                range(4),\n",
    "                  ('sepal length in cm',\n",
    "                  'sepal width in cm',\n",
    "                  'petal length in cm',\n",
    "                  'petal width in cm', ))}\n",
    "\n",
    "for ax,cnt in zip(axes.ravel(), range(4)):  \n",
    "\n",
    "    # set bin sizes\n",
    "    min_b = math.floor(np.min(X[:,cnt]))\n",
    "    max_b = math.ceil(np.max(X[:,cnt]))\n",
    "    bins = np.linspace(min_b, max_b, 25)\n",
    "\n",
    "    # plottling the histograms\n",
    "    for lab,col in zip(range(1,4), ('blue', 'red', 'green')):\n",
    "        ax.hist(X[y==lab, cnt],\n",
    "                   color=col,\n",
    "                   label='class %s' %label_dict[lab],\n",
    "                   bins=bins,\n",
    "                   alpha=0.5,)\n",
    "    ylims = ax.get_ylim()\n",
    "\n",
    "    # plot annotation\n",
    "    leg = ax.legend(loc='upper right', fancybox=True, fontsize=8)\n",
    "    leg.get_frame().set_alpha(0.5)\n",
    "    ax.set_ylim([0, max(ylims)+2])\n",
    "    ax.set_xlabel(feature_dict[cnt])\n",
    "    ax.set_title('Iris histogram #%s' %str(cnt+1))\n",
    "\n",
    "    # hide axis ticks\n",
    "    ax.tick_params(axis=\"both\", which=\"both\", bottom=\"off\", top=\"off\",  \n",
    "            labelbottom=\"on\", left=\"off\", right=\"off\", labelleft=\"on\")\n",
    "\n",
    "    # remove axis spines\n",
    "    ax.spines[\"top\"].set_visible(False)  \n",
    "    ax.spines[\"right\"].set_visible(False)\n",
    "    ax.spines[\"bottom\"].set_visible(False)\n",
    "    ax.spines[\"left\"].set_visible(False)    \n",
    "\n",
    "axes[0][0].set_ylabel('count')\n",
    "axes[1][0].set_ylabel('count')\n",
    "\n",
    "fig.tight_layout()       \n",
    "plt.show()\n",
    "```"
   ]
  },
  {
   "cell_type": "markdown",
   "id": "07ad9500-93c4-4f23-af6c-454496d0a58a",
   "metadata": {},
   "source": [
    "From just looking at these simple graphical representations of the features, we can already tell that the petal lengths and widths are likely better suited as potential features two separate between the three flower classes. In practice, instead of reducing the dimensionality via a projection (here: LDA), a good alternative would be a feature selection technique. For low-dimensional datasets like Iris, a glance at those histograms would already be very informative."
   ]
  },
  {
   "cell_type": "markdown",
   "id": "18d225d3-0e18-4238-bb66-d89599783d89",
   "metadata": {},
   "source": [
    "##### Dimension Reduction"
   ]
  },
  {
   "cell_type": "markdown",
   "id": "67899e74-19d1-4052-bb72-9038df131e6f",
   "metadata": {},
   "source": [
    "We will first try to use LDA to reduce the number of features. LDA reduces dimensionality from original number of feature to\n",
    "(C-1) features, where C is the number of classes. In this case, we have 3 classes, therefore the new feature space will have only 2 features"
   ]
  },
  {
   "cell_type": "code",
   "execution_count": 14,
   "id": "b15bf12e-a4e1-4b75-8184-c797b04828b5",
   "metadata": {},
   "outputs": [
    {
     "name": "stdout",
     "output_type": "stream",
     "text": [
      "(Rows,Columns) of the original data is  (150, 4)\n",
      "\n",
      " After LDA Dimension Reductionn we have (150, 2)\n"
     ]
    }
   ],
   "source": [
    "from sklearn.discriminant_analysis import LinearDiscriminantAnalysis as LDA\n",
    "\n",
    "# Calling LDA\n",
    "lda_as_dimension_reduction = LDA(n_components=2)\n",
    "X_lda_sklearn = lda_as_dimension_reduction.fit_transform(X, y)\n",
    "\n",
    "print('(Rows,Columns) of the original data is ',X.shape)\n",
    "print('\\n After LDA Dimension Reductionn we have', X_lda_sklearn.shape)"
   ]
  },
  {
   "cell_type": "markdown",
   "id": "1feb9d41-3596-4274-9e95-22529d22c713",
   "metadata": {},
   "source": [
    "Now, let’s express the “explained variance” as percentage:\n"
   ]
  },
  {
   "cell_type": "code",
   "execution_count": 15,
   "id": "786196d1-9743-4816-b75f-30f9c22c5212",
   "metadata": {},
   "outputs": [
    {
     "name": "stdout",
     "output_type": "stream",
     "text": [
      "Variance explained:\n",
      "\n",
      "LDA 1: 99.12%\n",
      "LDA 2: 0.88%\n"
     ]
    }
   ],
   "source": [
    "## Explaning the varianvce for the new features created\n",
    "print('Variance explained:\\n')\n",
    "for i,j in enumerate(lda_as_dimension_reduction.explained_variance_ratio_):\n",
    "    print(f'LDA {i+1}: {j:.2%}')"
   ]
  },
  {
   "cell_type": "markdown",
   "id": "6bfe4288-ce26-4f1d-9fbc-6bce74b16416",
   "metadata": {},
   "source": [
    "The LDA 1 is by far the most informative one, and we won’t loose much information if we would form a 1D-feature spaced based on this.\n",
    "\n",
    "What we are going to do next is to visualize the 2 columns created by LDA and see how the class are separated."
   ]
  },
  {
   "cell_type": "code",
   "execution_count": 21,
   "id": "d1d6d6ca-e30f-417a-8336-66033549c526",
   "metadata": {},
   "outputs": [
    {
     "data": {
      "image/png": "[encoded data removed]",
      "text/plain": [
       "<Figure size 640x480 with 1 Axes>"
      ]
     },
     "metadata": {},
     "output_type": "display_data"
    }
   ],
   "source": [
    "# Create a function for plotting \n",
    "from matplotlib import pyplot as plt\n",
    "def plot_scikit_lda(X, title):\n",
    "\n",
    "    ax = plt.subplot(111)\n",
    "    for label,marker,color in zip(\n",
    "        range(1,4),('^', 's', 'o'),('blue', 'red', 'green')):\n",
    "\n",
    "        plt.scatter(x=X[:,0][y == label],\n",
    "                    y=X[:,1][y == label] * -1, # flip the figure\n",
    "                    marker=marker,\n",
    "                    color=color,\n",
    "                    alpha=0.5,\n",
    "                    label=label_dict[label])\n",
    "\n",
    "    plt.xlabel('LD1')\n",
    "    plt.ylabel('LD2')\n",
    "\n",
    "    leg = plt.legend(loc='upper right', fancybox=True)\n",
    "    leg.get_frame().set_alpha(0.5)\n",
    "    plt.title(title)\n",
    "\n",
    "    # hide axis ticks\n",
    "    plt.tick_params(axis=\"both\", which=\"both\", bottom=\"off\", top=\"off\",  \n",
    "            labelbottom=\"on\", left=\"off\", right=\"off\", labelleft=\"on\")\n",
    "\n",
    "    # remove axis spines\n",
    "    ax.spines[\"top\"].set_visible(False)  \n",
    "    ax.spines[\"right\"].set_visible(False)\n",
    "    ax.spines[\"bottom\"].set_visible(False)\n",
    "    ax.spines[\"left\"].set_visible(False)    \n",
    "\n",
    "    plt.grid()\n",
    "    plt.tight_layout\n",
    "    plt.show()\n",
    "    \n",
    "plot_scikit_lda(X_lda_sklearn, title='LDA classification')"
   ]
  },
  {
   "cell_type": "markdown",
   "id": "c50a499d-8b1f-4cc1-808c-4a8910dae2ce",
   "metadata": {},
   "source": [
    "The scatter plot above represents our new feature subspace that we constructed via LDA. We can see that the first linear discriminant **LD1** separates the classes quite nicely. However, the second discriminant, **LD2**, does not add much valuable information,which we’ve already concluded when we looked at the ranked varianvce explained.\n",
    "\n",
    "That's it we are able to use LDA to reduce thnumberer of features **from 4 to 2** \n",
    "\n",
    "Finally, let't move on to the classification task itself."
   ]
  },
  {
   "cell_type": "markdown",
   "id": "4ccdce47-6f79-4bce-ace8-19be92368214",
   "metadata": {},
   "source": [
    "### Split Train and Test data"
   ]
  },
  {
   "cell_type": "markdown",
   "id": "94959f68-75d2-4656-8388-8bf01990db4f",
   "metadata": {},
   "source": [
    "For the classification task, since we don't have a test dataset we are going to split our original data. 70% will be used for training the model and 30% will be used as validation.\n",
    "To split our data we are going to call function train_test_split from scikit-learn library."
   ]
  },
  {
   "cell_type": "code",
   "execution_count": 22,
   "id": "c99e098e-4304-4a75-b4e6-bfdd3f7db933",
   "metadata": {},
   "outputs": [
    {
     "name": "stdout",
     "output_type": "stream",
     "text": [
      "\n",
      "Size of the dataset\n",
      "All data: (150, 4)\n",
      "Training: (105, 4)\n",
      "Validation: (45, 4)\n",
      "\n",
      "Proportion of 'TARGETS' in the dataset\n",
      "All data: [0.33333333 0.33333333 0.33333333]\n",
      "Validation: [0.33333333 0.33333333 0.33333333]\n",
      "Training: [0.33333333 0.33333333 0.33333333]\n"
     ]
    }
   ],
   "source": [
    "from sklearn.model_selection import train_test_split\n",
    "import numpy as np\n",
    "\n",
    "X_train, X_test, y_train, y_test = train_test_split(X, y, stratify=y, test_size=0.7, random_state=12345)\n",
    " \n",
    "print(\"\\nSize of the dataset\")\n",
    "print(\"All data:\", X.shape)\n",
    "print(\"Training:\", X_test.shape)    \n",
    "print(\"Validation:\", X_train.shape) \n",
    "    \n",
    "print(\"\\nProportion of 'TARGETS' in the dataset\")\n",
    "print(\"All data:\", np.bincount(y)[1:] / float(len(y)))\n",
    "print(\"Validation:\", np.bincount(y_test)[1:] / float(len(y_test))) \n",
    "print(\"Training:\", np.bincount(y_train)[1:] / float(len(y_train)))   "
   ]
  },
  {
   "cell_type": "code",
   "execution_count": 18,
   "id": "bda8a8f9-1979-47a3-bfed-cfb223866f52",
   "metadata": {},
   "outputs": [],
   "source": [
    "# Transform data to follow assumption 2 regarding variance of the data\n",
    "from sklearn.preprocessing import StandardScaler\n",
    "scaler=StandardScaler()\n",
    "scaler.fit(X_train)\n",
    "\n",
    "# Scaling Train Set\n",
    "X_train = scaler.transform(X_train)\n",
    "# Scaling Test Set\n",
    "X_test = scaler.transform(X_test)"
   ]
  },
  {
   "cell_type": "code",
   "execution_count": 19,
   "id": "24bf39c7-c094-4022-a06e-36697dff586e",
   "metadata": {},
   "outputs": [
    {
     "data": {
      "text/html": [
       "<style>#sk-container-id-1 {color: black;}#sk-container-id-1 pre{padding: 0;}#sk-container-id-1 div.sk-toggleable {background-color: white;}#sk-container-id-1 label.sk-toggleable__label {cursor: pointer;display: block;width: 100%;margin-bottom: 0;padding: 0.3em;box-sizing: border-box;text-align: center;}#sk-container-id-1 label.sk-toggleable__label-arrow:before {content: \"▸\";float: left;margin-right: 0.25em;color: #696969;}#sk-container-id-1 label.sk-toggleable__label-arrow:hover:before {color: black;}#sk-container-id-1 div.sk-estimator:hover label.sk-toggleable__label-arrow:before {color: black;}#sk-container-id-1 div.sk-toggleable__content {max-height: 0;max-width: 0;overflow: hidden;text-align: left;background-color: #f0f8ff;}#sk-container-id-1 div.sk-toggleable__content pre {margin: 0.2em;color: black;border-radius: 0.25em;background-color: #f0f8ff;}#sk-container-id-1 input.sk-toggleable__control:checked~div.sk-toggleable__content {max-height: 200px;max-width: 100%;overflow: auto;}#sk-container-id-1 input.sk-toggleable__control:checked~label.sk-toggleable__label-arrow:before {content: \"▾\";}#sk-container-id-1 div.sk-estimator input.sk-toggleable__control:checked~label.sk-toggleable__label {background-color: #d4ebff;}#sk-container-id-1 div.sk-label input.sk-toggleable__control:checked~label.sk-toggleable__label {background-color: #d4ebff;}#sk-container-id-1 input.sk-hidden--visually {border: 0;clip: rect(1px 1px 1px 1px);clip: rect(1px, 1px, 1px, 1px);height: 1px;margin: -1px;overflow: hidden;padding: 0;position: absolute;width: 1px;}#sk-container-id-1 div.sk-estimator {font-family: monospace;background-color: #f0f8ff;border: 1px dotted black;border-radius: 0.25em;box-sizing: border-box;margin-bottom: 0.5em;}#sk-container-id-1 div.sk-estimator:hover {background-color: #d4ebff;}#sk-container-id-1 div.sk-parallel-item::after {content: \"\";width: 100%;border-bottom: 1px solid gray;flex-grow: 1;}#sk-container-id-1 div.sk-label:hover label.sk-toggleable__label {background-color: #d4ebff;}#sk-container-id-1 div.sk-serial::before {content: \"\";position: absolute;border-left: 1px solid gray;box-sizing: border-box;top: 0;bottom: 0;left: 50%;z-index: 0;}#sk-container-id-1 div.sk-serial {display: flex;flex-direction: column;align-items: center;background-color: white;padding-right: 0.2em;padding-left: 0.2em;position: relative;}#sk-container-id-1 div.sk-item {position: relative;z-index: 1;}#sk-container-id-1 div.sk-parallel {display: flex;align-items: stretch;justify-content: center;background-color: white;position: relative;}#sk-container-id-1 div.sk-item::before, #sk-container-id-1 div.sk-parallel-item::before {content: \"\";position: absolute;border-left: 1px solid gray;box-sizing: border-box;top: 0;bottom: 0;left: 50%;z-index: -1;}#sk-container-id-1 div.sk-parallel-item {display: flex;flex-direction: column;z-index: 1;position: relative;background-color: white;}#sk-container-id-1 div.sk-parallel-item:first-child::after {align-self: flex-end;width: 50%;}#sk-container-id-1 div.sk-parallel-item:last-child::after {align-self: flex-start;width: 50%;}#sk-container-id-1 div.sk-parallel-item:only-child::after {width: 0;}#sk-container-id-1 div.sk-dashed-wrapped {border: 1px dashed gray;margin: 0 0.4em 0.5em 0.4em;box-sizing: border-box;padding-bottom: 0.4em;background-color: white;}#sk-container-id-1 div.sk-label label {font-family: monospace;font-weight: bold;display: inline-block;line-height: 1.2em;}#sk-container-id-1 div.sk-label-container {text-align: center;}#sk-container-id-1 div.sk-container {/* jupyter's `normalize.less` sets `[hidden] { display: none; }` but bootstrap.min.css set `[hidden] { display: none !important; }` so we also need the `!important` here to be able to override the default hidden behavior on the sphinx rendered scikit-learn.org. See: https://github.com/scikit-learn/scikit-learn/issues/21755 */display: inline-block !important;position: relative;}#sk-container-id-1 div.sk-text-repr-fallback {display: none;}</style><div id=\"sk-container-id-1\" class=\"sk-top-container\"><div class=\"sk-text-repr-fallback\"><pre>LinearDiscriminantAnalysis()</pre><b>In a Jupyter environment, please rerun this cell to show the HTML representation or trust the notebook. <br />On GitHub, the HTML representation is unable to render, please try loading this page with nbviewer.org.</b></div><div class=\"sk-container\" hidden><div class=\"sk-item\"><div class=\"sk-estimator sk-toggleable\"><input class=\"sk-toggleable__control sk-hidden--visually\" id=\"sk-estimator-id-1\" type=\"checkbox\" checked><label for=\"sk-estimator-id-1\" class=\"sk-toggleable__label sk-toggleable__label-arrow\">LinearDiscriminantAnalysis</label><div class=\"sk-toggleable__content\"><pre>LinearDiscriminantAnalysis()</pre></div></div></div></div></div>"
      ],
      "text/plain": [
       "LinearDiscriminantAnalysis()"
      ]
     },
     "execution_count": 19,
     "metadata": {},
     "output_type": "execute_result"
    }
   ],
   "source": [
    "lda_for_classification = LDA(shrinkage=None, solver='svd')\n",
    "lda_for_classification.fit(X_train, y_train)"
   ]
  },
  {
   "cell_type": "code",
   "execution_count": 20,
   "id": "db7db378-b5ba-474f-bceb-b6d11531f081",
   "metadata": {},
   "outputs": [
    {
     "name": "stdout",
     "output_type": "stream",
     "text": [
      "Training REPORT\n",
      "              precision    recall  f1-score   support\n",
      "\n",
      "      Setosa       1.00      1.00      1.00        15\n",
      "  Versicolor       1.00      1.00      1.00        15\n",
      "   Virginica       1.00      1.00      1.00        15\n",
      "\n",
      "    accuracy                           1.00        45\n",
      "   macro avg       1.00      1.00      1.00        45\n",
      "weighted avg       1.00      1.00      1.00        45\n",
      "\n",
      "Validation REPORT\n",
      "              precision    recall  f1-score   support\n",
      "\n",
      "      Setosa       1.00      1.00      1.00        35\n",
      "  Versicolor       0.97      0.97      0.97        35\n",
      "   Virginica       0.97      0.97      0.97        35\n",
      "\n",
      "    accuracy                           0.98       105\n",
      "   macro avg       0.98      0.98      0.98       105\n",
      "weighted avg       0.98      0.98      0.98       105\n"
     ]
    }
   ],
   "source": [
    "from sklearn.metrics import classification_report\n",
    "\n",
    "# Score Training Data Set\n",
    "y_true = y_train\n",
    "y_pred = lda_for_classification.predict(X_train)\n",
    "target_names = ['Setosa', 'Versicolor', 'Virginica']\n",
    "print('Training REPORT')\n",
    "print(classification_report(y_true, y_pred, target_names=target_names))\n",
    "\n",
    "# Score Validation Data Set\n",
    "y_true = y_test\n",
    "y_pred = lda_for_classification.predict(X_test)\n",
    "target_names = ['Setosa', 'Versicolor', 'Virginica']\n",
    "print('Validation REPORT')\n",
    "print(classification_report(y_true, y_pred, target_names=target_names))"
   ]
  },
  {
   "cell_type": "markdown",
   "id": "35febc83-c80d-4725-8c29-bc3bf17c273a",
   "metadata": {},
   "source": [
    "That's it! We are done with the implementation of LDA as a classifier. \n",
    "We are able to classify the IRIS dataset and have high performance metrics as it could be seen above"
   ]
  },
  {
   "cell_type": "code",
   "execution_count": null,
   "id": "a3f29745-0882-4267-a934-88c720ab5e4d",
   "metadata": {},
   "outputs": [],
   "source": []
  }
 ],
 "metadata": {
  "kernelspec": {
   "display_name": "Python 3 (ipykernel)",
   "language": "python",
   "name": "python3"
  },
  "language_info": {
   "codemirror_mode": {
    "name": "ipython",
    "version": 3
   },
   "file_extension": ".py",
   "mimetype": "text/x-python",
   "name": "python",
   "nbconvert_exporter": "python",
   "pygments_lexer": "ipython3",
   "version": "3.11.1"
  }
 },
 "nbformat": 4,
 "nbformat_minor": 5
}
