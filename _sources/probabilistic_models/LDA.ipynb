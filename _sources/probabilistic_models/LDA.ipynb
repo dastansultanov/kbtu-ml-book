{
 "cells": [
  {
   "cell_type": "markdown",
   "id": "cbfeca2d",
   "metadata": {},
   "source": [
    "# Linear Discriminant Analysis (LDA)"
   ]
  },
  {
   "cell_type": "markdown",
   "id": "a254c985",
   "metadata": {},
   "source": [
    "## Introduction to LDA\n",
    "\n",
    "**Linear Discriminant Analysis (LDA)** is a statistical method used for dimensionality reduction and classification in machine learning. At its core, LDA seeks to find the linear combinations of features that best separate different classes in a dataset. This allows for efficient representation of data while maximizing class separability."
   ]
  },
  {
   "cell_type": "markdown",
   "id": "288303bb",
   "metadata": {
    "jp-MarkdownHeadingCollapsed": true
   },
   "source": [
    "### Historical Context\n",
    "```{image} fisher.jpg\n",
    ":alt: Ronald A. Fisher\n",
    ":class: bg-primary mb-1\n",
    ":width: 200px\n",
    ":align: center\n",
    "```\n",
    "Introduced by Ronald A. Fisher in the 1930s, LDA has since become a fundamental tool in the fields of statistics and machine learning. Fisher formulated LDA as a means to find the linear combination of features that maximizes the ratio of between-class variance to within-class variance."
   ]
  },
  {
   "cell_type": "markdown",
   "id": "95f1d10e",
   "metadata": {},
   "source": [
    "## Theoretical Foundations of LDA"
   ]
  },
  {
   "cell_type": "markdown",
   "id": "7e349609",
   "metadata": {},
   "source": [
    "### Mathematical Formulation"
   ]
  },
  {
   "cell_type": "markdown",
   "id": "17b66790",
   "metadata": {},
   "source": [
    "#### Objective Function\n",
    "\n",
    "The primary goal of LDA is to maximize the between-class scatter while minimizing the within-class scatter. The objective function can be expressed as:\n",
    "\n",
    "$$J(W) = \\frac{{\\det(W^{-1}B)}}{{\\det(W^{-1}W)}}$$\n",
    "\n",
    "where $(W)$ is the weight matrix, $(B)$ is the between-class scatter matrix, and $(W^{-1})$ denotes the inverse of $(W)$."
   ]
  },
  {
   "cell_type": "markdown",
   "id": "a4b73fe3",
   "metadata": {},
   "source": [
    "#### Eigenvalue Decomposition\n",
    "\n",
    "To maximize the objective function, LDA involves the eigenvalue decomposition of \\(W^{-1}B\\). The eigenvectors corresponding to the largest eigenvalues form the basis for the discriminant subspace.\n",
    "\n",
    "$$ W^{-1}Bv_i = \\lambda_i v_i $$\n",
    "\n",
    "where $(v_i)$ is the $(i)$-th eigenvector, and $(\\lambda_i)$ is the corresponding eigenvalue.\n"
   ]
  },
  {
   "cell_type": "markdown",
   "id": "59b80412",
   "metadata": {},
   "source": [
    "### Assumptions and Limitations"
   ]
  },
  {
   "cell_type": "markdown",
   "id": "da84a98e",
   "metadata": {
    "jp-MarkdownHeadingCollapsed": true
   },
   "source": [
    "(normality-assumptions)=\n",
    "#### Assumptions\n",
    "1. **Multivariate Normality:** LDA assumes that the features in each class follow a multivariate normal distribution.\n",
    "2. **Equality of Covariance Matrices:** It assumes that the covariance matrices of different classes are equal."
   ]
  },
  {
   "cell_type": "markdown",
   "id": "0d69c6db",
   "metadata": {},
   "source": [
    "#### Limitation\n",
    "1. **Sensitive to Outliers:** LDA can be sensitive to outliers, impacting its performance.\n",
    "2. **Assumption Violations:** If the assumptions are violated, the effectiveness of LDA may be compromised."
   ]
  },
  {
   "cell_type": "markdown",
   "id": "ced06205",
   "metadata": {},
   "source": [
    "```{warning}\n",
    "Considering these limitatuins is essential for practitioners to use LDA effectively and understand potential challenges or issues that may arise when applying the method to real-world datasets.\n",
    "```"
   ]
  },
  {
   "cell_type": "markdown",
   "id": "ab0d2092",
   "metadata": {},
   "source": [
    "## Purpose of LDA\n",
    "\n",
    "LDA serves a dual purpose: it reduces the dimensionality of the data while retaining information relevant for classification, making it a versatile technique in machine learning applications."
   ]
  },
  {
   "cell_type": "markdown",
   "id": "5c00ad34",
   "metadata": {},
   "source": [
    "## Dimensionality Reduction with LDA\n",
    "\n",
    "In high-dimensional spaces, the distance between data points increases, making algorithms prone to overfitting. Working with lower-dimensional data can lead to more computationally efficient models. Therefore, reduced dimensionality makes it easier to visualize data and its inherent patterns. \n",
    "LDA is often used for dimensionality reduction. The primary goal is to transform the original feature space into a lower-dimensional space while preserving the discriminatory information between classes. In other words, LDA looks for a projection of the data in a way that maximizes the separation between different classes.\n",
    "\n",
    "### Objectives of Dimensionality Reduction\n",
    "\n",
    "1. LDA aims to **maximize the distance between the means** of different classes, enhancing class separability.\n",
    "\n",
    "2. Simultaneously, LDA seeks to **minimize the scatter within each class**, ensuring compact clusters.\n",
    "\n",
    "```{admonition} Note\n",
    ":class: note\n",
    "LDA accomplishes these objectives by finding a subspace that best captures the essential information for classification.\n",
    "```"
   ]
  },
  {
   "cell_type": "markdown",
   "id": "df166eb6dea32a78",
   "metadata": {
    "collapsed": false
   },
   "source": [
    "## Classification using LDA\n",
    "\n",
    "Once LDA has been applied for dimensionality reduction, it can be employed for classification tasks. The process involves training the model on a labeled dataset, where the class labels are known, and learning the discriminative patterns in the reduced-dimensional space.\n",
    "\n",
    "### Working Principle of LDA in Classification\n",
    "\n",
    "1. LDA aims to find decision boundaries that best separate different classes in the reduced space.\n",
    "\n",
    "2. LDA can be interpreted as a probabilistic model. It models the distribution of features for each class and uses Bayes' theorem to calculate the probability of a data point belonging to a particular class.\n",
    "\n",
    "3. Given a set of features for an unseen data point, LDA can predict the most likely class based on the learned discriminative patterns during training.\n",
    "\n",
    "### Applications of LDA in Classification\n",
    "\n",
    "- **Face Recognition:**\n",
    "  LDA is commonly used for face recognition tasks where reducing the dimensionality of facial features enhances the accuracy of recognition.\n",
    "\n",
    "- **Medical Diagnosis:**\n",
    "  In medical diagnostics, LDA can help classify patients into different diagnostic categories based on relevant features.\n",
    "\n",
    "- **Speech Recognition:**\n",
    "  LDA can be applied to features extracted from speech signals to classify spoken words or phrases."
   ]
  },
  {
   "cell_type": "markdown",
   "id": "81c35d03162ed4e3",
   "metadata": {
    "collapsed": false
   },
   "source": [
    "```{admonition} Fraud Detection in Banking\n",
    ":class: tip, dropdown\n",
    "### What's the Problem?\n",
    "- Banks need to **distinguish real and fake transactions** in huge amounts of data.\n",
    "### How Does LDA Help?\n",
    "- It **learns the difference** between normal and suspicious transactions by looking at data patterns.\n",
    "### The Main Goal\n",
    "- To **clearly separate** regular transactions from the fraudulent ones.\n",
    "### How It's Done\n",
    "1. **Clean and organize** the transaction data first.\n",
    "2. Then, use LDA to **find the most telling signs** of fraud in the data.\n",
    "### What's the Result?\n",
    "- A system that **spots fraud** by seeing how much a transaction differs from the usual pattern.\n",
    "### Why It Matters\n",
    "- Helps banks **catch fraud more effectively**, keeping everyone's money safer.\n",
    "```"
   ]
  },
  {
   "cell_type": "code",
   "execution_count": null,
   "id": "d76fa77cf3977fdd",
   "metadata": {
    "collapsed": false,
    "tags": [
     "remove-cell"
    ]
   },
   "outputs": [],
   "source": [
    "from jupyterquiz import display_quiz\n",
    "import json\n",
    "from base64 import b64decode\n",
    "import re\n",
    "\n",
    "encoded_quiz1 = '<span style=\"display:none\" id=\"q_deposit_12\">W3sicXVlc3Rpb24iOiAiQ29uc2lkZXIgYSBMREEgdHJhaW5pbmcgZGF0YXNldCB3aXRoIE0gPSA4IGZlYXR1cmVzIGFuZCBDID0gNCBjbGFzc2VzLiBMZXQncyBleGFtaW5lIHRoZSB3ZWlnaHQgbWF0cml4IFcsIGJldHdlZW4tY2xhc3Mgc2NhdHRlciBtYXRyaXggUyhCKSBhbmQgd2l0aGluLWNsYXNzIHNjYXR0ZXIgbWF0cml4IFMoVykuIFdoYXQgYXJlIHRoZSBkaW1lbnNpb25zIG9mIHRoZXNlIG1hdHJpY2VzIGluIHRoZSBjb250ZXh0IG9mIHRoaXMgcHJvYmxlbT8iLCAidHlwZSI6ICJtYW55X2Nob2ljZSIsICJhbnN3ZXJzIjogW3siYW5zd2VyIjogIlcgLSA4IFggMywgUyhCKSAtIDggWCA4LCBTKFcpIC0gOCBYIDgiLCAiY29ycmVjdCI6IGZhbHNlLCAiZmVlZGJhY2siOiAiVHJ5IG1vcmUgaGFyZGVyIn0sIHsiYW5zd2VyIjogIlcgLSA4IFggMywgUyhCKSAtIDMgWCAzLCBTKFcpIC0gOCBYIDgiLCAiY29ycmVjdCI6IHRydWUsICJmZWVkYmFjayI6ICJXIC0gTSBYIChDLTEpLCBTKEIpIC0gKEMtMSkgWCAoQy0xKSwgUyhXKSAtIE0gWCBNIn0sIHsiYW5zd2VyIjogIlcgLSA4IFggNCwgUyhCKSAtIDggWCA4LCBTKFcpIC0gOCBYIDMiLCAiY29ycmVjdCI6IGZhbHNlLCAiZmVlZGJhY2siOiAiVHJ5IG1vcmUgaGFyZGVyIn0sIHsiYW5zd2VyIjogIlcgLSA4IFggNCwgUyhCKSAtIDQgWCA0LCBTKFcpIC0gOCBYIDgiLCAiY29ycmVjdCI6IGZhbHNlLCAiZmVlZGJhY2siOiAiVHJ5IG1vcmUgaGFyZGVyIn1dfV0=</span>'\n",
    "encoded_quiz2 = '<span style=\"display:none\" id=\"q_derangements_3\">W3sicXVlc3Rpb24iOiAiSG93IGNhbiBMREEgYmUgYmVuZWZpY2lhbCBpbiBtZWRpY2FsIGRpYWdub3N0aWNzPyIsICJ0eXBlIjogIm1hbnlfY2hvaWNlIiwgImFuc3dlcnMiOiBbeyJhbnN3ZXIiOiAiSW5jcmVhc2luZyBkaWFnbm9zdGljIGFjY3VyYWN5LiIsICJjb3JyZWN0IjogdHJ1ZSwgImZlZWRiYWNrIjogIkxEQSBjYW4gaGlnaGxpZ2h0IGtleSBmZWF0dXJlcywgZW5oYW5jaW5nIGRpYWdub3N0aWMgYWNjdXJhY3kgYnkgaWRlbnRpZnlpbmcgaW5mb3JtYXRpdmUgcGF0dGVybnMgaW4gbWVkaWNhbCBkYXRhLiJ9LCB7ImFuc3dlciI6ICJSZWNvZ25pemluZyBwYXR0ZXJucyBpbiBtZWRpY2FsIGhpc3Rvcmllcy4iLCAiY29ycmVjdCI6IHRydWUsICJmZWVkYmFjayI6ICJMREEgY2FuIGFpZCBpbiByZWNvZ25pemluZyBjb21tb24gc3RydWN0dXJlcyBhbmQgc3R5bGVzIGluIG1lZGljYWwgaGlzdG9yaWVzLCB1c2VmdWwgZm9yIGFuYWx5c2lzIGFuZCBjbGFzc2lmaWNhdGlvbi4ifSwgeyJhbnN3ZXIiOiAiQXV0b21hdGljYWxseSBkZXRlcm1pbmluZyB0aGUgY29sb3IgcGFsZXR0ZSBmb3IgaW1hZ2VzLiIsICJjb3JyZWN0IjogZmFsc2UsICJmZWVkYmFjayI6ICJMREEgaXMgbm90IGludGVuZGVkIGZvciBkZXRlcm1pbmluZyBjb2xvciBwYWxldHRlcy4gVGhpcyBvcHRpb24gZG9lcyBub3QgYWxpZ24gd2l0aCB0aGUgYXBwbGljYXRpb24gb2YgTERBIGluIG1lZGljYWwgZGlhZ25vc2lzLiJ9LCB7ImFuc3dlciI6ICJJbmNyZWFzaW5nIGRhdGEgZGltZW5zaW9uYWxpdHkgZm9yIGRldGFpbGVkIGFuYWx5c2lzLiIsICJjb3JyZWN0IjogZmFsc2UsICJmZWVkYmFjayI6ICJMREEsIG9uIHRoZSBjb250cmFyeSwgYWltcyB0byByZWR1Y2UgZGF0YSBkaW1lbnNpb25hbGl0eSwgbWFraW5nIGl0IG1vcmUgY29tcGFjdCB3aGlsZSBwcmVzZXJ2aW5nIGluZm9ybWF0aXZlbmVzcy4ifV19XQ==</span>'\n",
    "encoded_quiz3 = '<span style=\"display:none\" id=\"q_derangements_4\">W3sicXVlc3Rpb24iOiAiQ29uc2lkZXIgYSBmZWF0dXJlIG1hdHJpeCBYIG9mIGRpbWVuc2lvbiA0eDQuIElmIHdlIGFwcGx5IExpbmVhciBEaXNjcmltaW5hbnQgQW5hbHlzaXMgKExEQSkgYW5kIGNob29zZSB0aGUgdG9wIHRocmVlIGVpZ2VudmVjdG9ycyBjb3JyZXNwb25kaW5nIHRvIHRoZSBsYXJnZXN0IGVpZ2VudmFsdWVzLCB3aGF0IHdpbGwgYmUgdGhlIGRpbWVuc2lvbmFsaXR5IG9mIHRoZSBkaXNjcmltaW5hbnQgZnVuY3Rpb24gbWF0cml4IFc/IiwgInR5cGUiOiAibWFueV9jaG9pY2UiLCAiYW5zd2VyX2NvbHMiOiA1LCAiYW5zd2VycyI6IFt7ImFuc3dlciI6ICI0WDEiLCAiY29ycmVjdCI6IGZhbHNlLCAiZmVlZGJhY2siOiAiVGhpbmsgYmV0dGVyIn0sIHsiYW5zd2VyIjogIjRYMyIsICJjb3JyZWN0IjogdHJ1ZSwgImZlZWRiYWNrIjogIklmIHdlIGNob29zZSB0aHJlZSBlaWdlbnZlY3RvcnMgZm9yIGFwcGx5aW5nIExEQSB0byB0aGUgNHg0IG1hdHJpeCBYLCB0aGUgbWF0cml4IFcgd2lsbCBoYXZlIGEgZGltZW5zaW9uIG9mIDR4My4ifSwgeyJhbnN3ZXIiOiAiNFg0IiwgImNvcnJlY3QiOiBmYWxzZSwgImZlZWRiYWNrIjogIlRoaW5rIGJldHRlciJ9LCB7ImFuc3dlciI6ICIzWDMiLCAiY29ycmVjdCI6IGZhbHNlLCAiZmVlZGJhY2siOiAiVGhpbmsgYmV0dGVyIn0sIHsiYW5zd2VyIjogIjNYMSIsICJjb3JyZWN0IjogZmFsc2UsICJmZWVkYmFjayI6ICJUaGluayBiZXR0ZXIifV19XQ==</span>'\n",
    "encoded_quiz4 = '<span style=\"display:none\" id=\"q_demo_seq\">W3sicXVlc3Rpb24iOiAiSG93IG1hbnkgY2xhc3NlcyB3ZXJlIHRoZXJlIGluIHRoZSBvcmlnaW5hbCBkYXRhIGJlZm9yZSBhcHBseWluZyBMREEgZm9yIGRpbWVuc2lvbmFsaXR5IHJlZHVjdGlvbiBpbiB0aGlzIGV4YW1wbGU/IiwgInR5cGUiOiAibnVtZXJpYyIsICJwcmVjaXNpb24iOiAyLCAiYW5zd2VycyI6IFt7InR5cGUiOiAidmFsdWUiLCAidmFsdWUiOiA0LCAiY29ycmVjdCI6IHRydWUsICJmZWVkYmFjayI6ICJUaGUgb3JpZ2luYWwgZGF0YSBoYWQgNCBmZWF0dXJlcy4ifSwgeyJ0eXBlIjogImRlZmF1bHQiLCAiZmVlZGJhY2siOiAiVGhlIGFuc3dlciBpcyBpbmNvcnJlY3QhIFNjcm9sbCB1cCBmb3IgYSBoaW50LiJ9XX1d</span>'\n",
    "\n",
    "\n",
    "encoded_quizzes = [encoded_quiz1, encoded_quiz2, encoded_quiz3, encoded_quiz4]\n",
    "\n",
    "quiz_results = []\n",
    "\n",
    "for encoded_quiz in encoded_quizzes:\n",
    "    matches = re.search(r'id=\"[^\"]*\">(.*?)</span>', encoded_quiz)\n",
    "    if matches:\n",
    "        encrypted_value = matches.group(1)\n",
    "\n",
    "        decoded_quiz = b64decode(encrypted_value).decode('utf-8')\n",
    "        quiz_results.append(json.loads(decoded_quiz))\n",
    "\n",
    "quiz_result1, quiz_result2, quiz_result3, quiz_result4 = quiz_results"
   ]
  },
  {
   "cell_type": "code",
   "execution_count": 85,
   "id": "61d697b5-bc9a-49b2-aebd-469ee22a17b0",
   "metadata": {
    "tags": [
     "remove-input"
    ]
   },
   "outputs": [
    {
     "data": {
      "text/html": [
       "<div id=\"zbpapSHXAwow\" data-shufflequestions=\"False\"\n",
       "               data-shuffleanswers=\"True\"\n",
       "               data-preserveresponses=\"false\"\n",
       "               data-numquestions=\"1000000\"\n",
       "               data-maxwidth=\"600\"\n",
       "               style=\"border-radius: 10px; text-align: left\"> <style>\n",
       "#zbpapSHXAwow {\n",
       "   --jq-multiple-choice-bg: #6f78ffff;\n",
       "   --jq-mc-button-bg: #fafafa;\n",
       "   --jq-mc-button-border: #e0e0e0e0;\n",
       "   --jq-mc-button-inset-shadow: #555555;\n",
       "   --jq-many-choice-bg: #f75c03ff;\n",
       "   --jq-numeric-bg: #392061ff;\n",
       "   --jq-numeric-input-bg: #c0c0c0;\n",
       "   --jq-numeric-input-label: #101010;\n",
       "   --jq-numeric-input-shadow: #999999;\n",
       "   --jq-incorrect-color: #c80202;\n",
       "   --jq-correct-color: #009113;\n",
       "   --jq-text-color: #fafafa;\n",
       "}\n",
       "\n",
       ".Quiz {\n",
       "    max-width: 600px;\n",
       "    margin-top: 15px;\n",
       "    margin-left: auto;\n",
       "    margin-right: auto;\n",
       "    margin-bottom: 15px;\n",
       "    padding-bottom: 4px;\n",
       "    padding-top: 4px;\n",
       "    line-height: 1.1;\n",
       "    font-size: 16pt;\n",
       "    border-radius: inherit;\n",
       "}\n",
       "\n",
       ".QuizCode {\n",
       "    font-size: 14pt;\n",
       "    margin-top: 10px;\n",
       "    margin-left: 20px;\n",
       "    margin-right: 20px;\n",
       "}\n",
       "\n",
       ".QuizCode>pre {\n",
       "    padding: 4px;\n",
       "}\n",
       "\n",
       ".Answer {\n",
       "    margin: 10px 0;\n",
       "    display: grid;\n",
       "    grid-template-columns: 1fr 1fr;\n",
       "    grid-gap: 10px;\n",
       "    border-radius: inherit;\n",
       "}\n",
       "\n",
       ".Feedback {\n",
       "    font-size: 16pt;\n",
       "    text-align: center;\n",
       "    min-height: 2em;\n",
       "}\n",
       "\n",
       ".Input {\n",
       "    align: left;\n",
       "    font-size: 20pt;\n",
       "}\n",
       "\n",
       ".Input-text {\n",
       "    display: block;\n",
       "    margin: 10px;\n",
       "    color: inherit;\n",
       "    width: 140px;\n",
       "    background-color: var(--jq-numeric-input-bg);\n",
       "    color: var(--jq-text-color);\n",
       "    padding: 5px;\n",
       "    padding-left: 10px;\n",
       "    font-family: inherit;\n",
       "    font-size: 20px;\n",
       "    font-weight: inherit;\n",
       "    line-height: 20pt;\n",
       "    border: none;\n",
       "    border-radius: 0.2rem;\n",
       "    transition: box-shadow 0.1s);\n",
       "}\n",
       "\n",
       ".Input-text:focus {\n",
       "    outline: none;\n",
       "    background-color: var(--jq-numeric-input-bg);\n",
       "    box-shadow: 0.6rem 0.8rem 1.4rem -0.5rem var(--jq-numeric-input-shadow);\n",
       "}\n",
       "\n",
       ".MCButton {\n",
       "    background: var(--jq-mc-button-bg);\n",
       "    border: 1px solid var(--jq-mc-button-border);\n",
       "    border-radius: inherit;\n",
       "    padding: 10px;\n",
       "    font-size: 16px;\n",
       "    cursor: pointer;\n",
       "    text-align: center;\n",
       "    display: flex;\n",
       "    align-items: center;\n",
       "    justify-content: center;\n",
       "}\n",
       "\n",
       ".MCButton p {\n",
       "    color: inherit;\n",
       "}\n",
       "\n",
       ".MultipleChoiceQn {\n",
       "    padding: 10px;\n",
       "    background: var(--jq-multiple-choice-bg);\n",
       "    color: var(--jq-text-color);\n",
       "    border-radius: inherit;\n",
       "}\n",
       "\n",
       ".ManyChoiceQn {\n",
       "    padding: 10px;\n",
       "    background: var(--jq-many-choice-bg);\n",
       "    color: var(--jq-text-color);\n",
       "    border-radius: inherit;\n",
       "}\n",
       "\n",
       ".NumericQn {\n",
       "    padding: 10px;\n",
       "    background: var(--jq-numeric-bg);\n",
       "    color: var(--jq-text-color);\n",
       "    border-radius: inherit;\n",
       "}\n",
       "\n",
       ".NumericQn p {\n",
       "    color: inherit;\n",
       "}\n",
       "\n",
       ".InpLabel {\n",
       "    line-height: 34px;\n",
       "    float: left;\n",
       "    margin-right: 10px;\n",
       "    color: var(--jq-numeric-input-label);\n",
       "    font-size: 15pt;\n",
       "}\n",
       "\n",
       ".incorrect {\n",
       "    color: var(--jq-incorrect-color);\n",
       "}\n",
       "\n",
       ".correct {\n",
       "    color: var(--jq-correct-color);\n",
       "}\n",
       "\n",
       ".correctButton {\n",
       "    /*\n",
       "    background: var(--jq-correct-color);\n",
       "   */\n",
       "    animation: correct-anim 0.6s ease;\n",
       "    animation-fill-mode: forwards;\n",
       "    color: var(--jq-text-color);\n",
       "    box-shadow: inset 0px 0px 5px var(--jq-mc-button-inset-shadow);\n",
       "    outline: none;\n",
       "}\n",
       "\n",
       ".incorrectButton {\n",
       "    animation: incorrect-anim 0.8s ease;\n",
       "    animation-fill-mode: forwards;\n",
       "    color: var(--jq-text-color);\n",
       "    box-shadow: inset 0px 0px 5px var(--jq-mc-button-inset-shadow);\n",
       "    outline: none;\n",
       "}\n",
       "\n",
       "@keyframes incorrect-anim {\n",
       "    100% {\n",
       "        background-color: var(--jq-incorrect-color);\n",
       "    }\n",
       "}\n",
       "\n",
       "@keyframes correct-anim {\n",
       "    100% {\n",
       "        background-color: var(--jq-correct-color);\n",
       "    }\n",
       "}\n",
       "</style>"
      ],
      "text/plain": [
       "<IPython.core.display.HTML object>"
      ]
     },
     "metadata": {},
     "output_type": "display_data"
    },
    {
     "data": {
      "application/javascript": "var questionszbpapSHXAwow=[{\"question\": \"How can LDA be beneficial in medical diagnostics?\", \"type\": \"many_choice\", \"answers\": [{\"answer\": \"Increasing diagnostic accuracy.\", \"correct\": true, \"feedback\": \"LDA can highlight key features, enhancing diagnostic accuracy by identifying informative patterns in medical data.\"}, {\"answer\": \"Recognizing patterns in medical histories.\", \"correct\": true, \"feedback\": \"LDA can aid in recognizing common structures and styles in medical histories, useful for analysis and classification.\"}, {\"answer\": \"Automatically determining the color palette for images.\", \"correct\": false, \"feedback\": \"LDA is not intended for determining color palettes. This option does not align with the application of LDA in medical diagnosis.\"}, {\"answer\": \"Increasing data dimensionality for detailed analysis.\", \"correct\": false, \"feedback\": \"LDA, on the contrary, aims to reduce data dimensionality, making it more compact while preserving informativeness.\"}]}];\n    // Make a random ID\nfunction makeid(length) {\n    var result = [];\n    var characters = 'ABCDEFGHIJKLMNOPQRSTUVWXYZabcdefghijklmnopqrstuvwxyz';\n    var charactersLength = characters.length;\n    for (var i = 0; i < length; i++) {\n        result.push(characters.charAt(Math.floor(Math.random() * charactersLength)));\n    }\n    return result.join('');\n}\n\n// Choose a random subset of an array. Can also be used to shuffle the array\nfunction getRandomSubarray(arr, size) {\n    var shuffled = arr.slice(0), i = arr.length, temp, index;\n    while (i--) {\n        index = Math.floor((i + 1) * Math.random());\n        temp = shuffled[index];\n        shuffled[index] = shuffled[i];\n        shuffled[i] = temp;\n    }\n    return shuffled.slice(0, size);\n}\n\nfunction printResponses(responsesContainer) {\n    var responses=JSON.parse(responsesContainer.dataset.responses);\n    var stringResponses='<B>IMPORTANT!</B>To preserve this answer sequence for submission, when you have finalized your answers: <ol> <li> Copy the text in this cell below \"Answer String\"</li> <li> Double click on the cell directly below the Answer String, labeled \"Replace Me\"</li> <li> Select the whole \"Replace Me\" text</li> <li> Paste in your answer string and press shift-Enter.</li><li>Save the notebook using the save icon or File->Save Notebook menu item</li></ul><br><br><br><b>Answer String:</b><br> ';\n    console.log(responses);\n    responses.forEach((response, index) => {\n        if (response) {\n            console.log(index + ': ' + response);\n            stringResponses+= index + ': ' + response +\"<BR>\";\n        }\n    });\n    responsesContainer.innerHTML=stringResponses;\n}\nfunction check_mc() {\n    var id = this.id.split('-')[0];\n    //var response = this.id.split('-')[1];\n    //console.log(response);\n    //console.log(\"In check_mc(), id=\"+id);\n    //console.log(event.srcElement.id)           \n    //console.log(event.srcElement.dataset.correct)   \n    //console.log(event.srcElement.dataset.feedback)\n\n    var label = event.srcElement;\n    //console.log(label, label.nodeName);\n    var depth = 0;\n    while ((label.nodeName != \"LABEL\") && (depth < 20)) {\n        label = label.parentElement;\n        console.log(depth, label);\n        depth++;\n    }\n\n\n\n    var answers = label.parentElement.children;\n\n    //console.log(answers);\n\n\n    // Split behavior based on multiple choice vs many choice:\n    var fb = document.getElementById(\"fb\" + id);\n\n\n\n\n    if (fb.dataset.numcorrect == 1) {\n        // What follows is for the saved responses stuff\n        var outerContainer = fb.parentElement.parentElement;\n        var responsesContainer = document.getElementById(\"responses\" + outerContainer.id);\n        if (responsesContainer) {\n            //console.log(responsesContainer);\n            var response = label.firstChild.innerText;\n            if (label.querySelector(\".QuizCode\")){\n                response+= label.querySelector(\".QuizCode\").firstChild.innerText;\n            }\n            console.log(response);\n            //console.log(document.getElementById(\"quizWrap\"+id));\n            var qnum = document.getElementById(\"quizWrap\"+id).dataset.qnum;\n            console.log(\"Question \" + qnum);\n            //console.log(id, \", got numcorrect=\",fb.dataset.numcorrect);\n            var responses=JSON.parse(responsesContainer.dataset.responses);\n            console.log(responses);\n            responses[qnum]= response;\n            responsesContainer.setAttribute('data-responses', JSON.stringify(responses));\n            printResponses(responsesContainer);\n        }\n        // End code to preserve responses\n        \n        for (var i = 0; i < answers.length; i++) {\n            var child = answers[i];\n            //console.log(child);\n            child.className = \"MCButton\";\n        }\n\n\n\n        if (label.dataset.correct == \"true\") {\n            // console.log(\"Correct action\");\n            if (\"feedback\" in label.dataset) {\n                fb.textContent = jaxify(label.dataset.feedback);\n            } else {\n                fb.textContent = \"Correct!\";\n            }\n            label.classList.add(\"correctButton\");\n\n            fb.className = \"Feedback\";\n            fb.classList.add(\"correct\");\n\n        } else {\n            if (\"feedback\" in label.dataset) {\n                fb.textContent = jaxify(label.dataset.feedback);\n            } else {\n                fb.textContent = \"Incorrect -- try again.\";\n            }\n            //console.log(\"Error action\");\n            label.classList.add(\"incorrectButton\");\n            fb.className = \"Feedback\";\n            fb.classList.add(\"incorrect\");\n        }\n    }\n    else {\n        var reset = false;\n        var feedback;\n         if (label.dataset.correct == \"true\") {\n            if (\"feedback\" in label.dataset) {\n                feedback = jaxify(label.dataset.feedback);\n            } else {\n                feedback = \"Correct!\";\n            }\n            if (label.dataset.answered <= 0) {\n                if (fb.dataset.answeredcorrect < 0) {\n                    fb.dataset.answeredcorrect = 1;\n                    reset = true;\n                } else {\n                    fb.dataset.answeredcorrect++;\n                }\n                if (reset) {\n                    for (var i = 0; i < answers.length; i++) {\n                        var child = answers[i];\n                        child.className = \"MCButton\";\n                        child.dataset.answered = 0;\n                    }\n                }\n                label.classList.add(\"correctButton\");\n                label.dataset.answered = 1;\n                fb.className = \"Feedback\";\n                fb.classList.add(\"correct\");\n\n            }\n        } else {\n            if (\"feedback\" in label.dataset) {\n                feedback = jaxify(label.dataset.feedback);\n            } else {\n                feedback = \"Incorrect -- try again.\";\n            }\n            if (fb.dataset.answeredcorrect > 0) {\n                fb.dataset.answeredcorrect = -1;\n                reset = true;\n            } else {\n                fb.dataset.answeredcorrect--;\n            }\n\n            if (reset) {\n                for (var i = 0; i < answers.length; i++) {\n                    var child = answers[i];\n                    child.className = \"MCButton\";\n                    child.dataset.answered = 0;\n                }\n            }\n            label.classList.add(\"incorrectButton\");\n            fb.className = \"Feedback\";\n            fb.classList.add(\"incorrect\");\n        }\n        // What follows is for the saved responses stuff\n        var outerContainer = fb.parentElement.parentElement;\n        var responsesContainer = document.getElementById(\"responses\" + outerContainer.id);\n        if (responsesContainer) {\n            //console.log(responsesContainer);\n            var response = label.firstChild.innerText;\n            if (label.querySelector(\".QuizCode\")){\n                response+= label.querySelector(\".QuizCode\").firstChild.innerText;\n            }\n            console.log(response);\n            //console.log(document.getElementById(\"quizWrap\"+id));\n            var qnum = document.getElementById(\"quizWrap\"+id).dataset.qnum;\n            console.log(\"Question \" + qnum);\n            //console.log(id, \", got numcorrect=\",fb.dataset.numcorrect);\n            var responses=JSON.parse(responsesContainer.dataset.responses);\n            if (label.dataset.correct == \"true\") {\n                if (typeof(responses[qnum]) == \"object\"){\n                    if (!responses[qnum].includes(response))\n                        responses[qnum].push(response);\n                } else{\n                    responses[qnum]= [ response ];\n                }\n            } else {\n                responses[qnum]= response;\n            }\n            console.log(responses);\n            responsesContainer.setAttribute('data-responses', JSON.stringify(responses));\n            printResponses(responsesContainer);\n        }\n        // End save responses stuff\n\n\n\n        var numcorrect = fb.dataset.numcorrect;\n        var answeredcorrect = fb.dataset.answeredcorrect;\n        if (answeredcorrect >= 0) {\n            fb.textContent = feedback + \" [\" + answeredcorrect + \"/\" + numcorrect + \"]\";\n        } else {\n            fb.textContent = feedback + \" [\" + 0 + \"/\" + numcorrect + \"]\";\n        }\n\n\n    }\n\n    if (typeof MathJax != 'undefined') {\n        var version = MathJax.version;\n        console.log('MathJax version', version);\n        if (version[0] == \"2\") {\n            MathJax.Hub.Queue([\"Typeset\", MathJax.Hub]);\n        } else if (version[0] == \"3\") {\n            MathJax.typeset([fb]);\n        }\n    } else {\n        console.log('MathJax not detected');\n    }\n\n}\n\nfunction make_mc(qa, shuffle_answers, outerqDiv, qDiv, aDiv, id) {\n    var shuffled;\n    if (shuffle_answers == \"True\") {\n        //console.log(shuffle_answers+\" read as true\");\n        shuffled = getRandomSubarray(qa.answers, qa.answers.length);\n    } else {\n        //console.log(shuffle_answers+\" read as false\");\n        shuffled = qa.answers;\n    }\n\n\n    var num_correct = 0;\n\n\n\n    shuffled.forEach((item, index, ans_array) => {\n        //console.log(answer);\n\n        // Make input element\n        var inp = document.createElement(\"input\");\n        inp.type = \"radio\";\n        inp.id = \"quizo\" + id + index;\n        inp.style = \"display:none;\";\n        aDiv.append(inp);\n\n        //Make label for input element\n        var lab = document.createElement(\"label\");\n        lab.className = \"MCButton\";\n        lab.id = id + '-' + index;\n        lab.onclick = check_mc;\n        var aSpan = document.createElement('span');\n        aSpan.classsName = \"\";\n        //qDiv.id=\"quizQn\"+id+index;\n        if (\"answer\" in item) {\n            aSpan.innerHTML = jaxify(item.answer);\n            //aSpan.innerHTML=item.answer;\n        }\n        lab.append(aSpan);\n\n        // Create div for code inside question\n        var codeSpan;\n        if (\"code\" in item) {\n            codeSpan = document.createElement('span');\n            codeSpan.id = \"code\" + id + index;\n            codeSpan.className = \"QuizCode\";\n            var codePre = document.createElement('pre');\n            codeSpan.append(codePre);\n            var codeCode = document.createElement('code');\n            codePre.append(codeCode);\n            codeCode.innerHTML = item.code;\n            lab.append(codeSpan);\n            //console.log(codeSpan);\n        }\n\n        //lab.textContent=item.answer;\n\n        // Set the data attributes for the answer\n        lab.setAttribute('data-correct', item.correct);\n        if (item.correct) {\n            num_correct++;\n        }\n        if (\"feedback\" in item) {\n            lab.setAttribute('data-feedback', item.feedback);\n        }\n        lab.setAttribute('data-answered', 0);\n\n        aDiv.append(lab);\n\n    });\n\n    if (num_correct > 1) {\n        outerqDiv.className = \"ManyChoiceQn\";\n    } else {\n        outerqDiv.className = \"MultipleChoiceQn\";\n    }\n\n    return num_correct;\n\n}\nfunction check_numeric(ths, event) {\n\n    if (event.keyCode === 13) {\n        ths.blur();\n\n        var id = ths.id.split('-')[0];\n\n        var submission = ths.value;\n        if (submission.indexOf('/') != -1) {\n            var sub_parts = submission.split('/');\n            //console.log(sub_parts);\n            submission = sub_parts[0] / sub_parts[1];\n        }\n        //console.log(\"Reader entered\", submission);\n\n        if (\"precision\" in ths.dataset) {\n            var precision = ths.dataset.precision;\n            // console.log(\"1:\", submission)\n            submission = Math.round((1 * submission + Number.EPSILON) * 10 ** precision) / 10 ** precision;\n            // console.log(\"Rounded to \", submission, \" precision=\", precision  );\n        }\n\n\n        //console.log(\"In check_numeric(), id=\"+id);\n        //console.log(event.srcElement.id)           \n        //console.log(event.srcElement.dataset.feedback)\n\n        var fb = document.getElementById(\"fb\" + id);\n        fb.style.display = \"none\";\n        fb.textContent = \"Incorrect -- try again.\";\n\n        var answers = JSON.parse(ths.dataset.answers);\n        //console.log(answers);\n\n        var defaultFB = \"\";\n        var correct;\n        var done = false;\n        answers.every(answer => {\n            //console.log(answer.type);\n\n            correct = false;\n            // if (answer.type==\"value\"){\n            if ('value' in answer) {\n                if (submission == answer.value) {\n                    if (\"feedback\" in answer) {\n                        fb.textContent = jaxify(answer.feedback);\n                    } else {\n                        fb.textContent = jaxify(\"Correct\");\n                    }\n                    correct = answer.correct;\n                    //console.log(answer.correct);\n                    done = true;\n                }\n                // } else if (answer.type==\"range\") {\n            } else if ('range' in answer) {\n                //console.log(answer.range);\n                if ((submission >= answer.range[0]) && (submission < answer.range[1])) {\n                    fb.textContent = jaxify(answer.feedback);\n                    correct = answer.correct;\n                    //console.log(answer.correct);\n                    done = true;\n                }\n            } else if (answer.type == \"default\") {\n                defaultFB = answer.feedback;\n            }\n            if (done) {\n                return false; // Break out of loop if this has been marked correct\n            } else {\n                return true; // Keep looking for case that includes this as a correct answer\n            }\n        });\n\n        if ((!done) && (defaultFB != \"\")) {\n            fb.innerHTML = jaxify(defaultFB);\n            //console.log(\"Default feedback\", defaultFB);\n        }\n\n        fb.style.display = \"block\";\n        if (correct) {\n            ths.className = \"Input-text\";\n            ths.classList.add(\"correctButton\");\n            fb.className = \"Feedback\";\n            fb.classList.add(\"correct\");\n        } else {\n            ths.className = \"Input-text\";\n            ths.classList.add(\"incorrectButton\");\n            fb.className = \"Feedback\";\n            fb.classList.add(\"incorrect\");\n        }\n\n        // What follows is for the saved responses stuff\n        var outerContainer = fb.parentElement.parentElement;\n        var responsesContainer = document.getElementById(\"responses\" + outerContainer.id);\n        if (responsesContainer) {\n            console.log(submission);\n            var qnum = document.getElementById(\"quizWrap\"+id).dataset.qnum;\n            //console.log(\"Question \" + qnum);\n            //console.log(id, \", got numcorrect=\",fb.dataset.numcorrect);\n            var responses=JSON.parse(responsesContainer.dataset.responses);\n            console.log(responses);\n            if (submission == ths.value){\n                responses[qnum]= submission;\n            } else {\n                responses[qnum]= ths.value + \"(\" + submission +\")\";\n            }\n            responsesContainer.setAttribute('data-responses', JSON.stringify(responses));\n            printResponses(responsesContainer);\n        }\n        // End code to preserve responses\n\n        if (typeof MathJax != 'undefined') {\n            var version = MathJax.version;\n            console.log('MathJax version', version);\n            if (version[0] == \"2\") {\n                MathJax.Hub.Queue([\"Typeset\", MathJax.Hub]);\n            } else if (version[0] == \"3\") {\n                MathJax.typeset([fb]);\n            }\n        } else {\n            console.log('MathJax not detected');\n        }\n        return false;\n    }\n\n}\n\nfunction isValid(el, charC) {\n    //console.log(\"Input char: \", charC);\n    if (charC == 46) {\n        if (el.value.indexOf('.') === -1) {\n            return true;\n        } else if (el.value.indexOf('/') != -1) {\n            var parts = el.value.split('/');\n            if (parts[1].indexOf('.') === -1) {\n                return true;\n            }\n        }\n        else {\n            return false;\n        }\n    } else if (charC == 47) {\n        if (el.value.indexOf('/') === -1) {\n            if ((el.value != \"\") && (el.value != \".\")) {\n                return true;\n            } else {\n                return false;\n            }\n        } else {\n            return false;\n        }\n    } else if (charC == 45) {\n        var edex = el.value.indexOf('e');\n        if (edex == -1) {\n            edex = el.value.indexOf('E');\n        }\n\n        if (el.value == \"\") {\n            return true;\n        } else if (edex == (el.value.length - 1)) { // If just after e or E\n            return true;\n        } else {\n            return false;\n        }\n    } else if (charC == 101) { // \"e\"\n        if ((el.value.indexOf('e') === -1) && (el.value.indexOf('E') === -1) && (el.value.indexOf('/') == -1)) {\n            // Prev symbol must be digit or decimal point:\n            if (el.value.slice(-1).search(/\\d/) >= 0) {\n                return true;\n            } else if (el.value.slice(-1).search(/\\./) >= 0) {\n                return true;\n            } else {\n                return false;\n            }\n        } else {\n            return false;\n        }\n    } else {\n        if (charC > 31 && (charC < 48 || charC > 57))\n            return false;\n    }\n    return true;\n}\n\nfunction numeric_keypress(evnt) {\n    var charC = (evnt.which) ? evnt.which : evnt.keyCode;\n\n    if (charC == 13) {\n        check_numeric(this, evnt);\n    } else {\n        return isValid(this, charC);\n    }\n}\n\n\n\n\n\nfunction make_numeric(qa, outerqDiv, qDiv, aDiv, id) {\n\n\n\n    //console.log(answer);\n\n\n    outerqDiv.className = \"NumericQn\";\n    aDiv.style.display = 'block';\n\n    var lab = document.createElement(\"label\");\n    lab.className = \"InpLabel\";\n    lab.textContent = \"Type numeric answer here:\";\n    aDiv.append(lab);\n\n    var inp = document.createElement(\"input\");\n    inp.type = \"text\";\n    //inp.id=\"input-\"+id;\n    inp.id = id + \"-0\";\n    inp.className = \"Input-text\";\n    inp.setAttribute('data-answers', JSON.stringify(qa.answers));\n    if (\"precision\" in qa) {\n        inp.setAttribute('data-precision', qa.precision);\n    }\n    aDiv.append(inp);\n    //console.log(inp);\n\n    //inp.addEventListener(\"keypress\", check_numeric);\n    //inp.addEventListener(\"keypress\", numeric_keypress);\n    /*\n    inp.addEventListener(\"keypress\", function(event) {\n        return numeric_keypress(this, event);\n    }\n                        );\n                        */\n    //inp.onkeypress=\"return numeric_keypress(this, event)\";\n    inp.onkeypress = numeric_keypress;\n    inp.onpaste = event => false;\n\n    inp.addEventListener(\"focus\", function (event) {\n        this.value = \"\";\n        return false;\n    }\n    );\n\n\n}\nfunction jaxify(string) {\n    var mystring = string;\n\n    var count = 0;\n    var loc = mystring.search(/([^\\\\]|^)(\\$)/);\n\n    var count2 = 0;\n    var loc2 = mystring.search(/([^\\\\]|^)(\\$\\$)/);\n\n    //console.log(loc);\n\n    while ((loc >= 0) || (loc2 >= 0)) {\n\n        /* Have to replace all the double $$ first with current implementation */\n        if (loc2 >= 0) {\n            if (count2 % 2 == 0) {\n                mystring = mystring.replace(/([^\\\\]|^)(\\$\\$)/, \"$1\\\\[\");\n            } else {\n                mystring = mystring.replace(/([^\\\\]|^)(\\$\\$)/, \"$1\\\\]\");\n            }\n            count2++;\n        } else {\n            if (count % 2 == 0) {\n                mystring = mystring.replace(/([^\\\\]|^)(\\$)/, \"$1\\\\(\");\n            } else {\n                mystring = mystring.replace(/([^\\\\]|^)(\\$)/, \"$1\\\\)\");\n            }\n            count++;\n        }\n        loc = mystring.search(/([^\\\\]|^)(\\$)/);\n        loc2 = mystring.search(/([^\\\\]|^)(\\$\\$)/);\n        //console.log(mystring,\", loc:\",loc,\", loc2:\",loc2);\n    }\n\n    //console.log(mystring);\n    return mystring;\n}\n\n\nfunction show_questions(json, mydiv) {\n    console.log('show_questions');\n    //var mydiv=document.getElementById(myid);\n    var shuffle_questions = mydiv.dataset.shufflequestions;\n    var num_questions = mydiv.dataset.numquestions;\n    var shuffle_answers = mydiv.dataset.shuffleanswers;\n    var max_width = mydiv.dataset.maxwidth;\n\n    if (num_questions > json.length) {\n        num_questions = json.length;\n    }\n\n    var questions;\n    if ((num_questions < json.length) || (shuffle_questions == \"True\")) {\n        //console.log(num_questions+\",\"+json.length);\n        questions = getRandomSubarray(json, num_questions);\n    } else {\n        questions = json;\n    }\n\n    //console.log(\"SQ: \"+shuffle_questions+\", NQ: \" + num_questions + \", SA: \", shuffle_answers);\n\n    // Iterate over questions\n    questions.forEach((qa, index, array) => {\n        //console.log(qa.question); \n\n        var id = makeid(8);\n        //console.log(id);\n\n\n        // Create Div to contain question and answers\n        var iDiv = document.createElement('div');\n        //iDiv.id = 'quizWrap' + id + index;\n        iDiv.id = 'quizWrap' + id;\n        iDiv.className = 'Quiz';\n        iDiv.setAttribute('data-qnum', index);\n        iDiv.style.maxWidth  =max_width+\"px\";\n        mydiv.appendChild(iDiv);\n        // iDiv.innerHTML=qa.question;\n        \n        var outerqDiv = document.createElement('div');\n        outerqDiv.id = \"OuterquizQn\" + id + index;\n        // Create div to contain question part\n        var qDiv = document.createElement('div');\n        qDiv.id = \"quizQn\" + id + index;\n        \n        if (qa.question) {\n            iDiv.append(outerqDiv);\n\n            //qDiv.textContent=qa.question;\n            qDiv.innerHTML = jaxify(qa.question);\n            outerqDiv.append(qDiv);\n        }\n\n        // Create div for code inside question\n        var codeDiv;\n        if (\"code\" in qa) {\n            codeDiv = document.createElement('div');\n            codeDiv.id = \"code\" + id + index;\n            codeDiv.className = \"QuizCode\";\n            var codePre = document.createElement('pre');\n            codeDiv.append(codePre);\n            var codeCode = document.createElement('code');\n            codePre.append(codeCode);\n            codeCode.innerHTML = qa.code;\n            outerqDiv.append(codeDiv);\n            //console.log(codeDiv);\n        }\n\n\n        // Create div to contain answer part\n        var aDiv = document.createElement('div');\n        aDiv.id = \"quizAns\" + id + index;\n        aDiv.className = 'Answer';\n        iDiv.append(aDiv);\n\n        //console.log(qa.type);\n\n        var num_correct;\n        if ((qa.type == \"multiple_choice\") || (qa.type == \"many_choice\") ) {\n            num_correct = make_mc(qa, shuffle_answers, outerqDiv, qDiv, aDiv, id);\n            if (\"answer_cols\" in qa) {\n                //aDiv.style.gridTemplateColumns = 'auto '.repeat(qa.answer_cols);\n                aDiv.style.gridTemplateColumns = 'repeat(' + qa.answer_cols + ', 1fr)';\n            }\n        } else if (qa.type == \"numeric\") {\n            //console.log(\"numeric\");\n            make_numeric(qa, outerqDiv, qDiv, aDiv, id);\n        }\n\n\n        //Make div for feedback\n        var fb = document.createElement(\"div\");\n        fb.id = \"fb\" + id;\n        //fb.style=\"font-size: 20px;text-align:center;\";\n        fb.className = \"Feedback\";\n        fb.setAttribute(\"data-answeredcorrect\", 0);\n        fb.setAttribute(\"data-numcorrect\", num_correct);\n        iDiv.append(fb);\n\n\n    });\n    var preserveResponses = mydiv.dataset.preserveresponses;\n    console.log(preserveResponses);\n    console.log(preserveResponses == \"true\");\n    if (preserveResponses == \"true\") {\n        console.log(preserveResponses);\n        // Create Div to contain record of answers\n        var iDiv = document.createElement('div');\n        iDiv.id = 'responses' + mydiv.id;\n        iDiv.className = 'JCResponses';\n        // Create a place to store responses as an empty array\n        iDiv.setAttribute('data-responses', '[]');\n\n        // Dummy Text\n        iDiv.innerHTML=\"<b>Select your answers and then follow the directions that will appear here.</b>\"\n        //iDiv.className = 'Quiz';\n        mydiv.appendChild(iDiv);\n    }\n//console.log(\"At end of show_questions\");\n    if (typeof MathJax != 'undefined') {\n        console.log(\"MathJax version\", MathJax.version);\n        var version = MathJax.version;\n        setTimeout(function(){\n            var version = MathJax.version;\n            console.log('After sleep, MathJax version', version);\n            if (version[0] == \"2\") {\n                MathJax.Hub.Queue([\"Typeset\", MathJax.Hub]);\n            } else if (version[0] == \"3\") {\n                MathJax.typeset([mydiv]);\n            }\n        }, 500);\nif (typeof version == 'undefined') {\n        } else\n        {\n            if (version[0] == \"2\") {\n                MathJax.Hub.Queue([\"Typeset\", MathJax.Hub]);\n            } else if (version[0] == \"3\") {\n                MathJax.typeset([mydiv]);\n            } else {\n                console.log(\"MathJax not found\");\n            }\n        }\n    }\n    return false;\n}\n/* This is to handle asynchrony issues in loading Jupyter notebooks\n           where the quiz has been previously run. The Javascript was generally\n           being run before the div was added to the DOM. I tried to do this\n           more elegantly using Mutation Observer, but I didn't get it to work.\n\n           Someone more knowledgeable could make this better ;-) */\n\n        function try_show() {\n          if(document.getElementById(\"zbpapSHXAwow\")) {\n            show_questions(questionszbpapSHXAwow,  zbpapSHXAwow); \n          } else {\n             setTimeout(try_show, 200);\n          }\n        };\n    \n        {\n        // console.log(element);\n\n        //console.log(\"zbpapSHXAwow\");\n        // console.log(document.getElementById(\"zbpapSHXAwow\"));\n\n        try_show();\n        }\n        ",
      "text/plain": [
       "<IPython.core.display.Javascript object>"
      ]
     },
     "metadata": {},
     "output_type": "display_data"
    }
   ],
   "source": [
    "from jupyterquiz import display_quiz\n",
    "\n",
    "display_quiz(quiz_result2)"
   ]
  },
  {
   "cell_type": "markdown",
   "id": "08474587",
   "metadata": {},
   "source": [
    "# Step by Step Guide to Implementing LDA"
   ]
  },
  {
   "cell_type": "markdown",
   "id": "32d4f3d2",
   "metadata": {},
   "source": [
    "## Data Preprocessing"
   ]
  },
  {
   "cell_type": "markdown",
   "id": "89368abb",
   "metadata": {},
   "source": [
    "```{warning}\n",
    "Before applying LDA, ensure proper data preprocessing.\n",
    "```"
   ]
  },
  {
   "cell_type": "markdown",
   "id": "3e6babb0",
   "metadata": {},
   "source": [
    "1. **Handling Missing Values**\n",
    "   - Address any missing values in the dataset. Fill in missing values or remove instances with missing data to ensure a complete dataset.\n",
    "\n",
    "2. **Scaling Features**\n",
    "   - Standardize or normalize features. This step ensures that all features contribute equally to the analysis, preventing any particular feature from dominating the model due to its scale.\n",
    "\n",
    "3. **Checking Assumptions**\n",
    "   - Verify that your data meets LDA assumptions. LDA assumes that the features in each class follow a multivariate normal distribution, and the covariance matrices of different classes are equal.\n"
   ]
  },
  {
   "cell_type": "markdown",
   "id": "a63f967a",
   "metadata": {},
   "source": [
    "## Model Training"
   ]
  },
  {
   "cell_type": "markdown",
   "id": "c57b354a",
   "metadata": {},
   "source": [
    "```{admonition} Where the fun begins\n",
    ":class: note \n",
    "Now, let's delve into the details of training your LDA model.\n",
    "```"
   ]
  },
  {
   "cell_type": "markdown",
   "id": "f2276131",
   "metadata": {},
   "source": [
    "#### 1. Compute Covariance Matrices:\n",
    "\n",
    "The within-class covariance matrix $(S_W)$ and the between-class covariance matrix $(S_B)$ are calculated as follows:\n",
    "\n",
    "- Within-class covariance matrix $(S_W)$:\n",
    "\n",
    "  $$S_W = \\sum_{i=1}^{c} \\sum_{j=1}^{n_i} (x_{ij} - \\mu_i)(x_{ij} - \\mu_i)^T$$\n",
    " \n",
    "  where $(c)$ is the number of classes, $(n_i)$ is the number of samples in class $(i)$, $(x_{ij})$ is the $(j)$-th sample from class $(i)$, and $(\\mu_i)$ is the mean vector of class $(i)$.\n",
    "\n",
    "- Between-class covariance matrix $(S_B)$:\n",
    "  \n",
    "  $$S_B = \\sum_{i=1}^{c} n_i (\\mu_i - \\mu)(\\mu_i - \\mu)^T$$\n",
    "  \n",
    "  where $(c)$ is the number of classes, $(n_i)$ is the number of samples in class $(i)$, $(\\mu_i)$ is the mean vector of class $(i)$, and $(\\mu)$ is the overall mean vector."
   ]
  },
  {
   "cell_type": "code",
   "execution_count": 52,
   "id": "5af62cf2-9d52-49c2-b756-774bfbd50501",
   "metadata": {
    "ExecuteTime": {
     "end_time": "2023-12-04T17:42:51.689473Z",
     "start_time": "2023-12-04T17:42:51.245624800Z"
    },
    "scrolled": true,
    "tags": [
     "remove-input"
    ]
   },
   "outputs": [
    {
     "data": {
      "application/vnd.plotly.v1+json": {
       "config": {
        "plotlyServerURL": "https://plot.ly"
       },
       "data": [
        {
         "showscale": false,
         "type": "heatmap",
         "visible": true,
         "xaxis": "x",
         "yaxis": "y",
         "z": [
          [
           0.18241803825819,
           0.27673866204676756,
           0.011263546127484156,
           0.01647690447582709
          ],
          [
           0.27673866204676756,
           0.7614201486946116,
           0.015305366335621358,
           0.028174027998625943
          ],
          [
           0.011263546127484156,
           0.015305366335621358,
           0.009742903470325786,
           0.004540894175760759
          ],
          [
           0.01647690447582709,
           0.028174027998625943,
           0.004540894175760759,
           0.019243613841452328
          ]
         ]
        },
        {
         "showscale": false,
         "type": "heatmap",
         "visible": true,
         "xaxis": "x2",
         "yaxis": "y2",
         "z": [
          [
           1.0293704833526365,
           -0.8657023700158598,
           1.324012691015103,
           1.2731885429178036
          ],
          [
           -0.8657023700158598,
           0.728057201533665,
           -1.1134969800277355,
           -1.070753782924816
          ],
          [
           1.324012691015103,
           -1.1134969800277355,
           1.70299191041455,
           1.6376200951360627
          ],
          [
           1.2731885429178036,
           -1.070753782924816,
           1.6376200951360627,
           1.5747576718321765
          ]
         ]
        },
        {
         "showscale": false,
         "type": "heatmap",
         "visible": false,
         "xaxis": "x",
         "yaxis": "y",
         "z": [
          [
           0.3911671714247761,
           0.23759815192183817,
           0.12595944646183305,
           0.08896617011720781
          ],
          [
           0.23759815192183817,
           0.5217947133069397,
           0.10814154511386347,
           0.12485373689470104
          ],
          [
           0.12595944646183305,
           0.10814154511386347,
           0.07133456188180065,
           0.054692276185524684
          ],
          [
           0.08896617011720781,
           0.12485373689470104,
           0.054692276185524684,
           0.06775930327635234
          ]
         ]
        },
        {
         "showscale": false,
         "type": "heatmap",
         "visible": false,
         "xaxis": "x2",
         "yaxis": "y2",
         "z": [
          [
           0.012607298412750234,
           -0.07426706239586703,
           0.03203680090050408,
           0.018721276011346558
          ],
          [
           -0.07426706239586703,
           0.43749234580927165,
           -0.18872235855347497,
           -0.11028327625360132
          ],
          [
           0.03203680090050408,
           -0.18872235855347497,
           0.08140971827085063,
           0.04757322088706357
          ],
          [
           0.018721276011346558,
           -0.11028327625360132,
           0.04757322088706357,
           0.02780026013650635
          ]
         ]
        },
        {
         "showscale": false,
         "type": "heatmap",
         "visible": false,
         "xaxis": "x",
         "yaxis": "y",
         "z": [
          [
           0.5936421451992159,
           0.26152873722800507,
           0.20887173909379542,
           0.07830272897481164
          ],
          [
           0.26152873722800507,
           0.5511233612341605,
           0.09339157239265398,
           0.14432077818962522
          ],
          [
           0.20887173909379542,
           0.09339157239265398,
           0.0983968640640941,
           0.03652869948248164
          ],
          [
           0.07830272897481164,
           0.14432077818962522,
           0.03652869948248164,
           0.13070239889889027
          ]
         ]
        },
        {
         "showscale": false,
         "type": "heatmap",
         "visible": false,
         "xaxis": "x2",
         "yaxis": "y2",
         "z": [
          [
           0.8141394104500745,
           -0.17308816015995798,
           0.9200389986946915,
           0.9818426723890876
          ],
          [
           -0.17308816015995798,
           0.036798993886067964,
           -0.1956026885757052,
           -0.20874231065219404
          ],
          [
           0.9200389986946915,
           -0.1956026885757052,
           1.0397135284867025,
           1.1095563457383708
          ],
          [
           0.9818426723890876,
           -0.20874231065219404,
           1.1095563457383708,
           1.1840908583349579
          ]
         ]
        }
       ],
       "layout": {
        "annotations": [
         {
          "font": {
           "size": 16
          },
          "showarrow": false,
          "text": "Within-Class Covariance",
          "x": 0.225,
          "xanchor": "center",
          "xref": "paper",
          "y": 1,
          "yanchor": "bottom",
          "yref": "paper"
         },
         {
          "font": {
           "size": 16
          },
          "showarrow": false,
          "text": "Between-Class Covariance",
          "x": 0.775,
          "xanchor": "center",
          "xref": "paper",
          "y": 1,
          "yanchor": "bottom",
          "yref": "paper"
         }
        ],
        "height": 360,
        "margin": {
         "b": 20,
         "l": 20,
         "r": 20,
         "t": 50
        },
        "template": {
         "data": {
          "bar": [
           {
            "error_x": {
             "color": "#2a3f5f"
            },
            "error_y": {
             "color": "#2a3f5f"
            },
            "marker": {
             "line": {
              "color": "#E5ECF6",
              "width": 0.5
             },
             "pattern": {
              "fillmode": "overlay",
              "size": 10,
              "solidity": 0.2
             }
            },
            "type": "bar"
           }
          ],
          "barpolar": [
           {
            "marker": {
             "line": {
              "color": "#E5ECF6",
              "width": 0.5
             },
             "pattern": {
              "fillmode": "overlay",
              "size": 10,
              "solidity": 0.2
             }
            },
            "type": "barpolar"
           }
          ],
          "carpet": [
           {
            "aaxis": {
             "endlinecolor": "#2a3f5f",
             "gridcolor": "white",
             "linecolor": "white",
             "minorgridcolor": "white",
             "startlinecolor": "#2a3f5f"
            },
            "baxis": {
             "endlinecolor": "#2a3f5f",
             "gridcolor": "white",
             "linecolor": "white",
             "minorgridcolor": "white",
             "startlinecolor": "#2a3f5f"
            },
            "type": "carpet"
           }
          ],
          "choropleth": [
           {
            "colorbar": {
             "outlinewidth": 0,
             "ticks": ""
            },
            "type": "choropleth"
           }
          ],
          "contour": [
           {
            "colorbar": {
             "outlinewidth": 0,
             "ticks": ""
            },
            "colorscale": [
             [
              0,
              "#0d0887"
             ],
             [
              0.1111111111111111,
              "#46039f"
             ],
             [
              0.2222222222222222,
              "#7201a8"
             ],
             [
              0.3333333333333333,
              "#9c179e"
             ],
             [
              0.4444444444444444,
              "#bd3786"
             ],
             [
              0.5555555555555556,
              "#d8576b"
             ],
             [
              0.6666666666666666,
              "#ed7953"
             ],
             [
              0.7777777777777778,
              "#fb9f3a"
             ],
             [
              0.8888888888888888,
              "#fdca26"
             ],
             [
              1,
              "#f0f921"
             ]
            ],
            "type": "contour"
           }
          ],
          "contourcarpet": [
           {
            "colorbar": {
             "outlinewidth": 0,
             "ticks": ""
            },
            "type": "contourcarpet"
           }
          ],
          "heatmap": [
           {
            "colorbar": {
             "outlinewidth": 0,
             "ticks": ""
            },
            "colorscale": [
             [
              0,
              "#0d0887"
             ],
             [
              0.1111111111111111,
              "#46039f"
             ],
             [
              0.2222222222222222,
              "#7201a8"
             ],
             [
              0.3333333333333333,
              "#9c179e"
             ],
             [
              0.4444444444444444,
              "#bd3786"
             ],
             [
              0.5555555555555556,
              "#d8576b"
             ],
             [
              0.6666666666666666,
              "#ed7953"
             ],
             [
              0.7777777777777778,
              "#fb9f3a"
             ],
             [
              0.8888888888888888,
              "#fdca26"
             ],
             [
              1,
              "#f0f921"
             ]
            ],
            "type": "heatmap"
           }
          ],
          "heatmapgl": [
           {
            "colorbar": {
             "outlinewidth": 0,
             "ticks": ""
            },
            "colorscale": [
             [
              0,
              "#0d0887"
             ],
             [
              0.1111111111111111,
              "#46039f"
             ],
             [
              0.2222222222222222,
              "#7201a8"
             ],
             [
              0.3333333333333333,
              "#9c179e"
             ],
             [
              0.4444444444444444,
              "#bd3786"
             ],
             [
              0.5555555555555556,
              "#d8576b"
             ],
             [
              0.6666666666666666,
              "#ed7953"
             ],
             [
              0.7777777777777778,
              "#fb9f3a"
             ],
             [
              0.8888888888888888,
              "#fdca26"
             ],
             [
              1,
              "#f0f921"
             ]
            ],
            "type": "heatmapgl"
           }
          ],
          "histogram": [
           {
            "marker": {
             "pattern": {
              "fillmode": "overlay",
              "size": 10,
              "solidity": 0.2
             }
            },
            "type": "histogram"
           }
          ],
          "histogram2d": [
           {
            "colorbar": {
             "outlinewidth": 0,
             "ticks": ""
            },
            "colorscale": [
             [
              0,
              "#0d0887"
             ],
             [
              0.1111111111111111,
              "#46039f"
             ],
             [
              0.2222222222222222,
              "#7201a8"
             ],
             [
              0.3333333333333333,
              "#9c179e"
             ],
             [
              0.4444444444444444,
              "#bd3786"
             ],
             [
              0.5555555555555556,
              "#d8576b"
             ],
             [
              0.6666666666666666,
              "#ed7953"
             ],
             [
              0.7777777777777778,
              "#fb9f3a"
             ],
             [
              0.8888888888888888,
              "#fdca26"
             ],
             [
              1,
              "#f0f921"
             ]
            ],
            "type": "histogram2d"
           }
          ],
          "histogram2dcontour": [
           {
            "colorbar": {
             "outlinewidth": 0,
             "ticks": ""
            },
            "colorscale": [
             [
              0,
              "#0d0887"
             ],
             [
              0.1111111111111111,
              "#46039f"
             ],
             [
              0.2222222222222222,
              "#7201a8"
             ],
             [
              0.3333333333333333,
              "#9c179e"
             ],
             [
              0.4444444444444444,
              "#bd3786"
             ],
             [
              0.5555555555555556,
              "#d8576b"
             ],
             [
              0.6666666666666666,
              "#ed7953"
             ],
             [
              0.7777777777777778,
              "#fb9f3a"
             ],
             [
              0.8888888888888888,
              "#fdca26"
             ],
             [
              1,
              "#f0f921"
             ]
            ],
            "type": "histogram2dcontour"
           }
          ],
          "mesh3d": [
           {
            "colorbar": {
             "outlinewidth": 0,
             "ticks": ""
            },
            "type": "mesh3d"
           }
          ],
          "parcoords": [
           {
            "line": {
             "colorbar": {
              "outlinewidth": 0,
              "ticks": ""
             }
            },
            "type": "parcoords"
           }
          ],
          "pie": [
           {
            "automargin": true,
            "type": "pie"
           }
          ],
          "scatter": [
           {
            "fillpattern": {
             "fillmode": "overlay",
             "size": 10,
             "solidity": 0.2
            },
            "type": "scatter"
           }
          ],
          "scatter3d": [
           {
            "line": {
             "colorbar": {
              "outlinewidth": 0,
              "ticks": ""
             }
            },
            "marker": {
             "colorbar": {
              "outlinewidth": 0,
              "ticks": ""
             }
            },
            "type": "scatter3d"
           }
          ],
          "scattercarpet": [
           {
            "marker": {
             "colorbar": {
              "outlinewidth": 0,
              "ticks": ""
             }
            },
            "type": "scattercarpet"
           }
          ],
          "scattergeo": [
           {
            "marker": {
             "colorbar": {
              "outlinewidth": 0,
              "ticks": ""
             }
            },
            "type": "scattergeo"
           }
          ],
          "scattergl": [
           {
            "marker": {
             "colorbar": {
              "outlinewidth": 0,
              "ticks": ""
             }
            },
            "type": "scattergl"
           }
          ],
          "scattermapbox": [
           {
            "marker": {
             "colorbar": {
              "outlinewidth": 0,
              "ticks": ""
             }
            },
            "type": "scattermapbox"
           }
          ],
          "scatterpolar": [
           {
            "marker": {
             "colorbar": {
              "outlinewidth": 0,
              "ticks": ""
             }
            },
            "type": "scatterpolar"
           }
          ],
          "scatterpolargl": [
           {
            "marker": {
             "colorbar": {
              "outlinewidth": 0,
              "ticks": ""
             }
            },
            "type": "scatterpolargl"
           }
          ],
          "scatterternary": [
           {
            "marker": {
             "colorbar": {
              "outlinewidth": 0,
              "ticks": ""
             }
            },
            "type": "scatterternary"
           }
          ],
          "surface": [
           {
            "colorbar": {
             "outlinewidth": 0,
             "ticks": ""
            },
            "colorscale": [
             [
              0,
              "#0d0887"
             ],
             [
              0.1111111111111111,
              "#46039f"
             ],
             [
              0.2222222222222222,
              "#7201a8"
             ],
             [
              0.3333333333333333,
              "#9c179e"
             ],
             [
              0.4444444444444444,
              "#bd3786"
             ],
             [
              0.5555555555555556,
              "#d8576b"
             ],
             [
              0.6666666666666666,
              "#ed7953"
             ],
             [
              0.7777777777777778,
              "#fb9f3a"
             ],
             [
              0.8888888888888888,
              "#fdca26"
             ],
             [
              1,
              "#f0f921"
             ]
            ],
            "type": "surface"
           }
          ],
          "table": [
           {
            "cells": {
             "fill": {
              "color": "#EBF0F8"
             },
             "line": {
              "color": "white"
             }
            },
            "header": {
             "fill": {
              "color": "#C8D4E3"
             },
             "line": {
              "color": "white"
             }
            },
            "type": "table"
           }
          ]
         },
         "layout": {
          "annotationdefaults": {
           "arrowcolor": "#2a3f5f",
           "arrowhead": 0,
           "arrowwidth": 1
          },
          "autotypenumbers": "strict",
          "coloraxis": {
           "colorbar": {
            "outlinewidth": 0,
            "ticks": ""
           }
          },
          "colorscale": {
           "diverging": [
            [
             0,
             "#8e0152"
            ],
            [
             0.1,
             "#c51b7d"
            ],
            [
             0.2,
             "#de77ae"
            ],
            [
             0.3,
             "#f1b6da"
            ],
            [
             0.4,
             "#fde0ef"
            ],
            [
             0.5,
             "#f7f7f7"
            ],
            [
             0.6,
             "#e6f5d0"
            ],
            [
             0.7,
             "#b8e186"
            ],
            [
             0.8,
             "#7fbc41"
            ],
            [
             0.9,
             "#4d9221"
            ],
            [
             1,
             "#276419"
            ]
           ],
           "sequential": [
            [
             0,
             "#0d0887"
            ],
            [
             0.1111111111111111,
             "#46039f"
            ],
            [
             0.2222222222222222,
             "#7201a8"
            ],
            [
             0.3333333333333333,
             "#9c179e"
            ],
            [
             0.4444444444444444,
             "#bd3786"
            ],
            [
             0.5555555555555556,
             "#d8576b"
            ],
            [
             0.6666666666666666,
             "#ed7953"
            ],
            [
             0.7777777777777778,
             "#fb9f3a"
            ],
            [
             0.8888888888888888,
             "#fdca26"
            ],
            [
             1,
             "#f0f921"
            ]
           ],
           "sequentialminus": [
            [
             0,
             "#0d0887"
            ],
            [
             0.1111111111111111,
             "#46039f"
            ],
            [
             0.2222222222222222,
             "#7201a8"
            ],
            [
             0.3333333333333333,
             "#9c179e"
            ],
            [
             0.4444444444444444,
             "#bd3786"
            ],
            [
             0.5555555555555556,
             "#d8576b"
            ],
            [
             0.6666666666666666,
             "#ed7953"
            ],
            [
             0.7777777777777778,
             "#fb9f3a"
            ],
            [
             0.8888888888888888,
             "#fdca26"
            ],
            [
             1,
             "#f0f921"
            ]
           ]
          },
          "colorway": [
           "#636efa",
           "#EF553B",
           "#00cc96",
           "#ab63fa",
           "#FFA15A",
           "#19d3f3",
           "#FF6692",
           "#B6E880",
           "#FF97FF",
           "#FECB52"
          ],
          "font": {
           "color": "#2a3f5f"
          },
          "geo": {
           "bgcolor": "white",
           "lakecolor": "white",
           "landcolor": "#E5ECF6",
           "showlakes": true,
           "showland": true,
           "subunitcolor": "white"
          },
          "hoverlabel": {
           "align": "left"
          },
          "hovermode": "closest",
          "mapbox": {
           "style": "light"
          },
          "paper_bgcolor": "white",
          "plot_bgcolor": "#E5ECF6",
          "polar": {
           "angularaxis": {
            "gridcolor": "white",
            "linecolor": "white",
            "ticks": ""
           },
           "bgcolor": "#E5ECF6",
           "radialaxis": {
            "gridcolor": "white",
            "linecolor": "white",
            "ticks": ""
           }
          },
          "scene": {
           "xaxis": {
            "backgroundcolor": "#E5ECF6",
            "gridcolor": "white",
            "gridwidth": 2,
            "linecolor": "white",
            "showbackground": true,
            "ticks": "",
            "zerolinecolor": "white"
           },
           "yaxis": {
            "backgroundcolor": "#E5ECF6",
            "gridcolor": "white",
            "gridwidth": 2,
            "linecolor": "white",
            "showbackground": true,
            "ticks": "",
            "zerolinecolor": "white"
           },
           "zaxis": {
            "backgroundcolor": "#E5ECF6",
            "gridcolor": "white",
            "gridwidth": 2,
            "linecolor": "white",
            "showbackground": true,
            "ticks": "",
            "zerolinecolor": "white"
           }
          },
          "shapedefaults": {
           "line": {
            "color": "#2a3f5f"
           }
          },
          "ternary": {
           "aaxis": {
            "gridcolor": "white",
            "linecolor": "white",
            "ticks": ""
           },
           "baxis": {
            "gridcolor": "white",
            "linecolor": "white",
            "ticks": ""
           },
           "bgcolor": "#E5ECF6",
           "caxis": {
            "gridcolor": "white",
            "linecolor": "white",
            "ticks": ""
           }
          },
          "title": {
           "x": 0.05
          },
          "xaxis": {
           "automargin": true,
           "gridcolor": "white",
           "linecolor": "white",
           "ticks": "",
           "title": {
            "standoff": 15
           },
           "zerolinecolor": "white",
           "zerolinewidth": 2
          },
          "yaxis": {
           "automargin": true,
           "gridcolor": "white",
           "linecolor": "white",
           "ticks": "",
           "title": {
            "standoff": 15
           },
           "zerolinecolor": "white",
           "zerolinewidth": 2
          }
         }
        },
        "title": {
         "text": "Covariance Matrices Visualization",
         "x": 0.5
        },
        "updatemenus": [
         {
          "buttons": [
           {
            "args": [
             {
              "visible": [
               true,
               true,
               false,
               false,
               false,
               false
              ]
             }
            ],
            "label": "setosa",
            "method": "update"
           },
           {
            "args": [
             {
              "visible": [
               false,
               false,
               true,
               true,
               false,
               false
              ]
             }
            ],
            "label": "versicolor",
            "method": "update"
           },
           {
            "args": [
             {
              "visible": [
               false,
               false,
               false,
               false,
               true,
               true
              ]
             }
            ],
            "label": "virginica",
            "method": "update"
           }
          ],
          "direction": "down",
          "pad": {
           "r": 10,
           "t": 10
          },
          "showactive": true,
          "x": -0.1,
          "xanchor": "left",
          "y": 1.2,
          "yanchor": "top"
         }
        ],
        "width": 800,
        "xaxis": {
         "anchor": "y",
         "autorange": true,
         "domain": [
          0,
          0.45
         ],
         "range": [
          -0.5,
          3.5
         ],
         "title": {
          "text": "Feature 1"
         }
        },
        "xaxis2": {
         "anchor": "y2",
         "autorange": true,
         "domain": [
          0.55,
          1
         ],
         "range": [
          -0.5,
          3.5
         ],
         "title": {
          "text": "Feature 1"
         }
        },
        "yaxis": {
         "anchor": "x",
         "autorange": true,
         "domain": [
          0,
          1
         ],
         "range": [
          -0.5,
          3.5
         ],
         "title": {
          "text": "Feature 2"
         }
        },
        "yaxis2": {
         "anchor": "x2",
         "autorange": true,
         "domain": [
          0,
          1
         ],
         "range": [
          -0.5,
          3.5
         ],
         "title": {
          "text": "Feature 2"
         }
        }
       }
      },
      "image/png": "[encoded data removed]",
      "text/html": [
       "<div>                            <div id=\"353a0252-41bf-430d-bd92-da4766e1cdf7\" class=\"plotly-graph-div\" style=\"height:525px; width:800px;\"></div>            <script type=\"text/javascript\">                require([\"plotly\"], function(Plotly) {                    window.PLOTLYENV=window.PLOTLYENV || {};                                    if (document.getElementById(\"353a0252-41bf-430d-bd92-da4766e1cdf7\")) {                    Plotly.newPlot(                        \"353a0252-41bf-430d-bd92-da4766e1cdf7\",                        [{\"showscale\":false,\"visible\":true,\"z\":[[0.18241803825819,0.27673866204676756,0.011263546127484156,0.01647690447582709],[0.27673866204676756,0.7614201486946116,0.015305366335621358,0.028174027998625943],[0.011263546127484156,0.015305366335621358,0.009742903470325786,0.004540894175760759],[0.01647690447582709,0.028174027998625943,0.004540894175760759,0.019243613841452328]],\"type\":\"heatmap\",\"xaxis\":\"x\",\"yaxis\":\"y\"},{\"showscale\":false,\"visible\":true,\"z\":[[1.0293704833526365,-0.8657023700158598,1.324012691015103,1.2731885429178036],[-0.8657023700158598,0.728057201533665,-1.1134969800277355,-1.070753782924816],[1.324012691015103,-1.1134969800277355,1.70299191041455,1.6376200951360627],[1.2731885429178036,-1.070753782924816,1.6376200951360627,1.5747576718321765]],\"type\":\"heatmap\",\"xaxis\":\"x2\",\"yaxis\":\"y2\"},{\"showscale\":false,\"visible\":false,\"z\":[[0.3911671714247761,0.23759815192183817,0.12595944646183305,0.08896617011720781],[0.23759815192183817,0.5217947133069397,0.10814154511386347,0.12485373689470104],[0.12595944646183305,0.10814154511386347,0.07133456188180065,0.054692276185524684],[0.08896617011720781,0.12485373689470104,0.054692276185524684,0.06775930327635234]],\"type\":\"heatmap\",\"xaxis\":\"x\",\"yaxis\":\"y\"},{\"showscale\":false,\"visible\":false,\"z\":[[0.012607298412750234,-0.07426706239586703,0.03203680090050408,0.018721276011346558],[-0.07426706239586703,0.43749234580927165,-0.18872235855347497,-0.11028327625360132],[0.03203680090050408,-0.18872235855347497,0.08140971827085063,0.04757322088706357],[0.018721276011346558,-0.11028327625360132,0.04757322088706357,0.02780026013650635]],\"type\":\"heatmap\",\"xaxis\":\"x2\",\"yaxis\":\"y2\"},{\"showscale\":false,\"visible\":false,\"z\":[[0.5936421451992159,0.26152873722800507,0.20887173909379542,0.07830272897481164],[0.26152873722800507,0.5511233612341605,0.09339157239265398,0.14432077818962522],[0.20887173909379542,0.09339157239265398,0.0983968640640941,0.03652869948248164],[0.07830272897481164,0.14432077818962522,0.03652869948248164,0.13070239889889027]],\"type\":\"heatmap\",\"xaxis\":\"x\",\"yaxis\":\"y\"},{\"showscale\":false,\"visible\":false,\"z\":[[0.8141394104500745,-0.17308816015995798,0.9200389986946915,0.9818426723890876],[-0.17308816015995798,0.036798993886067964,-0.1956026885757052,-0.20874231065219404],[0.9200389986946915,-0.1956026885757052,1.0397135284867025,1.1095563457383708],[0.9818426723890876,-0.20874231065219404,1.1095563457383708,1.1840908583349579]],\"type\":\"heatmap\",\"xaxis\":\"x2\",\"yaxis\":\"y2\"}],                        {\"template\":{\"data\":{\"histogram2dcontour\":[{\"type\":\"histogram2dcontour\",\"colorbar\":{\"outlinewidth\":0,\"ticks\":\"\"},\"colorscale\":[[0.0,\"#0d0887\"],[0.1111111111111111,\"#46039f\"],[0.2222222222222222,\"#7201a8\"],[0.3333333333333333,\"#9c179e\"],[0.4444444444444444,\"#bd3786\"],[0.5555555555555556,\"#d8576b\"],[0.6666666666666666,\"#ed7953\"],[0.7777777777777778,\"#fb9f3a\"],[0.8888888888888888,\"#fdca26\"],[1.0,\"#f0f921\"]]}],\"choropleth\":[{\"type\":\"choropleth\",\"colorbar\":{\"outlinewidth\":0,\"ticks\":\"\"}}],\"histogram2d\":[{\"type\":\"histogram2d\",\"colorbar\":{\"outlinewidth\":0,\"ticks\":\"\"},\"colorscale\":[[0.0,\"#0d0887\"],[0.1111111111111111,\"#46039f\"],[0.2222222222222222,\"#7201a8\"],[0.3333333333333333,\"#9c179e\"],[0.4444444444444444,\"#bd3786\"],[0.5555555555555556,\"#d8576b\"],[0.6666666666666666,\"#ed7953\"],[0.7777777777777778,\"#fb9f3a\"],[0.8888888888888888,\"#fdca26\"],[1.0,\"#f0f921\"]]}],\"heatmap\":[{\"type\":\"heatmap\",\"colorbar\":{\"outlinewidth\":0,\"ticks\":\"\"},\"colorscale\":[[0.0,\"#0d0887\"],[0.1111111111111111,\"#46039f\"],[0.2222222222222222,\"#7201a8\"],[0.3333333333333333,\"#9c179e\"],[0.4444444444444444,\"#bd3786\"],[0.5555555555555556,\"#d8576b\"],[0.6666666666666666,\"#ed7953\"],[0.7777777777777778,\"#fb9f3a\"],[0.8888888888888888,\"#fdca26\"],[1.0,\"#f0f921\"]]}],\"heatmapgl\":[{\"type\":\"heatmapgl\",\"colorbar\":{\"outlinewidth\":0,\"ticks\":\"\"},\"colorscale\":[[0.0,\"#0d0887\"],[0.1111111111111111,\"#46039f\"],[0.2222222222222222,\"#7201a8\"],[0.3333333333333333,\"#9c179e\"],[0.4444444444444444,\"#bd3786\"],[0.5555555555555556,\"#d8576b\"],[0.6666666666666666,\"#ed7953\"],[0.7777777777777778,\"#fb9f3a\"],[0.8888888888888888,\"#fdca26\"],[1.0,\"#f0f921\"]]}],\"contourcarpet\":[{\"type\":\"contourcarpet\",\"colorbar\":{\"outlinewidth\":0,\"ticks\":\"\"}}],\"contour\":[{\"type\":\"contour\",\"colorbar\":{\"outlinewidth\":0,\"ticks\":\"\"},\"colorscale\":[[0.0,\"#0d0887\"],[0.1111111111111111,\"#46039f\"],[0.2222222222222222,\"#7201a8\"],[0.3333333333333333,\"#9c179e\"],[0.4444444444444444,\"#bd3786\"],[0.5555555555555556,\"#d8576b\"],[0.6666666666666666,\"#ed7953\"],[0.7777777777777778,\"#fb9f3a\"],[0.8888888888888888,\"#fdca26\"],[1.0,\"#f0f921\"]]}],\"surface\":[{\"type\":\"surface\",\"colorbar\":{\"outlinewidth\":0,\"ticks\":\"\"},\"colorscale\":[[0.0,\"#0d0887\"],[0.1111111111111111,\"#46039f\"],[0.2222222222222222,\"#7201a8\"],[0.3333333333333333,\"#9c179e\"],[0.4444444444444444,\"#bd3786\"],[0.5555555555555556,\"#d8576b\"],[0.6666666666666666,\"#ed7953\"],[0.7777777777777778,\"#fb9f3a\"],[0.8888888888888888,\"#fdca26\"],[1.0,\"#f0f921\"]]}],\"mesh3d\":[{\"type\":\"mesh3d\",\"colorbar\":{\"outlinewidth\":0,\"ticks\":\"\"}}],\"scatter\":[{\"fillpattern\":{\"fillmode\":\"overlay\",\"size\":10,\"solidity\":0.2},\"type\":\"scatter\"}],\"parcoords\":[{\"type\":\"parcoords\",\"line\":{\"colorbar\":{\"outlinewidth\":0,\"ticks\":\"\"}}}],\"scatterpolargl\":[{\"type\":\"scatterpolargl\",\"marker\":{\"colorbar\":{\"outlinewidth\":0,\"ticks\":\"\"}}}],\"bar\":[{\"error_x\":{\"color\":\"#2a3f5f\"},\"error_y\":{\"color\":\"#2a3f5f\"},\"marker\":{\"line\":{\"color\":\"#E5ECF6\",\"width\":0.5},\"pattern\":{\"fillmode\":\"overlay\",\"size\":10,\"solidity\":0.2}},\"type\":\"bar\"}],\"scattergeo\":[{\"type\":\"scattergeo\",\"marker\":{\"colorbar\":{\"outlinewidth\":0,\"ticks\":\"\"}}}],\"scatterpolar\":[{\"type\":\"scatterpolar\",\"marker\":{\"colorbar\":{\"outlinewidth\":0,\"ticks\":\"\"}}}],\"histogram\":[{\"marker\":{\"pattern\":{\"fillmode\":\"overlay\",\"size\":10,\"solidity\":0.2}},\"type\":\"histogram\"}],\"scattergl\":[{\"type\":\"scattergl\",\"marker\":{\"colorbar\":{\"outlinewidth\":0,\"ticks\":\"\"}}}],\"scatter3d\":[{\"type\":\"scatter3d\",\"line\":{\"colorbar\":{\"outlinewidth\":0,\"ticks\":\"\"}},\"marker\":{\"colorbar\":{\"outlinewidth\":0,\"ticks\":\"\"}}}],\"scattermapbox\":[{\"type\":\"scattermapbox\",\"marker\":{\"colorbar\":{\"outlinewidth\":0,\"ticks\":\"\"}}}],\"scatterternary\":[{\"type\":\"scatterternary\",\"marker\":{\"colorbar\":{\"outlinewidth\":0,\"ticks\":\"\"}}}],\"scattercarpet\":[{\"type\":\"scattercarpet\",\"marker\":{\"colorbar\":{\"outlinewidth\":0,\"ticks\":\"\"}}}],\"carpet\":[{\"aaxis\":{\"endlinecolor\":\"#2a3f5f\",\"gridcolor\":\"white\",\"linecolor\":\"white\",\"minorgridcolor\":\"white\",\"startlinecolor\":\"#2a3f5f\"},\"baxis\":{\"endlinecolor\":\"#2a3f5f\",\"gridcolor\":\"white\",\"linecolor\":\"white\",\"minorgridcolor\":\"white\",\"startlinecolor\":\"#2a3f5f\"},\"type\":\"carpet\"}],\"table\":[{\"cells\":{\"fill\":{\"color\":\"#EBF0F8\"},\"line\":{\"color\":\"white\"}},\"header\":{\"fill\":{\"color\":\"#C8D4E3\"},\"line\":{\"color\":\"white\"}},\"type\":\"table\"}],\"barpolar\":[{\"marker\":{\"line\":{\"color\":\"#E5ECF6\",\"width\":0.5},\"pattern\":{\"fillmode\":\"overlay\",\"size\":10,\"solidity\":0.2}},\"type\":\"barpolar\"}],\"pie\":[{\"automargin\":true,\"type\":\"pie\"}]},\"layout\":{\"autotypenumbers\":\"strict\",\"colorway\":[\"#636efa\",\"#EF553B\",\"#00cc96\",\"#ab63fa\",\"#FFA15A\",\"#19d3f3\",\"#FF6692\",\"#B6E880\",\"#FF97FF\",\"#FECB52\"],\"font\":{\"color\":\"#2a3f5f\"},\"hovermode\":\"closest\",\"hoverlabel\":{\"align\":\"left\"},\"paper_bgcolor\":\"white\",\"plot_bgcolor\":\"#E5ECF6\",\"polar\":{\"bgcolor\":\"#E5ECF6\",\"angularaxis\":{\"gridcolor\":\"white\",\"linecolor\":\"white\",\"ticks\":\"\"},\"radialaxis\":{\"gridcolor\":\"white\",\"linecolor\":\"white\",\"ticks\":\"\"}},\"ternary\":{\"bgcolor\":\"#E5ECF6\",\"aaxis\":{\"gridcolor\":\"white\",\"linecolor\":\"white\",\"ticks\":\"\"},\"baxis\":{\"gridcolor\":\"white\",\"linecolor\":\"white\",\"ticks\":\"\"},\"caxis\":{\"gridcolor\":\"white\",\"linecolor\":\"white\",\"ticks\":\"\"}},\"coloraxis\":{\"colorbar\":{\"outlinewidth\":0,\"ticks\":\"\"}},\"colorscale\":{\"sequential\":[[0.0,\"#0d0887\"],[0.1111111111111111,\"#46039f\"],[0.2222222222222222,\"#7201a8\"],[0.3333333333333333,\"#9c179e\"],[0.4444444444444444,\"#bd3786\"],[0.5555555555555556,\"#d8576b\"],[0.6666666666666666,\"#ed7953\"],[0.7777777777777778,\"#fb9f3a\"],[0.8888888888888888,\"#fdca26\"],[1.0,\"#f0f921\"]],\"sequentialminus\":[[0.0,\"#0d0887\"],[0.1111111111111111,\"#46039f\"],[0.2222222222222222,\"#7201a8\"],[0.3333333333333333,\"#9c179e\"],[0.4444444444444444,\"#bd3786\"],[0.5555555555555556,\"#d8576b\"],[0.6666666666666666,\"#ed7953\"],[0.7777777777777778,\"#fb9f3a\"],[0.8888888888888888,\"#fdca26\"],[1.0,\"#f0f921\"]],\"diverging\":[[0,\"#8e0152\"],[0.1,\"#c51b7d\"],[0.2,\"#de77ae\"],[0.3,\"#f1b6da\"],[0.4,\"#fde0ef\"],[0.5,\"#f7f7f7\"],[0.6,\"#e6f5d0\"],[0.7,\"#b8e186\"],[0.8,\"#7fbc41\"],[0.9,\"#4d9221\"],[1,\"#276419\"]]},\"xaxis\":{\"gridcolor\":\"white\",\"linecolor\":\"white\",\"ticks\":\"\",\"title\":{\"standoff\":15},\"zerolinecolor\":\"white\",\"automargin\":true,\"zerolinewidth\":2},\"yaxis\":{\"gridcolor\":\"white\",\"linecolor\":\"white\",\"ticks\":\"\",\"title\":{\"standoff\":15},\"zerolinecolor\":\"white\",\"automargin\":true,\"zerolinewidth\":2},\"scene\":{\"xaxis\":{\"backgroundcolor\":\"#E5ECF6\",\"gridcolor\":\"white\",\"linecolor\":\"white\",\"showbackground\":true,\"ticks\":\"\",\"zerolinecolor\":\"white\",\"gridwidth\":2},\"yaxis\":{\"backgroundcolor\":\"#E5ECF6\",\"gridcolor\":\"white\",\"linecolor\":\"white\",\"showbackground\":true,\"ticks\":\"\",\"zerolinecolor\":\"white\",\"gridwidth\":2},\"zaxis\":{\"backgroundcolor\":\"#E5ECF6\",\"gridcolor\":\"white\",\"linecolor\":\"white\",\"showbackground\":true,\"ticks\":\"\",\"zerolinecolor\":\"white\",\"gridwidth\":2}},\"shapedefaults\":{\"line\":{\"color\":\"#2a3f5f\"}},\"annotationdefaults\":{\"arrowcolor\":\"#2a3f5f\",\"arrowhead\":0,\"arrowwidth\":1},\"geo\":{\"bgcolor\":\"white\",\"landcolor\":\"#E5ECF6\",\"subunitcolor\":\"white\",\"showland\":true,\"showlakes\":true,\"lakecolor\":\"white\"},\"title\":{\"x\":0.05},\"mapbox\":{\"style\":\"light\"}}},\"xaxis\":{\"anchor\":\"y\",\"domain\":[0.0,0.45],\"title\":{\"text\":\"Feature 1\"}},\"yaxis\":{\"anchor\":\"x\",\"domain\":[0.0,1.0],\"title\":{\"text\":\"Feature 2\"}},\"xaxis2\":{\"anchor\":\"y2\",\"domain\":[0.55,1.0],\"title\":{\"text\":\"Feature 1\"}},\"yaxis2\":{\"anchor\":\"x2\",\"domain\":[0.0,1.0],\"title\":{\"text\":\"Feature 2\"}},\"annotations\":[{\"font\":{\"size\":16},\"showarrow\":false,\"text\":\"Within-Class Covariance\",\"x\":0.225,\"xanchor\":\"center\",\"xref\":\"paper\",\"y\":1.0,\"yanchor\":\"bottom\",\"yref\":\"paper\"},{\"font\":{\"size\":16},\"showarrow\":false,\"text\":\"Between-Class Covariance\",\"x\":0.775,\"xanchor\":\"center\",\"xref\":\"paper\",\"y\":1.0,\"yanchor\":\"bottom\",\"yref\":\"paper\"}],\"title\":{\"text\":\"Covariance Matrices Visualization\",\"x\":0.5},\"margin\":{\"l\":20,\"r\":20,\"t\":50,\"b\":20},\"width\":800,\"updatemenus\":[{\"buttons\":[{\"args\":[{\"visible\":[true,true,false,false,false,false]}],\"label\":\"setosa\",\"method\":\"update\"},{\"args\":[{\"visible\":[false,false,true,true,false,false]}],\"label\":\"versicolor\",\"method\":\"update\"},{\"args\":[{\"visible\":[false,false,false,false,true,true]}],\"label\":\"virginica\",\"method\":\"update\"}],\"direction\":\"down\",\"pad\":{\"r\":10,\"t\":10},\"showactive\":true,\"x\":-0.1,\"xanchor\":\"left\",\"y\":1.2,\"yanchor\":\"top\"}]},                        {\"responsive\": true}                    ).then(function(){\n",
       "                            \n",
       "var gd = document.getElementById('353a0252-41bf-430d-bd92-da4766e1cdf7');\n",
       "var x = new MutationObserver(function (mutations, observer) {{\n",
       "        var display = window.getComputedStyle(gd).display;\n",
       "        if (!display || display === 'none') {{\n",
       "            console.log([gd, 'removed!']);\n",
       "            Plotly.purge(gd);\n",
       "            observer.disconnect();\n",
       "        }}\n",
       "}});\n",
       "\n",
       "// Listen for the removal of the full notebook cells\n",
       "var notebookContainer = gd.closest('#notebook-container');\n",
       "if (notebookContainer) {{\n",
       "    x.observe(notebookContainer, {childList: true});\n",
       "}}\n",
       "\n",
       "// Listen for the clearing of the current output cell\n",
       "var outputEl = gd.closest('.output');\n",
       "if (outputEl) {{\n",
       "    x.observe(outputEl, {childList: true});\n",
       "}}\n",
       "\n",
       "                        })                };                });            </script>        </div>"
      ]
     },
     "metadata": {},
     "output_type": "display_data"
    }
   ],
   "source": [
    "import numpy as np\n",
    "import plotly.graph_objects as go\n",
    "from sklearn.datasets import load_iris\n",
    "from sklearn.preprocessing import StandardScaler\n",
    "from plotly.subplots import make_subplots\n",
    "\n",
    "# Load Iris dataset\n",
    "data = load_iris()\n",
    "X = data.data\n",
    "y = data.target\n",
    "target_names = data.target_names\n",
    "\n",
    "# Standardize the features\n",
    "scaler = StandardScaler()\n",
    "X_std = scaler.fit_transform(X)\n",
    "\n",
    "# Create subplots\n",
    "fig = make_subplots(rows=1, cols=2, subplot_titles=('Within-Class Covariance', 'Between-Class Covariance'))\n",
    "\n",
    "# Generate covariance matrices for each class and add them to the figure\n",
    "for class_idx in range(len(target_names)):\n",
    "    X_class = X_std[y == class_idx]\n",
    "    cov_within = np.cov(X_class, rowvar=False)\n",
    "    overall_mean = np.mean(X_std, axis=0)\n",
    "    mean_vec = np.mean(X_class, axis=0)\n",
    "    cov_between = np.outer((mean_vec - overall_mean), (mean_vec - overall_mean))\n",
    "\n",
    "    fig.add_trace(go.Heatmap(z=cov_within, showscale=False, visible=(class_idx == 0)), row=1, col=1)\n",
    "    fig.add_trace(go.Heatmap(z=cov_between, showscale=False, visible=(class_idx == 0)), row=1, col=2)\n",
    "\n",
    "fig.update_layout(\n",
    "    width=800,\n",
    "    title={\"text\": \"Covariance Matrices Visualization\", \"x\": 0.5},\n",
    "    margin=dict(l=20, r=20, t=50, b=20)  # Reduced margins\n",
    ")\n",
    "\n",
    "# Update axis labels\n",
    "fig.update_xaxes(title_text=\"Feature 1\", row=1, col=1)\n",
    "fig.update_yaxes(title_text=\"Feature 2\", row=1, col=1)\n",
    "fig.update_xaxes(title_text=\"Feature 1\", row=1, col=2)\n",
    "fig.update_yaxes(title_text=\"Feature 2\", row=1, col=2)\n",
    "\n",
    "# Create buttons for class selection\n",
    "buttons = []\n",
    "for class_idx, class_name in enumerate(target_names):\n",
    "    buttons.append(\n",
    "        dict(\n",
    "            label=class_name,\n",
    "            method=\"update\",\n",
    "            args=[{\"visible\": [False] * len(target_names) * 2}],\n",
    "        )\n",
    "    )\n",
    "    buttons[-1][\"args\"][0][\"visible\"][class_idx * 2] = True  # Within-Class Covariance\n",
    "    buttons[-1][\"args\"][0][\"visible\"][class_idx * 2 + 1] = True  # Between-Class Covariance\n",
    "\n",
    "# Add buttons to the figure layout\n",
    "fig.update_layout(\n",
    "    updatemenus=[\n",
    "        dict(\n",
    "            buttons=buttons,\n",
    "            direction=\"down\",\n",
    "            pad={\"r\": 10, \"t\": 10},\n",
    "            showactive=True,\n",
    "            x=-0.1,\n",
    "            xanchor=\"left\",\n",
    "            y=1.2,\n",
    "            yanchor=\"top\"\n",
    "        )\n",
    "    ]\n",
    ")\n",
    "\n",
    "fig.show()\n"
   ]
  },
  {
   "cell_type": "code",
   "execution_count": 24,
   "id": "67776bcf-fefa-4a8f-98fd-bab0aa975042",
   "metadata": {
    "tags": [
     "remove-input"
    ]
   },
   "outputs": [
    {
     "data": {
      "text/html": [
       "<div id=\"mOzzkZzozHIG\" data-shufflequestions=\"False\"\n",
       "               data-shuffleanswers=\"True\"\n",
       "               data-preserveresponses=\"false\"\n",
       "               data-numquestions=\"1000000\"\n",
       "               data-maxwidth=\"600\"\n",
       "               style=\"border-radius: 10px; text-align: left\"> <style>\n",
       "#mOzzkZzozHIG {\n",
       "   --jq-multiple-choice-bg: #6f78ffff;\n",
       "   --jq-mc-button-bg: #fafafa;\n",
       "   --jq-mc-button-border: #e0e0e0e0;\n",
       "   --jq-mc-button-inset-shadow: #555555;\n",
       "   --jq-many-choice-bg: #f75c03ff;\n",
       "   --jq-numeric-bg: #392061ff;\n",
       "   --jq-numeric-input-bg: #c0c0c0;\n",
       "   --jq-numeric-input-label: #101010;\n",
       "   --jq-numeric-input-shadow: #999999;\n",
       "   --jq-incorrect-color: #c80202;\n",
       "   --jq-correct-color: #009113;\n",
       "   --jq-text-color: #fafafa;\n",
       "}\n",
       "\n",
       ".Quiz {\n",
       "    max-width: 600px;\n",
       "    margin-top: 15px;\n",
       "    margin-left: auto;\n",
       "    margin-right: auto;\n",
       "    margin-bottom: 15px;\n",
       "    padding-bottom: 4px;\n",
       "    padding-top: 4px;\n",
       "    line-height: 1.1;\n",
       "    font-size: 16pt;\n",
       "    border-radius: inherit;\n",
       "}\n",
       "\n",
       ".QuizCode {\n",
       "    font-size: 14pt;\n",
       "    margin-top: 10px;\n",
       "    margin-left: 20px;\n",
       "    margin-right: 20px;\n",
       "}\n",
       "\n",
       ".QuizCode>pre {\n",
       "    padding: 4px;\n",
       "}\n",
       "\n",
       ".Answer {\n",
       "    margin: 10px 0;\n",
       "    display: grid;\n",
       "    grid-template-columns: 1fr 1fr;\n",
       "    grid-gap: 10px;\n",
       "    border-radius: inherit;\n",
       "}\n",
       "\n",
       ".Feedback {\n",
       "    font-size: 16pt;\n",
       "    text-align: center;\n",
       "    min-height: 2em;\n",
       "}\n",
       "\n",
       ".Input {\n",
       "    align: left;\n",
       "    font-size: 20pt;\n",
       "}\n",
       "\n",
       ".Input-text {\n",
       "    display: block;\n",
       "    margin: 10px;\n",
       "    color: inherit;\n",
       "    width: 140px;\n",
       "    background-color: var(--jq-numeric-input-bg);\n",
       "    color: var(--jq-text-color);\n",
       "    padding: 5px;\n",
       "    padding-left: 10px;\n",
       "    font-family: inherit;\n",
       "    font-size: 20px;\n",
       "    font-weight: inherit;\n",
       "    line-height: 20pt;\n",
       "    border: none;\n",
       "    border-radius: 0.2rem;\n",
       "    transition: box-shadow 0.1s);\n",
       "}\n",
       "\n",
       ".Input-text:focus {\n",
       "    outline: none;\n",
       "    background-color: var(--jq-numeric-input-bg);\n",
       "    box-shadow: 0.6rem 0.8rem 1.4rem -0.5rem var(--jq-numeric-input-shadow);\n",
       "}\n",
       "\n",
       ".MCButton {\n",
       "    background: var(--jq-mc-button-bg);\n",
       "    border: 1px solid var(--jq-mc-button-border);\n",
       "    border-radius: inherit;\n",
       "    padding: 10px;\n",
       "    font-size: 16px;\n",
       "    cursor: pointer;\n",
       "    text-align: center;\n",
       "    display: flex;\n",
       "    align-items: center;\n",
       "    justify-content: center;\n",
       "}\n",
       "\n",
       ".MCButton p {\n",
       "    color: inherit;\n",
       "}\n",
       "\n",
       ".MultipleChoiceQn {\n",
       "    padding: 10px;\n",
       "    background: var(--jq-multiple-choice-bg);\n",
       "    color: var(--jq-text-color);\n",
       "    border-radius: inherit;\n",
       "}\n",
       "\n",
       ".ManyChoiceQn {\n",
       "    padding: 10px;\n",
       "    background: var(--jq-many-choice-bg);\n",
       "    color: var(--jq-text-color);\n",
       "    border-radius: inherit;\n",
       "}\n",
       "\n",
       ".NumericQn {\n",
       "    padding: 10px;\n",
       "    background: var(--jq-numeric-bg);\n",
       "    color: var(--jq-text-color);\n",
       "    border-radius: inherit;\n",
       "}\n",
       "\n",
       ".NumericQn p {\n",
       "    color: inherit;\n",
       "}\n",
       "\n",
       ".InpLabel {\n",
       "    line-height: 34px;\n",
       "    float: left;\n",
       "    margin-right: 10px;\n",
       "    color: var(--jq-numeric-input-label);\n",
       "    font-size: 15pt;\n",
       "}\n",
       "\n",
       ".incorrect {\n",
       "    color: var(--jq-incorrect-color);\n",
       "}\n",
       "\n",
       ".correct {\n",
       "    color: var(--jq-correct-color);\n",
       "}\n",
       "\n",
       ".correctButton {\n",
       "    /*\n",
       "    background: var(--jq-correct-color);\n",
       "   */\n",
       "    animation: correct-anim 0.6s ease;\n",
       "    animation-fill-mode: forwards;\n",
       "    color: var(--jq-text-color);\n",
       "    box-shadow: inset 0px 0px 5px var(--jq-mc-button-inset-shadow);\n",
       "    outline: none;\n",
       "}\n",
       "\n",
       ".incorrectButton {\n",
       "    animation: incorrect-anim 0.8s ease;\n",
       "    animation-fill-mode: forwards;\n",
       "    color: var(--jq-text-color);\n",
       "    box-shadow: inset 0px 0px 5px var(--jq-mc-button-inset-shadow);\n",
       "    outline: none;\n",
       "}\n",
       "\n",
       "@keyframes incorrect-anim {\n",
       "    100% {\n",
       "        background-color: var(--jq-incorrect-color);\n",
       "    }\n",
       "}\n",
       "\n",
       "@keyframes correct-anim {\n",
       "    100% {\n",
       "        background-color: var(--jq-correct-color);\n",
       "    }\n",
       "}\n",
       "</style>"
      ],
      "text/plain": [
       "<IPython.core.display.HTML object>"
      ]
     },
     "metadata": {},
     "output_type": "display_data"
    },
    {
     "data": {
      "application/javascript": "var questionsmOzzkZzozHIG=[{\"question\": \"Consider a LDA training dataset with M = 8 features and C = 4 classes. Let's examine the weight matrix W, between-class scatter matrix S(B) and within-class scatter matrix S(W). What are the dimensions of these matrices in the context of this problem?\", \"type\": \"many_choice\", \"answers\": [{\"answer\": \"W - 8 X 3, S(B) - 8 X 8, S(W) - 8 X 8\", \"correct\": false, \"feedback\": \"Try more harder\"}, {\"answer\": \"W - 8 X 3, S(B) - 3 X 3, S(W) - 8 X 8\", \"correct\": true, \"feedback\": \"W - M X (C-1), S(B) - (C-1) X (C-1), S(W) - M X M\"}, {\"answer\": \"W - 8 X 4, S(B) - 8 X 8, S(W) - 8 X 3\", \"correct\": false, \"feedback\": \"Try more harder\"}, {\"answer\": \"W - 8 X 4, S(B) - 4 X 4, S(W) - 8 X 8\", \"correct\": false, \"feedback\": \"Try more harder\"}]}];\n    // Make a random ID\nfunction makeid(length) {\n    var result = [];\n    var characters = 'ABCDEFGHIJKLMNOPQRSTUVWXYZabcdefghijklmnopqrstuvwxyz';\n    var charactersLength = characters.length;\n    for (var i = 0; i < length; i++) {\n        result.push(characters.charAt(Math.floor(Math.random() * charactersLength)));\n    }\n    return result.join('');\n}\n\n// Choose a random subset of an array. Can also be used to shuffle the array\nfunction getRandomSubarray(arr, size) {\n    var shuffled = arr.slice(0), i = arr.length, temp, index;\n    while (i--) {\n        index = Math.floor((i + 1) * Math.random());\n        temp = shuffled[index];\n        shuffled[index] = shuffled[i];\n        shuffled[i] = temp;\n    }\n    return shuffled.slice(0, size);\n}\n\nfunction printResponses(responsesContainer) {\n    var responses=JSON.parse(responsesContainer.dataset.responses);\n    var stringResponses='<B>IMPORTANT!</B>To preserve this answer sequence for submission, when you have finalized your answers: <ol> <li> Copy the text in this cell below \"Answer String\"</li> <li> Double click on the cell directly below the Answer String, labeled \"Replace Me\"</li> <li> Select the whole \"Replace Me\" text</li> <li> Paste in your answer string and press shift-Enter.</li><li>Save the notebook using the save icon or File->Save Notebook menu item</li></ul><br><br><br><b>Answer String:</b><br> ';\n    console.log(responses);\n    responses.forEach((response, index) => {\n        if (response) {\n            console.log(index + ': ' + response);\n            stringResponses+= index + ': ' + response +\"<BR>\";\n        }\n    });\n    responsesContainer.innerHTML=stringResponses;\n}\nfunction check_mc() {\n    var id = this.id.split('-')[0];\n    //var response = this.id.split('-')[1];\n    //console.log(response);\n    //console.log(\"In check_mc(), id=\"+id);\n    //console.log(event.srcElement.id)           \n    //console.log(event.srcElement.dataset.correct)   \n    //console.log(event.srcElement.dataset.feedback)\n\n    var label = event.srcElement;\n    //console.log(label, label.nodeName);\n    var depth = 0;\n    while ((label.nodeName != \"LABEL\") && (depth < 20)) {\n        label = label.parentElement;\n        console.log(depth, label);\n        depth++;\n    }\n\n\n\n    var answers = label.parentElement.children;\n\n    //console.log(answers);\n\n\n    // Split behavior based on multiple choice vs many choice:\n    var fb = document.getElementById(\"fb\" + id);\n\n\n\n\n    if (fb.dataset.numcorrect == 1) {\n        // What follows is for the saved responses stuff\n        var outerContainer = fb.parentElement.parentElement;\n        var responsesContainer = document.getElementById(\"responses\" + outerContainer.id);\n        if (responsesContainer) {\n            //console.log(responsesContainer);\n            var response = label.firstChild.innerText;\n            if (label.querySelector(\".QuizCode\")){\n                response+= label.querySelector(\".QuizCode\").firstChild.innerText;\n            }\n            console.log(response);\n            //console.log(document.getElementById(\"quizWrap\"+id));\n            var qnum = document.getElementById(\"quizWrap\"+id).dataset.qnum;\n            console.log(\"Question \" + qnum);\n            //console.log(id, \", got numcorrect=\",fb.dataset.numcorrect);\n            var responses=JSON.parse(responsesContainer.dataset.responses);\n            console.log(responses);\n            responses[qnum]= response;\n            responsesContainer.setAttribute('data-responses', JSON.stringify(responses));\n            printResponses(responsesContainer);\n        }\n        // End code to preserve responses\n        \n        for (var i = 0; i < answers.length; i++) {\n            var child = answers[i];\n            //console.log(child);\n            child.className = \"MCButton\";\n        }\n\n\n\n        if (label.dataset.correct == \"true\") {\n            // console.log(\"Correct action\");\n            if (\"feedback\" in label.dataset) {\n                fb.textContent = jaxify(label.dataset.feedback);\n            } else {\n                fb.textContent = \"Correct!\";\n            }\n            label.classList.add(\"correctButton\");\n\n            fb.className = \"Feedback\";\n            fb.classList.add(\"correct\");\n\n        } else {\n            if (\"feedback\" in label.dataset) {\n                fb.textContent = jaxify(label.dataset.feedback);\n            } else {\n                fb.textContent = \"Incorrect -- try again.\";\n            }\n            //console.log(\"Error action\");\n            label.classList.add(\"incorrectButton\");\n            fb.className = \"Feedback\";\n            fb.classList.add(\"incorrect\");\n        }\n    }\n    else {\n        var reset = false;\n        var feedback;\n         if (label.dataset.correct == \"true\") {\n            if (\"feedback\" in label.dataset) {\n                feedback = jaxify(label.dataset.feedback);\n            } else {\n                feedback = \"Correct!\";\n            }\n            if (label.dataset.answered <= 0) {\n                if (fb.dataset.answeredcorrect < 0) {\n                    fb.dataset.answeredcorrect = 1;\n                    reset = true;\n                } else {\n                    fb.dataset.answeredcorrect++;\n                }\n                if (reset) {\n                    for (var i = 0; i < answers.length; i++) {\n                        var child = answers[i];\n                        child.className = \"MCButton\";\n                        child.dataset.answered = 0;\n                    }\n                }\n                label.classList.add(\"correctButton\");\n                label.dataset.answered = 1;\n                fb.className = \"Feedback\";\n                fb.classList.add(\"correct\");\n\n            }\n        } else {\n            if (\"feedback\" in label.dataset) {\n                feedback = jaxify(label.dataset.feedback);\n            } else {\n                feedback = \"Incorrect -- try again.\";\n            }\n            if (fb.dataset.answeredcorrect > 0) {\n                fb.dataset.answeredcorrect = -1;\n                reset = true;\n            } else {\n                fb.dataset.answeredcorrect--;\n            }\n\n            if (reset) {\n                for (var i = 0; i < answers.length; i++) {\n                    var child = answers[i];\n                    child.className = \"MCButton\";\n                    child.dataset.answered = 0;\n                }\n            }\n            label.classList.add(\"incorrectButton\");\n            fb.className = \"Feedback\";\n            fb.classList.add(\"incorrect\");\n        }\n        // What follows is for the saved responses stuff\n        var outerContainer = fb.parentElement.parentElement;\n        var responsesContainer = document.getElementById(\"responses\" + outerContainer.id);\n        if (responsesContainer) {\n            //console.log(responsesContainer);\n            var response = label.firstChild.innerText;\n            if (label.querySelector(\".QuizCode\")){\n                response+= label.querySelector(\".QuizCode\").firstChild.innerText;\n            }\n            console.log(response);\n            //console.log(document.getElementById(\"quizWrap\"+id));\n            var qnum = document.getElementById(\"quizWrap\"+id).dataset.qnum;\n            console.log(\"Question \" + qnum);\n            //console.log(id, \", got numcorrect=\",fb.dataset.numcorrect);\n            var responses=JSON.parse(responsesContainer.dataset.responses);\n            if (label.dataset.correct == \"true\") {\n                if (typeof(responses[qnum]) == \"object\"){\n                    if (!responses[qnum].includes(response))\n                        responses[qnum].push(response);\n                } else{\n                    responses[qnum]= [ response ];\n                }\n            } else {\n                responses[qnum]= response;\n            }\n            console.log(responses);\n            responsesContainer.setAttribute('data-responses', JSON.stringify(responses));\n            printResponses(responsesContainer);\n        }\n        // End save responses stuff\n\n\n\n        var numcorrect = fb.dataset.numcorrect;\n        var answeredcorrect = fb.dataset.answeredcorrect;\n        if (answeredcorrect >= 0) {\n            fb.textContent = feedback + \" [\" + answeredcorrect + \"/\" + numcorrect + \"]\";\n        } else {\n            fb.textContent = feedback + \" [\" + 0 + \"/\" + numcorrect + \"]\";\n        }\n\n\n    }\n\n    if (typeof MathJax != 'undefined') {\n        var version = MathJax.version;\n        console.log('MathJax version', version);\n        if (version[0] == \"2\") {\n            MathJax.Hub.Queue([\"Typeset\", MathJax.Hub]);\n        } else if (version[0] == \"3\") {\n            MathJax.typeset([fb]);\n        }\n    } else {\n        console.log('MathJax not detected');\n    }\n\n}\n\nfunction make_mc(qa, shuffle_answers, outerqDiv, qDiv, aDiv, id) {\n    var shuffled;\n    if (shuffle_answers == \"True\") {\n        //console.log(shuffle_answers+\" read as true\");\n        shuffled = getRandomSubarray(qa.answers, qa.answers.length);\n    } else {\n        //console.log(shuffle_answers+\" read as false\");\n        shuffled = qa.answers;\n    }\n\n\n    var num_correct = 0;\n\n\n\n    shuffled.forEach((item, index, ans_array) => {\n        //console.log(answer);\n\n        // Make input element\n        var inp = document.createElement(\"input\");\n        inp.type = \"radio\";\n        inp.id = \"quizo\" + id + index;\n        inp.style = \"display:none;\";\n        aDiv.append(inp);\n\n        //Make label for input element\n        var lab = document.createElement(\"label\");\n        lab.className = \"MCButton\";\n        lab.id = id + '-' + index;\n        lab.onclick = check_mc;\n        var aSpan = document.createElement('span');\n        aSpan.classsName = \"\";\n        //qDiv.id=\"quizQn\"+id+index;\n        if (\"answer\" in item) {\n            aSpan.innerHTML = jaxify(item.answer);\n            //aSpan.innerHTML=item.answer;\n        }\n        lab.append(aSpan);\n\n        // Create div for code inside question\n        var codeSpan;\n        if (\"code\" in item) {\n            codeSpan = document.createElement('span');\n            codeSpan.id = \"code\" + id + index;\n            codeSpan.className = \"QuizCode\";\n            var codePre = document.createElement('pre');\n            codeSpan.append(codePre);\n            var codeCode = document.createElement('code');\n            codePre.append(codeCode);\n            codeCode.innerHTML = item.code;\n            lab.append(codeSpan);\n            //console.log(codeSpan);\n        }\n\n        //lab.textContent=item.answer;\n\n        // Set the data attributes for the answer\n        lab.setAttribute('data-correct', item.correct);\n        if (item.correct) {\n            num_correct++;\n        }\n        if (\"feedback\" in item) {\n            lab.setAttribute('data-feedback', item.feedback);\n        }\n        lab.setAttribute('data-answered', 0);\n\n        aDiv.append(lab);\n\n    });\n\n    if (num_correct > 1) {\n        outerqDiv.className = \"ManyChoiceQn\";\n    } else {\n        outerqDiv.className = \"MultipleChoiceQn\";\n    }\n\n    return num_correct;\n\n}\nfunction check_numeric(ths, event) {\n\n    if (event.keyCode === 13) {\n        ths.blur();\n\n        var id = ths.id.split('-')[0];\n\n        var submission = ths.value;\n        if (submission.indexOf('/') != -1) {\n            var sub_parts = submission.split('/');\n            //console.log(sub_parts);\n            submission = sub_parts[0] / sub_parts[1];\n        }\n        //console.log(\"Reader entered\", submission);\n\n        if (\"precision\" in ths.dataset) {\n            var precision = ths.dataset.precision;\n            // console.log(\"1:\", submission)\n            submission = Math.round((1 * submission + Number.EPSILON) * 10 ** precision) / 10 ** precision;\n            // console.log(\"Rounded to \", submission, \" precision=\", precision  );\n        }\n\n\n        //console.log(\"In check_numeric(), id=\"+id);\n        //console.log(event.srcElement.id)           \n        //console.log(event.srcElement.dataset.feedback)\n\n        var fb = document.getElementById(\"fb\" + id);\n        fb.style.display = \"none\";\n        fb.textContent = \"Incorrect -- try again.\";\n\n        var answers = JSON.parse(ths.dataset.answers);\n        //console.log(answers);\n\n        var defaultFB = \"\";\n        var correct;\n        var done = false;\n        answers.every(answer => {\n            //console.log(answer.type);\n\n            correct = false;\n            // if (answer.type==\"value\"){\n            if ('value' in answer) {\n                if (submission == answer.value) {\n                    if (\"feedback\" in answer) {\n                        fb.textContent = jaxify(answer.feedback);\n                    } else {\n                        fb.textContent = jaxify(\"Correct\");\n                    }\n                    correct = answer.correct;\n                    //console.log(answer.correct);\n                    done = true;\n                }\n                // } else if (answer.type==\"range\") {\n            } else if ('range' in answer) {\n                //console.log(answer.range);\n                if ((submission >= answer.range[0]) && (submission < answer.range[1])) {\n                    fb.textContent = jaxify(answer.feedback);\n                    correct = answer.correct;\n                    //console.log(answer.correct);\n                    done = true;\n                }\n            } else if (answer.type == \"default\") {\n                defaultFB = answer.feedback;\n            }\n            if (done) {\n                return false; // Break out of loop if this has been marked correct\n            } else {\n                return true; // Keep looking for case that includes this as a correct answer\n            }\n        });\n\n        if ((!done) && (defaultFB != \"\")) {\n            fb.innerHTML = jaxify(defaultFB);\n            //console.log(\"Default feedback\", defaultFB);\n        }\n\n        fb.style.display = \"block\";\n        if (correct) {\n            ths.className = \"Input-text\";\n            ths.classList.add(\"correctButton\");\n            fb.className = \"Feedback\";\n            fb.classList.add(\"correct\");\n        } else {\n            ths.className = \"Input-text\";\n            ths.classList.add(\"incorrectButton\");\n            fb.className = \"Feedback\";\n            fb.classList.add(\"incorrect\");\n        }\n\n        // What follows is for the saved responses stuff\n        var outerContainer = fb.parentElement.parentElement;\n        var responsesContainer = document.getElementById(\"responses\" + outerContainer.id);\n        if (responsesContainer) {\n            console.log(submission);\n            var qnum = document.getElementById(\"quizWrap\"+id).dataset.qnum;\n            //console.log(\"Question \" + qnum);\n            //console.log(id, \", got numcorrect=\",fb.dataset.numcorrect);\n            var responses=JSON.parse(responsesContainer.dataset.responses);\n            console.log(responses);\n            if (submission == ths.value){\n                responses[qnum]= submission;\n            } else {\n                responses[qnum]= ths.value + \"(\" + submission +\")\";\n            }\n            responsesContainer.setAttribute('data-responses', JSON.stringify(responses));\n            printResponses(responsesContainer);\n        }\n        // End code to preserve responses\n\n        if (typeof MathJax != 'undefined') {\n            var version = MathJax.version;\n            console.log('MathJax version', version);\n            if (version[0] == \"2\") {\n                MathJax.Hub.Queue([\"Typeset\", MathJax.Hub]);\n            } else if (version[0] == \"3\") {\n                MathJax.typeset([fb]);\n            }\n        } else {\n            console.log('MathJax not detected');\n        }\n        return false;\n    }\n\n}\n\nfunction isValid(el, charC) {\n    //console.log(\"Input char: \", charC);\n    if (charC == 46) {\n        if (el.value.indexOf('.') === -1) {\n            return true;\n        } else if (el.value.indexOf('/') != -1) {\n            var parts = el.value.split('/');\n            if (parts[1].indexOf('.') === -1) {\n                return true;\n            }\n        }\n        else {\n            return false;\n        }\n    } else if (charC == 47) {\n        if (el.value.indexOf('/') === -1) {\n            if ((el.value != \"\") && (el.value != \".\")) {\n                return true;\n            } else {\n                return false;\n            }\n        } else {\n            return false;\n        }\n    } else if (charC == 45) {\n        var edex = el.value.indexOf('e');\n        if (edex == -1) {\n            edex = el.value.indexOf('E');\n        }\n\n        if (el.value == \"\") {\n            return true;\n        } else if (edex == (el.value.length - 1)) { // If just after e or E\n            return true;\n        } else {\n            return false;\n        }\n    } else if (charC == 101) { // \"e\"\n        if ((el.value.indexOf('e') === -1) && (el.value.indexOf('E') === -1) && (el.value.indexOf('/') == -1)) {\n            // Prev symbol must be digit or decimal point:\n            if (el.value.slice(-1).search(/\\d/) >= 0) {\n                return true;\n            } else if (el.value.slice(-1).search(/\\./) >= 0) {\n                return true;\n            } else {\n                return false;\n            }\n        } else {\n            return false;\n        }\n    } else {\n        if (charC > 31 && (charC < 48 || charC > 57))\n            return false;\n    }\n    return true;\n}\n\nfunction numeric_keypress(evnt) {\n    var charC = (evnt.which) ? evnt.which : evnt.keyCode;\n\n    if (charC == 13) {\n        check_numeric(this, evnt);\n    } else {\n        return isValid(this, charC);\n    }\n}\n\n\n\n\n\nfunction make_numeric(qa, outerqDiv, qDiv, aDiv, id) {\n\n\n\n    //console.log(answer);\n\n\n    outerqDiv.className = \"NumericQn\";\n    aDiv.style.display = 'block';\n\n    var lab = document.createElement(\"label\");\n    lab.className = \"InpLabel\";\n    lab.textContent = \"Type numeric answer here:\";\n    aDiv.append(lab);\n\n    var inp = document.createElement(\"input\");\n    inp.type = \"text\";\n    //inp.id=\"input-\"+id;\n    inp.id = id + \"-0\";\n    inp.className = \"Input-text\";\n    inp.setAttribute('data-answers', JSON.stringify(qa.answers));\n    if (\"precision\" in qa) {\n        inp.setAttribute('data-precision', qa.precision);\n    }\n    aDiv.append(inp);\n    //console.log(inp);\n\n    //inp.addEventListener(\"keypress\", check_numeric);\n    //inp.addEventListener(\"keypress\", numeric_keypress);\n    /*\n    inp.addEventListener(\"keypress\", function(event) {\n        return numeric_keypress(this, event);\n    }\n                        );\n                        */\n    //inp.onkeypress=\"return numeric_keypress(this, event)\";\n    inp.onkeypress = numeric_keypress;\n    inp.onpaste = event => false;\n\n    inp.addEventListener(\"focus\", function (event) {\n        this.value = \"\";\n        return false;\n    }\n    );\n\n\n}\nfunction jaxify(string) {\n    var mystring = string;\n\n    var count = 0;\n    var loc = mystring.search(/([^\\\\]|^)(\\$)/);\n\n    var count2 = 0;\n    var loc2 = mystring.search(/([^\\\\]|^)(\\$\\$)/);\n\n    //console.log(loc);\n\n    while ((loc >= 0) || (loc2 >= 0)) {\n\n        /* Have to replace all the double $$ first with current implementation */\n        if (loc2 >= 0) {\n            if (count2 % 2 == 0) {\n                mystring = mystring.replace(/([^\\\\]|^)(\\$\\$)/, \"$1\\\\[\");\n            } else {\n                mystring = mystring.replace(/([^\\\\]|^)(\\$\\$)/, \"$1\\\\]\");\n            }\n            count2++;\n        } else {\n            if (count % 2 == 0) {\n                mystring = mystring.replace(/([^\\\\]|^)(\\$)/, \"$1\\\\(\");\n            } else {\n                mystring = mystring.replace(/([^\\\\]|^)(\\$)/, \"$1\\\\)\");\n            }\n            count++;\n        }\n        loc = mystring.search(/([^\\\\]|^)(\\$)/);\n        loc2 = mystring.search(/([^\\\\]|^)(\\$\\$)/);\n        //console.log(mystring,\", loc:\",loc,\", loc2:\",loc2);\n    }\n\n    //console.log(mystring);\n    return mystring;\n}\n\n\nfunction show_questions(json, mydiv) {\n    console.log('show_questions');\n    //var mydiv=document.getElementById(myid);\n    var shuffle_questions = mydiv.dataset.shufflequestions;\n    var num_questions = mydiv.dataset.numquestions;\n    var shuffle_answers = mydiv.dataset.shuffleanswers;\n    var max_width = mydiv.dataset.maxwidth;\n\n    if (num_questions > json.length) {\n        num_questions = json.length;\n    }\n\n    var questions;\n    if ((num_questions < json.length) || (shuffle_questions == \"True\")) {\n        //console.log(num_questions+\",\"+json.length);\n        questions = getRandomSubarray(json, num_questions);\n    } else {\n        questions = json;\n    }\n\n    //console.log(\"SQ: \"+shuffle_questions+\", NQ: \" + num_questions + \", SA: \", shuffle_answers);\n\n    // Iterate over questions\n    questions.forEach((qa, index, array) => {\n        //console.log(qa.question); \n\n        var id = makeid(8);\n        //console.log(id);\n\n\n        // Create Div to contain question and answers\n        var iDiv = document.createElement('div');\n        //iDiv.id = 'quizWrap' + id + index;\n        iDiv.id = 'quizWrap' + id;\n        iDiv.className = 'Quiz';\n        iDiv.setAttribute('data-qnum', index);\n        iDiv.style.maxWidth  =max_width+\"px\";\n        mydiv.appendChild(iDiv);\n        // iDiv.innerHTML=qa.question;\n        \n        var outerqDiv = document.createElement('div');\n        outerqDiv.id = \"OuterquizQn\" + id + index;\n        // Create div to contain question part\n        var qDiv = document.createElement('div');\n        qDiv.id = \"quizQn\" + id + index;\n        \n        if (qa.question) {\n            iDiv.append(outerqDiv);\n\n            //qDiv.textContent=qa.question;\n            qDiv.innerHTML = jaxify(qa.question);\n            outerqDiv.append(qDiv);\n        }\n\n        // Create div for code inside question\n        var codeDiv;\n        if (\"code\" in qa) {\n            codeDiv = document.createElement('div');\n            codeDiv.id = \"code\" + id + index;\n            codeDiv.className = \"QuizCode\";\n            var codePre = document.createElement('pre');\n            codeDiv.append(codePre);\n            var codeCode = document.createElement('code');\n            codePre.append(codeCode);\n            codeCode.innerHTML = qa.code;\n            outerqDiv.append(codeDiv);\n            //console.log(codeDiv);\n        }\n\n\n        // Create div to contain answer part\n        var aDiv = document.createElement('div');\n        aDiv.id = \"quizAns\" + id + index;\n        aDiv.className = 'Answer';\n        iDiv.append(aDiv);\n\n        //console.log(qa.type);\n\n        var num_correct;\n        if ((qa.type == \"multiple_choice\") || (qa.type == \"many_choice\") ) {\n            num_correct = make_mc(qa, shuffle_answers, outerqDiv, qDiv, aDiv, id);\n            if (\"answer_cols\" in qa) {\n                //aDiv.style.gridTemplateColumns = 'auto '.repeat(qa.answer_cols);\n                aDiv.style.gridTemplateColumns = 'repeat(' + qa.answer_cols + ', 1fr)';\n            }\n        } else if (qa.type == \"numeric\") {\n            //console.log(\"numeric\");\n            make_numeric(qa, outerqDiv, qDiv, aDiv, id);\n        }\n\n\n        //Make div for feedback\n        var fb = document.createElement(\"div\");\n        fb.id = \"fb\" + id;\n        //fb.style=\"font-size: 20px;text-align:center;\";\n        fb.className = \"Feedback\";\n        fb.setAttribute(\"data-answeredcorrect\", 0);\n        fb.setAttribute(\"data-numcorrect\", num_correct);\n        iDiv.append(fb);\n\n\n    });\n    var preserveResponses = mydiv.dataset.preserveresponses;\n    console.log(preserveResponses);\n    console.log(preserveResponses == \"true\");\n    if (preserveResponses == \"true\") {\n        console.log(preserveResponses);\n        // Create Div to contain record of answers\n        var iDiv = document.createElement('div');\n        iDiv.id = 'responses' + mydiv.id;\n        iDiv.className = 'JCResponses';\n        // Create a place to store responses as an empty array\n        iDiv.setAttribute('data-responses', '[]');\n\n        // Dummy Text\n        iDiv.innerHTML=\"<b>Select your answers and then follow the directions that will appear here.</b>\"\n        //iDiv.className = 'Quiz';\n        mydiv.appendChild(iDiv);\n    }\n//console.log(\"At end of show_questions\");\n    if (typeof MathJax != 'undefined') {\n        console.log(\"MathJax version\", MathJax.version);\n        var version = MathJax.version;\n        setTimeout(function(){\n            var version = MathJax.version;\n            console.log('After sleep, MathJax version', version);\n            if (version[0] == \"2\") {\n                MathJax.Hub.Queue([\"Typeset\", MathJax.Hub]);\n            } else if (version[0] == \"3\") {\n                MathJax.typeset([mydiv]);\n            }\n        }, 500);\nif (typeof version == 'undefined') {\n        } else\n        {\n            if (version[0] == \"2\") {\n                MathJax.Hub.Queue([\"Typeset\", MathJax.Hub]);\n            } else if (version[0] == \"3\") {\n                MathJax.typeset([mydiv]);\n            } else {\n                console.log(\"MathJax not found\");\n            }\n        }\n    }\n    return false;\n}\n/* This is to handle asynchrony issues in loading Jupyter notebooks\n           where the quiz has been previously run. The Javascript was generally\n           being run before the div was added to the DOM. I tried to do this\n           more elegantly using Mutation Observer, but I didn't get it to work.\n\n           Someone more knowledgeable could make this better ;-) */\n\n        function try_show() {\n          if(document.getElementById(\"mOzzkZzozHIG\")) {\n            show_questions(questionsmOzzkZzozHIG,  mOzzkZzozHIG); \n          } else {\n             setTimeout(try_show, 200);\n          }\n        };\n    \n        {\n        // console.log(element);\n\n        //console.log(\"mOzzkZzozHIG\");\n        // console.log(document.getElementById(\"mOzzkZzozHIG\"));\n\n        try_show();\n        }\n        ",
      "text/plain": [
       "<IPython.core.display.Javascript object>"
      ]
     },
     "metadata": {},
     "output_type": "display_data"
    }
   ],
   "source": [
    "from jupyterquiz import display_quiz\n",
    "\n",
    "display_quiz(quiz_result1)"
   ]
  },
  {
   "cell_type": "markdown",
   "id": "cb5375a6",
   "metadata": {},
   "source": [
    "#### 2. Solve Eigenvalue Problem:\n",
    "\n",
    "Next, solve the eigenvalue problem to obtain the eigenvalues $\\lambda$ and corresponding eigenvectors $(v)$ of the matrix $(S_W^{-1}S_B)$. This involves solving the following equation:\n",
    "  \n",
    "  $$S_W^{-1}S_Bv = \\lambda v$$"
   ]
  },
  {
   "cell_type": "markdown",
   "id": "99bb519b",
   "metadata": {},
   "source": [
    "#### 3. Select Discriminant Functions:\n",
    "\n",
    "Choose the top $(k)$ eigenvectors corresponding to the $(k)$ largest eigenvalues to form the matrix $(W)$. The discriminant functions can be defined as:\n",
    "\n",
    "  $$Y = XW$$ \n",
    "\n",
    "  where $(Y)$ is the transformed feature matrix, $(X)$ is the original feature matrix, and $(W)$ contains the selected eigenvectors.\n",
    "\n",
    "These discriminant functions will serve as the basis for making predictions and defining decision boundaries in your LDA model."
   ]
  },
  {
   "cell_type": "code",
   "execution_count": 23,
   "id": "4aeec405-636f-465c-889a-d9b7c076e239",
   "metadata": {
    "tags": [
     "remove-input"
    ]
   },
   "outputs": [
    {
     "data": {
      "text/html": [
       "<div id=\"pyOnqUNxKJco\" data-shufflequestions=\"False\"\n",
       "               data-shuffleanswers=\"True\"\n",
       "               data-preserveresponses=\"false\"\n",
       "               data-numquestions=\"1000000\"\n",
       "               data-maxwidth=\"600\"\n",
       "               style=\"border-radius: 10px; text-align: left\"> <style>\n",
       "#pyOnqUNxKJco {\n",
       "   --jq-multiple-choice-bg: #6f78ffff;\n",
       "   --jq-mc-button-bg: #fafafa;\n",
       "   --jq-mc-button-border: #e0e0e0e0;\n",
       "   --jq-mc-button-inset-shadow: #555555;\n",
       "   --jq-many-choice-bg: #f75c03ff;\n",
       "   --jq-numeric-bg: #392061ff;\n",
       "   --jq-numeric-input-bg: #c0c0c0;\n",
       "   --jq-numeric-input-label: #101010;\n",
       "   --jq-numeric-input-shadow: #999999;\n",
       "   --jq-incorrect-color: #c80202;\n",
       "   --jq-correct-color: #009113;\n",
       "   --jq-text-color: #fafafa;\n",
       "}\n",
       "\n",
       ".Quiz {\n",
       "    max-width: 600px;\n",
       "    margin-top: 15px;\n",
       "    margin-left: auto;\n",
       "    margin-right: auto;\n",
       "    margin-bottom: 15px;\n",
       "    padding-bottom: 4px;\n",
       "    padding-top: 4px;\n",
       "    line-height: 1.1;\n",
       "    font-size: 16pt;\n",
       "    border-radius: inherit;\n",
       "}\n",
       "\n",
       ".QuizCode {\n",
       "    font-size: 14pt;\n",
       "    margin-top: 10px;\n",
       "    margin-left: 20px;\n",
       "    margin-right: 20px;\n",
       "}\n",
       "\n",
       ".QuizCode>pre {\n",
       "    padding: 4px;\n",
       "}\n",
       "\n",
       ".Answer {\n",
       "    margin: 10px 0;\n",
       "    display: grid;\n",
       "    grid-template-columns: 1fr 1fr;\n",
       "    grid-gap: 10px;\n",
       "    border-radius: inherit;\n",
       "}\n",
       "\n",
       ".Feedback {\n",
       "    font-size: 16pt;\n",
       "    text-align: center;\n",
       "    min-height: 2em;\n",
       "}\n",
       "\n",
       ".Input {\n",
       "    align: left;\n",
       "    font-size: 20pt;\n",
       "}\n",
       "\n",
       ".Input-text {\n",
       "    display: block;\n",
       "    margin: 10px;\n",
       "    color: inherit;\n",
       "    width: 140px;\n",
       "    background-color: var(--jq-numeric-input-bg);\n",
       "    color: var(--jq-text-color);\n",
       "    padding: 5px;\n",
       "    padding-left: 10px;\n",
       "    font-family: inherit;\n",
       "    font-size: 20px;\n",
       "    font-weight: inherit;\n",
       "    line-height: 20pt;\n",
       "    border: none;\n",
       "    border-radius: 0.2rem;\n",
       "    transition: box-shadow 0.1s);\n",
       "}\n",
       "\n",
       ".Input-text:focus {\n",
       "    outline: none;\n",
       "    background-color: var(--jq-numeric-input-bg);\n",
       "    box-shadow: 0.6rem 0.8rem 1.4rem -0.5rem var(--jq-numeric-input-shadow);\n",
       "}\n",
       "\n",
       ".MCButton {\n",
       "    background: var(--jq-mc-button-bg);\n",
       "    border: 1px solid var(--jq-mc-button-border);\n",
       "    border-radius: inherit;\n",
       "    padding: 10px;\n",
       "    font-size: 16px;\n",
       "    cursor: pointer;\n",
       "    text-align: center;\n",
       "    display: flex;\n",
       "    align-items: center;\n",
       "    justify-content: center;\n",
       "}\n",
       "\n",
       ".MCButton p {\n",
       "    color: inherit;\n",
       "}\n",
       "\n",
       ".MultipleChoiceQn {\n",
       "    padding: 10px;\n",
       "    background: var(--jq-multiple-choice-bg);\n",
       "    color: var(--jq-text-color);\n",
       "    border-radius: inherit;\n",
       "}\n",
       "\n",
       ".ManyChoiceQn {\n",
       "    padding: 10px;\n",
       "    background: var(--jq-many-choice-bg);\n",
       "    color: var(--jq-text-color);\n",
       "    border-radius: inherit;\n",
       "}\n",
       "\n",
       ".NumericQn {\n",
       "    padding: 10px;\n",
       "    background: var(--jq-numeric-bg);\n",
       "    color: var(--jq-text-color);\n",
       "    border-radius: inherit;\n",
       "}\n",
       "\n",
       ".NumericQn p {\n",
       "    color: inherit;\n",
       "}\n",
       "\n",
       ".InpLabel {\n",
       "    line-height: 34px;\n",
       "    float: left;\n",
       "    margin-right: 10px;\n",
       "    color: var(--jq-numeric-input-label);\n",
       "    font-size: 15pt;\n",
       "}\n",
       "\n",
       ".incorrect {\n",
       "    color: var(--jq-incorrect-color);\n",
       "}\n",
       "\n",
       ".correct {\n",
       "    color: var(--jq-correct-color);\n",
       "}\n",
       "\n",
       ".correctButton {\n",
       "    /*\n",
       "    background: var(--jq-correct-color);\n",
       "   */\n",
       "    animation: correct-anim 0.6s ease;\n",
       "    animation-fill-mode: forwards;\n",
       "    color: var(--jq-text-color);\n",
       "    box-shadow: inset 0px 0px 5px var(--jq-mc-button-inset-shadow);\n",
       "    outline: none;\n",
       "}\n",
       "\n",
       ".incorrectButton {\n",
       "    animation: incorrect-anim 0.8s ease;\n",
       "    animation-fill-mode: forwards;\n",
       "    color: var(--jq-text-color);\n",
       "    box-shadow: inset 0px 0px 5px var(--jq-mc-button-inset-shadow);\n",
       "    outline: none;\n",
       "}\n",
       "\n",
       "@keyframes incorrect-anim {\n",
       "    100% {\n",
       "        background-color: var(--jq-incorrect-color);\n",
       "    }\n",
       "}\n",
       "\n",
       "@keyframes correct-anim {\n",
       "    100% {\n",
       "        background-color: var(--jq-correct-color);\n",
       "    }\n",
       "}\n",
       "</style>"
      ],
      "text/plain": [
       "<IPython.core.display.HTML object>"
      ]
     },
     "metadata": {},
     "output_type": "display_data"
    },
    {
     "data": {
      "application/javascript": "var questionspyOnqUNxKJco=[{\"question\": \"Consider a feature matrix X of dimension 4x4. If we apply Linear Discriminant Analysis (LDA) and choose the top three eigenvectors corresponding to the largest eigenvalues, what will be the dimensionality of the discriminant function matrix W?\", \"type\": \"many_choice\", \"answer_cols\": 5, \"answers\": [{\"answer\": \"4X1\", \"correct\": false, \"feedback\": \"Think better\"}, {\"answer\": \"4X3\", \"correct\": true, \"feedback\": \"If we choose three eigenvectors for applying LDA to the 4x4 matrix X, the matrix W will have a dimension of 4x3.\"}, {\"answer\": \"4X4\", \"correct\": false, \"feedback\": \"Think better\"}, {\"answer\": \"3X3\", \"correct\": false, \"feedback\": \"Think better\"}, {\"answer\": \"3X1\", \"correct\": false, \"feedback\": \"Think better\"}]}];\n    // Make a random ID\nfunction makeid(length) {\n    var result = [];\n    var characters = 'ABCDEFGHIJKLMNOPQRSTUVWXYZabcdefghijklmnopqrstuvwxyz';\n    var charactersLength = characters.length;\n    for (var i = 0; i < length; i++) {\n        result.push(characters.charAt(Math.floor(Math.random() * charactersLength)));\n    }\n    return result.join('');\n}\n\n// Choose a random subset of an array. Can also be used to shuffle the array\nfunction getRandomSubarray(arr, size) {\n    var shuffled = arr.slice(0), i = arr.length, temp, index;\n    while (i--) {\n        index = Math.floor((i + 1) * Math.random());\n        temp = shuffled[index];\n        shuffled[index] = shuffled[i];\n        shuffled[i] = temp;\n    }\n    return shuffled.slice(0, size);\n}\n\nfunction printResponses(responsesContainer) {\n    var responses=JSON.parse(responsesContainer.dataset.responses);\n    var stringResponses='<B>IMPORTANT!</B>To preserve this answer sequence for submission, when you have finalized your answers: <ol> <li> Copy the text in this cell below \"Answer String\"</li> <li> Double click on the cell directly below the Answer String, labeled \"Replace Me\"</li> <li> Select the whole \"Replace Me\" text</li> <li> Paste in your answer string and press shift-Enter.</li><li>Save the notebook using the save icon or File->Save Notebook menu item</li></ul><br><br><br><b>Answer String:</b><br> ';\n    console.log(responses);\n    responses.forEach((response, index) => {\n        if (response) {\n            console.log(index + ': ' + response);\n            stringResponses+= index + ': ' + response +\"<BR>\";\n        }\n    });\n    responsesContainer.innerHTML=stringResponses;\n}\nfunction check_mc() {\n    var id = this.id.split('-')[0];\n    //var response = this.id.split('-')[1];\n    //console.log(response);\n    //console.log(\"In check_mc(), id=\"+id);\n    //console.log(event.srcElement.id)           \n    //console.log(event.srcElement.dataset.correct)   \n    //console.log(event.srcElement.dataset.feedback)\n\n    var label = event.srcElement;\n    //console.log(label, label.nodeName);\n    var depth = 0;\n    while ((label.nodeName != \"LABEL\") && (depth < 20)) {\n        label = label.parentElement;\n        console.log(depth, label);\n        depth++;\n    }\n\n\n\n    var answers = label.parentElement.children;\n\n    //console.log(answers);\n\n\n    // Split behavior based on multiple choice vs many choice:\n    var fb = document.getElementById(\"fb\" + id);\n\n\n\n\n    if (fb.dataset.numcorrect == 1) {\n        // What follows is for the saved responses stuff\n        var outerContainer = fb.parentElement.parentElement;\n        var responsesContainer = document.getElementById(\"responses\" + outerContainer.id);\n        if (responsesContainer) {\n            //console.log(responsesContainer);\n            var response = label.firstChild.innerText;\n            if (label.querySelector(\".QuizCode\")){\n                response+= label.querySelector(\".QuizCode\").firstChild.innerText;\n            }\n            console.log(response);\n            //console.log(document.getElementById(\"quizWrap\"+id));\n            var qnum = document.getElementById(\"quizWrap\"+id).dataset.qnum;\n            console.log(\"Question \" + qnum);\n            //console.log(id, \", got numcorrect=\",fb.dataset.numcorrect);\n            var responses=JSON.parse(responsesContainer.dataset.responses);\n            console.log(responses);\n            responses[qnum]= response;\n            responsesContainer.setAttribute('data-responses', JSON.stringify(responses));\n            printResponses(responsesContainer);\n        }\n        // End code to preserve responses\n        \n        for (var i = 0; i < answers.length; i++) {\n            var child = answers[i];\n            //console.log(child);\n            child.className = \"MCButton\";\n        }\n\n\n\n        if (label.dataset.correct == \"true\") {\n            // console.log(\"Correct action\");\n            if (\"feedback\" in label.dataset) {\n                fb.textContent = jaxify(label.dataset.feedback);\n            } else {\n                fb.textContent = \"Correct!\";\n            }\n            label.classList.add(\"correctButton\");\n\n            fb.className = \"Feedback\";\n            fb.classList.add(\"correct\");\n\n        } else {\n            if (\"feedback\" in label.dataset) {\n                fb.textContent = jaxify(label.dataset.feedback);\n            } else {\n                fb.textContent = \"Incorrect -- try again.\";\n            }\n            //console.log(\"Error action\");\n            label.classList.add(\"incorrectButton\");\n            fb.className = \"Feedback\";\n            fb.classList.add(\"incorrect\");\n        }\n    }\n    else {\n        var reset = false;\n        var feedback;\n         if (label.dataset.correct == \"true\") {\n            if (\"feedback\" in label.dataset) {\n                feedback = jaxify(label.dataset.feedback);\n            } else {\n                feedback = \"Correct!\";\n            }\n            if (label.dataset.answered <= 0) {\n                if (fb.dataset.answeredcorrect < 0) {\n                    fb.dataset.answeredcorrect = 1;\n                    reset = true;\n                } else {\n                    fb.dataset.answeredcorrect++;\n                }\n                if (reset) {\n                    for (var i = 0; i < answers.length; i++) {\n                        var child = answers[i];\n                        child.className = \"MCButton\";\n                        child.dataset.answered = 0;\n                    }\n                }\n                label.classList.add(\"correctButton\");\n                label.dataset.answered = 1;\n                fb.className = \"Feedback\";\n                fb.classList.add(\"correct\");\n\n            }\n        } else {\n            if (\"feedback\" in label.dataset) {\n                feedback = jaxify(label.dataset.feedback);\n            } else {\n                feedback = \"Incorrect -- try again.\";\n            }\n            if (fb.dataset.answeredcorrect > 0) {\n                fb.dataset.answeredcorrect = -1;\n                reset = true;\n            } else {\n                fb.dataset.answeredcorrect--;\n            }\n\n            if (reset) {\n                for (var i = 0; i < answers.length; i++) {\n                    var child = answers[i];\n                    child.className = \"MCButton\";\n                    child.dataset.answered = 0;\n                }\n            }\n            label.classList.add(\"incorrectButton\");\n            fb.className = \"Feedback\";\n            fb.classList.add(\"incorrect\");\n        }\n        // What follows is for the saved responses stuff\n        var outerContainer = fb.parentElement.parentElement;\n        var responsesContainer = document.getElementById(\"responses\" + outerContainer.id);\n        if (responsesContainer) {\n            //console.log(responsesContainer);\n            var response = label.firstChild.innerText;\n            if (label.querySelector(\".QuizCode\")){\n                response+= label.querySelector(\".QuizCode\").firstChild.innerText;\n            }\n            console.log(response);\n            //console.log(document.getElementById(\"quizWrap\"+id));\n            var qnum = document.getElementById(\"quizWrap\"+id).dataset.qnum;\n            console.log(\"Question \" + qnum);\n            //console.log(id, \", got numcorrect=\",fb.dataset.numcorrect);\n            var responses=JSON.parse(responsesContainer.dataset.responses);\n            if (label.dataset.correct == \"true\") {\n                if (typeof(responses[qnum]) == \"object\"){\n                    if (!responses[qnum].includes(response))\n                        responses[qnum].push(response);\n                } else{\n                    responses[qnum]= [ response ];\n                }\n            } else {\n                responses[qnum]= response;\n            }\n            console.log(responses);\n            responsesContainer.setAttribute('data-responses', JSON.stringify(responses));\n            printResponses(responsesContainer);\n        }\n        // End save responses stuff\n\n\n\n        var numcorrect = fb.dataset.numcorrect;\n        var answeredcorrect = fb.dataset.answeredcorrect;\n        if (answeredcorrect >= 0) {\n            fb.textContent = feedback + \" [\" + answeredcorrect + \"/\" + numcorrect + \"]\";\n        } else {\n            fb.textContent = feedback + \" [\" + 0 + \"/\" + numcorrect + \"]\";\n        }\n\n\n    }\n\n    if (typeof MathJax != 'undefined') {\n        var version = MathJax.version;\n        console.log('MathJax version', version);\n        if (version[0] == \"2\") {\n            MathJax.Hub.Queue([\"Typeset\", MathJax.Hub]);\n        } else if (version[0] == \"3\") {\n            MathJax.typeset([fb]);\n        }\n    } else {\n        console.log('MathJax not detected');\n    }\n\n}\n\nfunction make_mc(qa, shuffle_answers, outerqDiv, qDiv, aDiv, id) {\n    var shuffled;\n    if (shuffle_answers == \"True\") {\n        //console.log(shuffle_answers+\" read as true\");\n        shuffled = getRandomSubarray(qa.answers, qa.answers.length);\n    } else {\n        //console.log(shuffle_answers+\" read as false\");\n        shuffled = qa.answers;\n    }\n\n\n    var num_correct = 0;\n\n\n\n    shuffled.forEach((item, index, ans_array) => {\n        //console.log(answer);\n\n        // Make input element\n        var inp = document.createElement(\"input\");\n        inp.type = \"radio\";\n        inp.id = \"quizo\" + id + index;\n        inp.style = \"display:none;\";\n        aDiv.append(inp);\n\n        //Make label for input element\n        var lab = document.createElement(\"label\");\n        lab.className = \"MCButton\";\n        lab.id = id + '-' + index;\n        lab.onclick = check_mc;\n        var aSpan = document.createElement('span');\n        aSpan.classsName = \"\";\n        //qDiv.id=\"quizQn\"+id+index;\n        if (\"answer\" in item) {\n            aSpan.innerHTML = jaxify(item.answer);\n            //aSpan.innerHTML=item.answer;\n        }\n        lab.append(aSpan);\n\n        // Create div for code inside question\n        var codeSpan;\n        if (\"code\" in item) {\n            codeSpan = document.createElement('span');\n            codeSpan.id = \"code\" + id + index;\n            codeSpan.className = \"QuizCode\";\n            var codePre = document.createElement('pre');\n            codeSpan.append(codePre);\n            var codeCode = document.createElement('code');\n            codePre.append(codeCode);\n            codeCode.innerHTML = item.code;\n            lab.append(codeSpan);\n            //console.log(codeSpan);\n        }\n\n        //lab.textContent=item.answer;\n\n        // Set the data attributes for the answer\n        lab.setAttribute('data-correct', item.correct);\n        if (item.correct) {\n            num_correct++;\n        }\n        if (\"feedback\" in item) {\n            lab.setAttribute('data-feedback', item.feedback);\n        }\n        lab.setAttribute('data-answered', 0);\n\n        aDiv.append(lab);\n\n    });\n\n    if (num_correct > 1) {\n        outerqDiv.className = \"ManyChoiceQn\";\n    } else {\n        outerqDiv.className = \"MultipleChoiceQn\";\n    }\n\n    return num_correct;\n\n}\nfunction check_numeric(ths, event) {\n\n    if (event.keyCode === 13) {\n        ths.blur();\n\n        var id = ths.id.split('-')[0];\n\n        var submission = ths.value;\n        if (submission.indexOf('/') != -1) {\n            var sub_parts = submission.split('/');\n            //console.log(sub_parts);\n            submission = sub_parts[0] / sub_parts[1];\n        }\n        //console.log(\"Reader entered\", submission);\n\n        if (\"precision\" in ths.dataset) {\n            var precision = ths.dataset.precision;\n            // console.log(\"1:\", submission)\n            submission = Math.round((1 * submission + Number.EPSILON) * 10 ** precision) / 10 ** precision;\n            // console.log(\"Rounded to \", submission, \" precision=\", precision  );\n        }\n\n\n        //console.log(\"In check_numeric(), id=\"+id);\n        //console.log(event.srcElement.id)           \n        //console.log(event.srcElement.dataset.feedback)\n\n        var fb = document.getElementById(\"fb\" + id);\n        fb.style.display = \"none\";\n        fb.textContent = \"Incorrect -- try again.\";\n\n        var answers = JSON.parse(ths.dataset.answers);\n        //console.log(answers);\n\n        var defaultFB = \"\";\n        var correct;\n        var done = false;\n        answers.every(answer => {\n            //console.log(answer.type);\n\n            correct = false;\n            // if (answer.type==\"value\"){\n            if ('value' in answer) {\n                if (submission == answer.value) {\n                    if (\"feedback\" in answer) {\n                        fb.textContent = jaxify(answer.feedback);\n                    } else {\n                        fb.textContent = jaxify(\"Correct\");\n                    }\n                    correct = answer.correct;\n                    //console.log(answer.correct);\n                    done = true;\n                }\n                // } else if (answer.type==\"range\") {\n            } else if ('range' in answer) {\n                //console.log(answer.range);\n                if ((submission >= answer.range[0]) && (submission < answer.range[1])) {\n                    fb.textContent = jaxify(answer.feedback);\n                    correct = answer.correct;\n                    //console.log(answer.correct);\n                    done = true;\n                }\n            } else if (answer.type == \"default\") {\n                defaultFB = answer.feedback;\n            }\n            if (done) {\n                return false; // Break out of loop if this has been marked correct\n            } else {\n                return true; // Keep looking for case that includes this as a correct answer\n            }\n        });\n\n        if ((!done) && (defaultFB != \"\")) {\n            fb.innerHTML = jaxify(defaultFB);\n            //console.log(\"Default feedback\", defaultFB);\n        }\n\n        fb.style.display = \"block\";\n        if (correct) {\n            ths.className = \"Input-text\";\n            ths.classList.add(\"correctButton\");\n            fb.className = \"Feedback\";\n            fb.classList.add(\"correct\");\n        } else {\n            ths.className = \"Input-text\";\n            ths.classList.add(\"incorrectButton\");\n            fb.className = \"Feedback\";\n            fb.classList.add(\"incorrect\");\n        }\n\n        // What follows is for the saved responses stuff\n        var outerContainer = fb.parentElement.parentElement;\n        var responsesContainer = document.getElementById(\"responses\" + outerContainer.id);\n        if (responsesContainer) {\n            console.log(submission);\n            var qnum = document.getElementById(\"quizWrap\"+id).dataset.qnum;\n            //console.log(\"Question \" + qnum);\n            //console.log(id, \", got numcorrect=\",fb.dataset.numcorrect);\n            var responses=JSON.parse(responsesContainer.dataset.responses);\n            console.log(responses);\n            if (submission == ths.value){\n                responses[qnum]= submission;\n            } else {\n                responses[qnum]= ths.value + \"(\" + submission +\")\";\n            }\n            responsesContainer.setAttribute('data-responses', JSON.stringify(responses));\n            printResponses(responsesContainer);\n        }\n        // End code to preserve responses\n\n        if (typeof MathJax != 'undefined') {\n            var version = MathJax.version;\n            console.log('MathJax version', version);\n            if (version[0] == \"2\") {\n                MathJax.Hub.Queue([\"Typeset\", MathJax.Hub]);\n            } else if (version[0] == \"3\") {\n                MathJax.typeset([fb]);\n            }\n        } else {\n            console.log('MathJax not detected');\n        }\n        return false;\n    }\n\n}\n\nfunction isValid(el, charC) {\n    //console.log(\"Input char: \", charC);\n    if (charC == 46) {\n        if (el.value.indexOf('.') === -1) {\n            return true;\n        } else if (el.value.indexOf('/') != -1) {\n            var parts = el.value.split('/');\n            if (parts[1].indexOf('.') === -1) {\n                return true;\n            }\n        }\n        else {\n            return false;\n        }\n    } else if (charC == 47) {\n        if (el.value.indexOf('/') === -1) {\n            if ((el.value != \"\") && (el.value != \".\")) {\n                return true;\n            } else {\n                return false;\n            }\n        } else {\n            return false;\n        }\n    } else if (charC == 45) {\n        var edex = el.value.indexOf('e');\n        if (edex == -1) {\n            edex = el.value.indexOf('E');\n        }\n\n        if (el.value == \"\") {\n            return true;\n        } else if (edex == (el.value.length - 1)) { // If just after e or E\n            return true;\n        } else {\n            return false;\n        }\n    } else if (charC == 101) { // \"e\"\n        if ((el.value.indexOf('e') === -1) && (el.value.indexOf('E') === -1) && (el.value.indexOf('/') == -1)) {\n            // Prev symbol must be digit or decimal point:\n            if (el.value.slice(-1).search(/\\d/) >= 0) {\n                return true;\n            } else if (el.value.slice(-1).search(/\\./) >= 0) {\n                return true;\n            } else {\n                return false;\n            }\n        } else {\n            return false;\n        }\n    } else {\n        if (charC > 31 && (charC < 48 || charC > 57))\n            return false;\n    }\n    return true;\n}\n\nfunction numeric_keypress(evnt) {\n    var charC = (evnt.which) ? evnt.which : evnt.keyCode;\n\n    if (charC == 13) {\n        check_numeric(this, evnt);\n    } else {\n        return isValid(this, charC);\n    }\n}\n\n\n\n\n\nfunction make_numeric(qa, outerqDiv, qDiv, aDiv, id) {\n\n\n\n    //console.log(answer);\n\n\n    outerqDiv.className = \"NumericQn\";\n    aDiv.style.display = 'block';\n\n    var lab = document.createElement(\"label\");\n    lab.className = \"InpLabel\";\n    lab.textContent = \"Type numeric answer here:\";\n    aDiv.append(lab);\n\n    var inp = document.createElement(\"input\");\n    inp.type = \"text\";\n    //inp.id=\"input-\"+id;\n    inp.id = id + \"-0\";\n    inp.className = \"Input-text\";\n    inp.setAttribute('data-answers', JSON.stringify(qa.answers));\n    if (\"precision\" in qa) {\n        inp.setAttribute('data-precision', qa.precision);\n    }\n    aDiv.append(inp);\n    //console.log(inp);\n\n    //inp.addEventListener(\"keypress\", check_numeric);\n    //inp.addEventListener(\"keypress\", numeric_keypress);\n    /*\n    inp.addEventListener(\"keypress\", function(event) {\n        return numeric_keypress(this, event);\n    }\n                        );\n                        */\n    //inp.onkeypress=\"return numeric_keypress(this, event)\";\n    inp.onkeypress = numeric_keypress;\n    inp.onpaste = event => false;\n\n    inp.addEventListener(\"focus\", function (event) {\n        this.value = \"\";\n        return false;\n    }\n    );\n\n\n}\nfunction jaxify(string) {\n    var mystring = string;\n\n    var count = 0;\n    var loc = mystring.search(/([^\\\\]|^)(\\$)/);\n\n    var count2 = 0;\n    var loc2 = mystring.search(/([^\\\\]|^)(\\$\\$)/);\n\n    //console.log(loc);\n\n    while ((loc >= 0) || (loc2 >= 0)) {\n\n        /* Have to replace all the double $$ first with current implementation */\n        if (loc2 >= 0) {\n            if (count2 % 2 == 0) {\n                mystring = mystring.replace(/([^\\\\]|^)(\\$\\$)/, \"$1\\\\[\");\n            } else {\n                mystring = mystring.replace(/([^\\\\]|^)(\\$\\$)/, \"$1\\\\]\");\n            }\n            count2++;\n        } else {\n            if (count % 2 == 0) {\n                mystring = mystring.replace(/([^\\\\]|^)(\\$)/, \"$1\\\\(\");\n            } else {\n                mystring = mystring.replace(/([^\\\\]|^)(\\$)/, \"$1\\\\)\");\n            }\n            count++;\n        }\n        loc = mystring.search(/([^\\\\]|^)(\\$)/);\n        loc2 = mystring.search(/([^\\\\]|^)(\\$\\$)/);\n        //console.log(mystring,\", loc:\",loc,\", loc2:\",loc2);\n    }\n\n    //console.log(mystring);\n    return mystring;\n}\n\n\nfunction show_questions(json, mydiv) {\n    console.log('show_questions');\n    //var mydiv=document.getElementById(myid);\n    var shuffle_questions = mydiv.dataset.shufflequestions;\n    var num_questions = mydiv.dataset.numquestions;\n    var shuffle_answers = mydiv.dataset.shuffleanswers;\n    var max_width = mydiv.dataset.maxwidth;\n\n    if (num_questions > json.length) {\n        num_questions = json.length;\n    }\n\n    var questions;\n    if ((num_questions < json.length) || (shuffle_questions == \"True\")) {\n        //console.log(num_questions+\",\"+json.length);\n        questions = getRandomSubarray(json, num_questions);\n    } else {\n        questions = json;\n    }\n\n    //console.log(\"SQ: \"+shuffle_questions+\", NQ: \" + num_questions + \", SA: \", shuffle_answers);\n\n    // Iterate over questions\n    questions.forEach((qa, index, array) => {\n        //console.log(qa.question); \n\n        var id = makeid(8);\n        //console.log(id);\n\n\n        // Create Div to contain question and answers\n        var iDiv = document.createElement('div');\n        //iDiv.id = 'quizWrap' + id + index;\n        iDiv.id = 'quizWrap' + id;\n        iDiv.className = 'Quiz';\n        iDiv.setAttribute('data-qnum', index);\n        iDiv.style.maxWidth  =max_width+\"px\";\n        mydiv.appendChild(iDiv);\n        // iDiv.innerHTML=qa.question;\n        \n        var outerqDiv = document.createElement('div');\n        outerqDiv.id = \"OuterquizQn\" + id + index;\n        // Create div to contain question part\n        var qDiv = document.createElement('div');\n        qDiv.id = \"quizQn\" + id + index;\n        \n        if (qa.question) {\n            iDiv.append(outerqDiv);\n\n            //qDiv.textContent=qa.question;\n            qDiv.innerHTML = jaxify(qa.question);\n            outerqDiv.append(qDiv);\n        }\n\n        // Create div for code inside question\n        var codeDiv;\n        if (\"code\" in qa) {\n            codeDiv = document.createElement('div');\n            codeDiv.id = \"code\" + id + index;\n            codeDiv.className = \"QuizCode\";\n            var codePre = document.createElement('pre');\n            codeDiv.append(codePre);\n            var codeCode = document.createElement('code');\n            codePre.append(codeCode);\n            codeCode.innerHTML = qa.code;\n            outerqDiv.append(codeDiv);\n            //console.log(codeDiv);\n        }\n\n\n        // Create div to contain answer part\n        var aDiv = document.createElement('div');\n        aDiv.id = \"quizAns\" + id + index;\n        aDiv.className = 'Answer';\n        iDiv.append(aDiv);\n\n        //console.log(qa.type);\n\n        var num_correct;\n        if ((qa.type == \"multiple_choice\") || (qa.type == \"many_choice\") ) {\n            num_correct = make_mc(qa, shuffle_answers, outerqDiv, qDiv, aDiv, id);\n            if (\"answer_cols\" in qa) {\n                //aDiv.style.gridTemplateColumns = 'auto '.repeat(qa.answer_cols);\n                aDiv.style.gridTemplateColumns = 'repeat(' + qa.answer_cols + ', 1fr)';\n            }\n        } else if (qa.type == \"numeric\") {\n            //console.log(\"numeric\");\n            make_numeric(qa, outerqDiv, qDiv, aDiv, id);\n        }\n\n\n        //Make div for feedback\n        var fb = document.createElement(\"div\");\n        fb.id = \"fb\" + id;\n        //fb.style=\"font-size: 20px;text-align:center;\";\n        fb.className = \"Feedback\";\n        fb.setAttribute(\"data-answeredcorrect\", 0);\n        fb.setAttribute(\"data-numcorrect\", num_correct);\n        iDiv.append(fb);\n\n\n    });\n    var preserveResponses = mydiv.dataset.preserveresponses;\n    console.log(preserveResponses);\n    console.log(preserveResponses == \"true\");\n    if (preserveResponses == \"true\") {\n        console.log(preserveResponses);\n        // Create Div to contain record of answers\n        var iDiv = document.createElement('div');\n        iDiv.id = 'responses' + mydiv.id;\n        iDiv.className = 'JCResponses';\n        // Create a place to store responses as an empty array\n        iDiv.setAttribute('data-responses', '[]');\n\n        // Dummy Text\n        iDiv.innerHTML=\"<b>Select your answers and then follow the directions that will appear here.</b>\"\n        //iDiv.className = 'Quiz';\n        mydiv.appendChild(iDiv);\n    }\n//console.log(\"At end of show_questions\");\n    if (typeof MathJax != 'undefined') {\n        console.log(\"MathJax version\", MathJax.version);\n        var version = MathJax.version;\n        setTimeout(function(){\n            var version = MathJax.version;\n            console.log('After sleep, MathJax version', version);\n            if (version[0] == \"2\") {\n                MathJax.Hub.Queue([\"Typeset\", MathJax.Hub]);\n            } else if (version[0] == \"3\") {\n                MathJax.typeset([mydiv]);\n            }\n        }, 500);\nif (typeof version == 'undefined') {\n        } else\n        {\n            if (version[0] == \"2\") {\n                MathJax.Hub.Queue([\"Typeset\", MathJax.Hub]);\n            } else if (version[0] == \"3\") {\n                MathJax.typeset([mydiv]);\n            } else {\n                console.log(\"MathJax not found\");\n            }\n        }\n    }\n    return false;\n}\n/* This is to handle asynchrony issues in loading Jupyter notebooks\n           where the quiz has been previously run. The Javascript was generally\n           being run before the div was added to the DOM. I tried to do this\n           more elegantly using Mutation Observer, but I didn't get it to work.\n\n           Someone more knowledgeable could make this better ;-) */\n\n        function try_show() {\n          if(document.getElementById(\"pyOnqUNxKJco\")) {\n            show_questions(questionspyOnqUNxKJco,  pyOnqUNxKJco); \n          } else {\n             setTimeout(try_show, 200);\n          }\n        };\n    \n        {\n        // console.log(element);\n\n        //console.log(\"pyOnqUNxKJco\");\n        // console.log(document.getElementById(\"pyOnqUNxKJco\"));\n\n        try_show();\n        }\n        ",
      "text/plain": [
       "<IPython.core.display.Javascript object>"
      ]
     },
     "metadata": {},
     "output_type": "display_data"
    }
   ],
   "source": [
    "from jupyterquiz import display_quiz\n",
    "\n",
    "display_quiz(quiz_result3)"
   ]
  },
  {
   "cell_type": "markdown",
   "id": "74489122",
   "metadata": {},
   "source": [
    "## Evaluation Metrics\n",
    "\n",
    "After training your LDA model, it's crucial to assess its performance using various evaluation metrics. These metrics provide insights into how well the model generalizes to new, unseen data.\n",
    "{ref}`Classification Metrics we have seen so far <classification-metrics>`\n",
    "\n"
   ]
  },
  {
   "cell_type": "markdown",
   "id": "7890abca",
   "metadata": {},
   "source": [
    "```{admonition} Remember\n",
    ":class: Warning \n",
    "Evaluating your model using these metrics is crucial to understanding its strengths and weaknesses, guiding potential improvements, and ensuring its suitability for real-world applications.\n",
    "```"
   ]
  },
  {
   "cell_type": "markdown",
   "id": "3b65d690",
   "metadata": {},
   "source": [
    "## LDA Implementation"
   ]
  },
  {
   "cell_type": "markdown",
   "id": "9181ac53",
   "metadata": {},
   "source": [
    "```{admonition} Try it\n",
    ":class: tip\n",
    "Feel free to adapt the code to your specific dataset and requirements."
   ]
  },
  {
   "cell_type": "markdown",
   "id": "cdf2fcea-6814-447c-befd-975b0551229f",
   "metadata": {},
   "source": [
    "Let's use LDA Classification for the **Iris dataset**"
   ]
  },
  {
   "cell_type": "code",
   "execution_count": 3,
   "id": "59a265a5",
   "metadata": {
    "ExecuteTime": {
     "end_time": "2023-12-04T08:51:15.976667200Z",
     "start_time": "2023-12-04T08:51:15.968996500Z"
    }
   },
   "outputs": [
    {
     "data": {
      "text/html": [
       "<div>\n",
       "<style scoped>\n",
       "    .dataframe tbody tr th:only-of-type {\n",
       "        vertical-align: middle;\n",
       "    }\n",
       "\n",
       "    .dataframe tbody tr th {\n",
       "        vertical-align: top;\n",
       "    }\n",
       "\n",
       "    .dataframe thead th {\n",
       "        text-align: right;\n",
       "    }\n",
       "</style>\n",
       "<table border=\"1\" class=\"dataframe\">\n",
       "  <thead>\n",
       "    <tr style=\"text-align: right;\">\n",
       "      <th></th>\n",
       "      <th>sepal_length</th>\n",
       "      <th>sepal_width</th>\n",
       "      <th>petal_length</th>\n",
       "      <th>petal_width</th>\n",
       "      <th>species</th>\n",
       "    </tr>\n",
       "  </thead>\n",
       "  <tbody>\n",
       "    <tr>\n",
       "      <th>0</th>\n",
       "      <td>5.1</td>\n",
       "      <td>3.5</td>\n",
       "      <td>1.4</td>\n",
       "      <td>0.2</td>\n",
       "      <td>setosa</td>\n",
       "    </tr>\n",
       "    <tr>\n",
       "      <th>1</th>\n",
       "      <td>4.9</td>\n",
       "      <td>3.0</td>\n",
       "      <td>1.4</td>\n",
       "      <td>0.2</td>\n",
       "      <td>setosa</td>\n",
       "    </tr>\n",
       "    <tr>\n",
       "      <th>2</th>\n",
       "      <td>4.7</td>\n",
       "      <td>3.2</td>\n",
       "      <td>1.3</td>\n",
       "      <td>0.2</td>\n",
       "      <td>setosa</td>\n",
       "    </tr>\n",
       "  </tbody>\n",
       "</table>\n",
       "</div>"
      ],
      "text/plain": [
       "   sepal_length  sepal_width  petal_length  petal_width species\n",
       "0           5.1          3.5           1.4          0.2  setosa\n",
       "1           4.9          3.0           1.4          0.2  setosa\n",
       "2           4.7          3.2           1.3          0.2  setosa"
      ]
     },
     "metadata": {},
     "output_type": "display_data"
    },
    {
     "name": "stdout",
     "output_type": "stream",
     "text": [
      "<class 'pandas.core.frame.DataFrame'>\n",
      "RangeIndex: 150 entries, 0 to 149\n",
      "Data columns (total 5 columns):\n",
      " #   Column        Non-Null Count  Dtype  \n",
      "---  ------        --------------  -----  \n",
      " 0   sepal_length  150 non-null    float64\n",
      " 1   sepal_width   150 non-null    float64\n",
      " 2   petal_length  150 non-null    float64\n",
      " 3   petal_width   150 non-null    float64\n",
      " 4   species       150 non-null    object \n",
      "dtypes: float64(4), object(1)\n",
      "memory usage: 6.0+ KB\n"
     ]
    }
   ],
   "source": [
    "import seaborn as sns\n",
    "data = sns.load_dataset(\"iris\")\n",
    "# to show some sample data\n",
    "display(data.head(3)) \n",
    "# to show information about data types and counts of Non Null\n",
    "data.info() "
   ]
  },
  {
   "cell_type": "markdown",
   "id": "e5016db0-6657-4684-ab33-72617aef2866",
   "metadata": {
    "collapsed": false
   },
   "source": [
    "We will transform the class labels (setosa, versicolor, virginica) to numeric values (1,2,3) for convenience. We can do this by simply calling a function called LabelEndoder from sckit-learn library."
   ]
  },
  {
   "cell_type": "markdown",
   "id": "34ae9f23-4119-434a-955f-da3d53d6f90c",
   "metadata": {},
   "source": [
    "```{image} encoding.png\n",
    ":alt: Encoding\n",
    ":class: bg-primary mb-1\n",
    ":width: 200px\n",
    ":align: center\n",
    "```"
   ]
  },
  {
   "cell_type": "code",
   "execution_count": 4,
   "id": "db48d762-3061-4cdf-be6f-11f118c8d843",
   "metadata": {},
   "outputs": [],
   "source": [
    "from sklearn.preprocessing import LabelEncoder\n",
    "\n",
    "X = data.iloc[:,0:4].values\n",
    "y = data['species'].values\n",
    "\n",
    "enc = LabelEncoder()\n",
    "label_encoder = enc.fit(y)\n",
    "y = label_encoder.transform(y) + 1\n",
    "label_dict = {1: 'Setosa', 2: 'Versicolor', 3:'Virginica'}"
   ]
  },
  {
   "cell_type": "markdown",
   "id": "026e48ae-e384-4618-8815-8742f634b7c3",
   "metadata": {},
   "source": [
    "Just to get a rough idea how the samples of our three classes Setosa, Versicolor and Virginica are distributed, let us visualize the distributions of the four different features in 1-dimensional histograms."
   ]
  },
  {
   "cell_type": "markdown",
   "id": "6698c745-f435-4d77-b7db-0c13ec800156",
   "metadata": {},
   "source": [
    "```{image} 1d_histogram.png\n",
    ":alt: The distributions of the four different features of the Iris dataset in 1-dimensional histograms.\n",
    ":class: bg-primary mb-1\n",
    ":align: center\n",
    "```"
   ]
  },
  {
   "cell_type": "markdown",
   "id": "e1b2a9a0-e6d2-4466-be77-ad2ad8800353",
   "metadata": {},
   "source": [
    "```{admonition} Code for above histograms\n",
    ":class: note, dropdown\n",
    "\n",
    "```python\n",
    "from matplotlib import pyplot as plt\n",
    "import numpy as np\n",
    "import math\n",
    "\n",
    "fig, axes = plt.subplots(nrows=2, ncols=2, figsize=(12,6))\n",
    "\n",
    "feature_dict = {i:label for i,label in zip(\n",
    "                range(4),\n",
    "                  ('sepal length in cm',\n",
    "                  'sepal width in cm',\n",
    "                  'petal length in cm',\n",
    "                  'petal width in cm', ))}\n",
    "\n",
    "for ax,cnt in zip(axes.ravel(), range(4)):  \n",
    "\n",
    "    # set bin sizes\n",
    "    min_b = math.floor(np.min(X[:,cnt]))\n",
    "    max_b = math.ceil(np.max(X[:,cnt]))\n",
    "    bins = np.linspace(min_b, max_b, 25)\n",
    "\n",
    "    # plottling the histograms\n",
    "    for lab,col in zip(range(1,4), ('blue', 'red', 'green')):\n",
    "        ax.hist(X[y==lab, cnt],\n",
    "                   color=col,\n",
    "                   label='class %s' %label_dict[lab],\n",
    "                   bins=bins,\n",
    "                   alpha=0.5,)\n",
    "    ylims = ax.get_ylim()\n",
    "\n",
    "    # plot annotation\n",
    "    leg = ax.legend(loc='upper right', fancybox=True, fontsize=8)\n",
    "    leg.get_frame().set_alpha(0.5)\n",
    "    ax.set_ylim([0, max(ylims)+2])\n",
    "    ax.set_xlabel(feature_dict[cnt])\n",
    "    ax.set_title('Iris histogram #%s' %str(cnt+1))\n",
    "\n",
    "    # hide axis ticks\n",
    "    ax.tick_params(axis=\"both\", which=\"both\", bottom=\"off\", top=\"off\",  \n",
    "            labelbottom=\"on\", left=\"off\", right=\"off\", labelleft=\"on\")\n",
    "\n",
    "    # remove axis spines\n",
    "    ax.spines[\"top\"].set_visible(False)  \n",
    "    ax.spines[\"right\"].set_visible(False)\n",
    "    ax.spines[\"bottom\"].set_visible(False)\n",
    "    ax.spines[\"left\"].set_visible(False)    \n",
    "\n",
    "axes[0][0].set_ylabel('count')\n",
    "axes[1][0].set_ylabel('count')\n",
    "\n",
    "fig.tight_layout()       \n",
    "plt.show()\n",
    "```"
   ]
  },
  {
   "cell_type": "markdown",
   "id": "07ad9500-93c4-4f23-af6c-454496d0a58a",
   "metadata": {},
   "source": [
    "From just looking at these simple graphical representations of the features, we can already tell that the petal lengths and widths are likely better suited as potential features two separate between the three flower classes. In practice, instead of reducing the dimensionality via a projection (here: LDA), a good alternative would be a feature selection technique. For low-dimensional datasets like Iris, a glance at those histograms would already be very informative."
   ]
  },
  {
   "cell_type": "markdown",
   "id": "18d225d3-0e18-4238-bb66-d89599783d89",
   "metadata": {},
   "source": [
    "##### Dimension Reduction"
   ]
  },
  {
   "cell_type": "markdown",
   "id": "67899e74-19d1-4052-bb72-9038df131e6f",
   "metadata": {},
   "source": [
    "We will first try to use LDA to reduce the number of features. LDA reduces dimensionality from original number of feature to\n",
    "(C-1) features, where C is the number of classes. In this case, we have 3 classes, therefore the new feature space will have only 2 features"
   ]
  },
  {
   "cell_type": "code",
   "execution_count": 14,
   "id": "b15bf12e-a4e1-4b75-8184-c797b04828b5",
   "metadata": {},
   "outputs": [
    {
     "name": "stdout",
     "output_type": "stream",
     "text": [
      "(Rows,Columns) of the original data is  (150, 4)\n",
      "\n",
      " After LDA Dimension Reductionn we have (150, 2)\n"
     ]
    }
   ],
   "source": [
    "from sklearn.discriminant_analysis import LinearDiscriminantAnalysis as LDA\n",
    "\n",
    "# Calling LDA\n",
    "lda_as_dimension_reduction = LDA(n_components=2)\n",
    "X_lda_sklearn = lda_as_dimension_reduction.fit_transform(X, y)\n",
    "\n",
    "print('(Rows,Columns) of the original data is ',X.shape)\n",
    "print('\\n After LDA Dimension Reductionn we have', X_lda_sklearn.shape)"
   ]
  },
  {
   "cell_type": "markdown",
   "id": "51213c26-49ab-4a3c-bd51-7fbcdf8ce465",
   "metadata": {},
   "source": [
    "#### Interactive Visualization of Feature Impact on LDA Transformation"
   ]
  },
  {
   "cell_type": "code",
   "execution_count": 77,
   "id": "e59fb21c-4561-44af-ae62-c1a1ca589eda",
   "metadata": {
    "tags": [
     "remove-input"
    ]
   },
   "outputs": [
    {
     "data": {
      "application/vnd.plotly.v1+json": {
       "config": {
        "plotlyServerURL": "https://plot.ly"
       },
       "data": [
        {
         "marker": {
          "line": {
           "width": 1
          },
          "size": 10
         },
         "mode": "markers",
         "name": "setosa (sepal length (cm), sepal width (cm))",
         "type": "scatter",
         "visible": true,
         "x": [
          2.816958862632194,
          1.86113987172074,
          2.842997374448503,
          2.780304270486895,
          3.3078876139960744,
          3.2818491021797636,
          3.6107370534751295,
          2.7542657586705843,
          2.6549180625636755,
          2.137950799383485,
          2.7282272468542748,
          3.182501406072857,
          2.0752576954218775,
          3.1458468139275584,
          2.7021887350379656,
          4.023550269390082,
          3.2818491021797636,
          2.816958862632194,
          2.3626847034136107,
          3.6473916456204285,
          1.8977944638660391,
          3.3705807179576843,
          4.16435890880062,
          2.2633370073067036,
          3.182501406072857,
          1.6470220480196047,
          2.7542657586705843,
          2.602841038931057,
          2.3260301112683117,
          2.842997374448503,
          2.3520686230846226,
          1.8977944638660391,
          4.263706604907526,
          3.898164061466864,
          2.137950799383485,
          2.200643903345095,
          1.9604875678276488,
          3.5220054376972096,
          2.931728990226421,
          2.5401479349694487,
          3.0310766863333294,
          0.7799346728860707,
          3.485350845551911,
          3.0310766863333294,
          3.6473916456204285,
          2.0752576954218775,
          3.6473916456204285,
          3.0571151981496403,
          2.9423450705554117,
          2.4774548310078393
         ],
         "y": [
          -0.3218441989833802,
          0.8892484405561153,
          0.6330875860392786,
          0.9242224427969561,
          -0.4499246262417989,
          -1.4048564112644584,
          0.29539951677281395,
          -0.03070934222570354,
          1.5064921563123093,
          0.6796407985480677,
          -0.9856411272483641,
          0.1323450872735552,
          0.9707756553057449,
          1.3784117290538915,
          -1.940572912271023,
          -2.6974762655535844,
          -1.4048564112644584,
          -0.3218441989833802,
          -1.4398304135052984,
          -0.9506671250075223,
          -0.356818201224221,
          -0.7410594829994755,
          -0.1238157672432814,
          0.09737108503271515,
          0.1323450872735552,
          0.8077212258064862,
          -0.03070934222570354,
          -0.40337141373300994,
          -0.19376377172496229,
          0.6330875860392786,
          0.7611680132976973,
          -0.356818201224221,
          -1.661017265781294,
          -2.1152065520382304,
          0.6796407985480677,
          0.3885059417903909,
          -0.6479530579818976,
          -0.3683974114921698,
          1.2968845143042618,
          -0.11223655697533252,
          -0.24031698423375122,
          2.6826107936109658,
          0.8776692302881663,
          -0.24031698423375122,
          -0.9506671250075223,
          0.9707756553057449,
          -0.9506671250075223,
          0.7146148007889084,
          -0.9041139124987343,
          0.17889829978234414
         ]
        },
        {
         "marker": {
          "line": {
           "width": 1
          },
          "size": 10
         },
         "mode": "markers",
         "name": "versicolor (sepal length (cm), sepal width (cm))",
         "type": "scatter",
         "visible": true,
         "x": [
          -2.0817125706776274,
          -0.7970056284708112,
          -2.1444056746392373,
          -1.361243564125291,
          -2.1183671628229273,
          -0.40542457321383873,
          -0.3060768771069301,
          0.20027430574427016,
          -2.055674058861318,
          0.3883536176290979,
          -1.1210872286078446,
          -0.28003836529062104,
          -2.7086436102937155,
          -0.985084940355637,
          0.08550417815004362,
          -1.7161700272369644,
          0.3623151058127888,
          -0.8963533245777181,
          -3.136879257695988,
          -1.021739532500936,
          0.2735834900348693,
          -1.2618958680183823,
          -2.520564298408889,
          -1.2618958680183823,
          -1.6274384114590468,
          -1.7788631311985725,
          -2.7607206339263355,
          -1.9929809548997097,
          -0.7709671166545016,
          -0.9590464285393279,
          -1.0844326364625456,
          -1.0844326364625456,
          -0.8963533245777181,
          -1.3245889719799908,
          0.7905507532150596,
          0.6130875216592231,
          -1.7161700272369644,
          -3.0741861537343795,
          0.3623151058127888,
          -0.8076217087998004,
          -0.5308107811370553,
          -0.7082740126928918,
          -1.1731642522404633,
          -0.2906544456196102,
          -0.4681176771754455,
          0.1481972821116516,
          -0.12861364555109359,
          -1.1992027640567742,
          0.04884958600474474,
          -0.40542457321383873
         ],
         "y": [
          -1.242038353202195,
          -0.7528750647044196,
          -0.9509034964445182,
          1.8673386461146726,
          0.0040282885781421545,
          0.6562460065751764,
          -0.8809554919628365,
          2.1468942926044003,
          -0.2871065681795345,
          1.2734897223313695,
          2.903797645886961,
          0.07397629305982233,
          1.6693102143745728,
          0.120529505568612,
          0.5281655793167584,
          -0.7878490669452596,
          0.3185579373087108,
          0.7843264338335941,
          1.5062557848753142,
          1.3665961473489483,
          -0.34523899095627303,
          0.3301371475766597,
          0.7959056441015431,
          0.3301371475766597,
          -0.12405213868027648,
          -0.49671421018758216,
          -0.24055335567074557,
          -0.578241424937212,
          0.202056720318241,
          1.0754612905912708,
          1.6577310041066249,
          1.6577310041066249,
          0.7843264338335941,
          0.6212720043343354,
          0.4816123668079688,
          -0.8459814897219965,
          -0.7878490669452596,
          1.2151209281176385,
          0.3185579373087108,
          1.4481233620985772,
          1.2385157200905297,
          -0.08907813643943567,
          0.9939340758416418,
          2.274974719862819,
          0.9473808633328529,
          0.23703072255908106,
          0.44663836456712874,
          0.039002290818982266,
          1.7742322210970947,
          0.6562460065751764
         ]
        },
        {
         "marker": {
          "line": {
           "width": 1
          },
          "size": 10
         },
         "mode": "markers",
         "name": "virginica (sepal length (cm), sepal width (cm))",
         "type": "scatter",
         "visible": true,
         "x": [
          -0.3060768771069301,
          -0.8963533245777181,
          -2.8494522497042527,
          -1.4133205877579096,
          -1.5647453074974371,
          -3.9200413682099335,
          0.47708523340701536,
          -3.554498824769271,
          -3.377035593213434,
          -1.4027045074289204,
          -1.0111234521719468,
          -2.181060266784536,
          -2.207098778600845,
          -1.2358573562020732,
          -0.6195423969149741,
          -0.7970056284708112,
          -1.5647453074974371,
          -1.9196717706091122,
          -5.241402902562051,
          -2.7086436102937155,
          -1.8675947469764922,
          -0.19130674951270157,
          -4.6877810472365615,
          -1.9669424430833988,
          -1.1625481719114754,
          -2.5099482180799,
          -1.4760136917195195,
          -0.7082740126928918,
          -1.904249339121792,
          -3.06357007340539,
          -4.045427576133153,
          -2.347907418011385,
          -1.904249339121792,
          -1.6901315154206549,
          -1.8155177233438713,
          -4.134159191911071,
          -0.029265949444184945,
          -1.0738165561335564,
          -0.4941561889917564,
          -2.1444056746392373,
          -1.7161700272369644,
          -2.1444056746392373,
          -0.8963533245777181,
          -1.6534769232753548,
          -1.1625481719114754,
          -1.9929809548997097,
          -2.520564298408889,
          -1.5647453074974371,
          0.18485187425695046,
          -0.28003836529062104
         ],
         "y": [
          -0.8809554919628365,
          0.7843264338335941,
          -0.9043502839357286,
          -0.04252492393064672,
          -0.4151869954379532,
          -1.311986357683875,
          1.9372866505963529,
          -0.8577970714269397,
          0.4697967851030255,
          -2.2435233507336436,
          -0.8344022794540485,
          0.29516314533581794,
          -0.659768639686841,
          1.2850689325993185,
          0.5747187918255474,
          -0.7528750647044196,
          -0.4151869954379532,
          -3.0703747084978845,
          -0.5550830044013151,
          1.6693102143745728,
          -1.160511138452566,
          0.7377732213248062,
          -0.9742982884174095,
          0.3766903600854477,
          -1.2070643509613541,
          -1.4050927827014537,
          0.24860993282702995,
          -0.08907813643943567,
          0.08555550332777119,
          -0.9858774986853583,
          -0.7297166441685218,
          -3.233429137997143,
          0.08555550332777119,
          0.16708271807740097,
          0.7493524315927541,
          -1.3935135724335048,
          -1.0905631339708841,
          -0.5432674226963718,
          -0.007550921689806665,
          -0.9509034964445182,
          -0.7878490669452596,
          -0.9509034964445182,
          0.7843264338335941,
          -1.0789839237029364,
          -1.2070643509613541,
          -0.578241424937212,
          0.7959056441015431,
          -0.4151869954379532,
          -1.0090359192212552,
          0.07397629305982233
         ]
        },
        {
         "marker": {
          "line": {
           "width": 1
          },
          "size": 10
         },
         "mode": "markers",
         "name": "setosa (sepal length (cm), petal length (cm))",
         "type": "scatter",
         "visible": false,
         "x": [
          -6.849267645820983,
          -6.517488361911603,
          -6.528473312566154,
          -5.677055201483599,
          -6.683378003866293,
          -6.318643867993259,
          -6.019819436047531,
          -6.340613769302361,
          -5.688040152138151,
          -6.174724127347671,
          -7.0041723371211235,
          -5.666070250829048,
          -6.351598719956912,
          -6.550443213875255,
          -8.696023608631679,
          -7.501841262985194,
          -7.689700806248988,
          -6.849267645820983,
          -6.81631279385733,
          -6.506503411257051,
          -6.318643867993259,
          -6.506503411257051,
          -7.390876374303258,
          -5.820974942129187,
          -4.637777547137253,
          -5.997849534738429,
          -5.997849534738429,
          -6.672393053211742,
          -7.015157287775674,
          -5.5001806088743574,
          -5.666070250829048,
          -7.0041723371211235,
          -6.672393053211742,
          -7.5128262136397455,
          -6.174724127347671,
          -7.368906472994156,
          -7.855590448203677,
          -6.517488361911603,
          -6.0308043867020835,
          -6.506503411257051,
          -7.026142238430225,
          -6.196694028656773,
          -6.0308043867020835,
          -5.997849534738429,
          -5.135446473001323,
          -6.351598719956912,
          -6.163739176693118,
          -6.019819436047531,
          -6.838282695166432,
          -6.683378003866293
         ],
         "y": [
          0.3588102695963552,
          -0.13353659838973245,
          -0.5330633025811662,
          -0.9648770641635241,
          0.11263683560331149,
          0.8188700801915234,
          -0.8720569003688682,
          0.01981667180865556,
          -1.3644037683549557,
          -0.22635676218438835,
          1.0045104077808353,
          -0.5653503599720899,
          -0.3797100323827781,
          -1.3321167109640344,
          2.26766463513698,
          1.7430307097599687,
          1.190150735370147,
          0.3588102695963552,
          1.557390382170657,
          0.26599010580169924,
          0.8188700801915234,
          0.26599010580169924,
          -0.5007762451902449,
          0.08034977821238741,
          -0.8438108513560574,
          -0.07300349198600037,
          -0.07300349198600037,
          0.5121635397947454,
          0.6049837035894013,
          -0.8115237939651339,
          -0.5653503599720899,
          1.0045104077808353,
          0.5121635397947454,
          1.3435040055685348,
          -0.22635676218438835,
          0.29827716319262293,
          1.4363241693631907,
          -0.13353659838973245,
          -1.2715836045602997,
          0.26599010580169924,
          0.2054569993979674,
          -1.0254101705672558,
          -1.2715836045602997,
          -0.07300349198600037,
          -0.10529054937692402,
          -0.3797100323827781,
          0.17316994200704333,
          -0.8720569003688682,
          0.7583369737877891,
          0.11263683560331149
         ]
        },
        {
         "marker": {
          "line": {
           "width": 1
          },
          "size": 10
         },
         "mode": "markers",
         "name": "versicolor (sepal length (cm), petal length (cm))",
         "type": "scatter",
         "visible": false,
         "x": [
          1.3100488976496503,
          1.619858280249928,
          2.1614670087322043,
          1.3990438850224833,
          1.7967328728591687,
          2.7810857739327615,
          2.471276391332484,
          -0.004967905196898269,
          1.630843230904479,
          1.5539485763226222,
          0.5146709219762763,
          1.4210137863315853,
          0.5695956752490311,
          2.8030556752418647,
          -0.1379026951879337,
          0.7794251198219262,
          2.9469754158874526,
          1.244139193722343,
          1.9516375641593091,
          0.8903900085038613,
          3.477599193715175,
          0.4037060332943412,
          3.156804860460348,
          2.8030556752418647,
          0.9343298111220636,
          0.9453147617766176,
          1.984592416122962,
          2.836010527205516,
          2.2834168480686903,
          -0.6465565717065572,
          0.713515415894619,
          0.37075118133068835,
          0.55861072459448,
          4.34000225545228,
          3.278754699796832,
          2.2834168480686903,
          1.8077178235137212,
          1.4429836876406887,
          1.575918477631724,
          1.3990438850224833,
          2.770100823278212,
          2.4602914406779313,
          0.9013749591584123,
          -0.17085754715158807,
          1.9186827121956578,
          1.7527930702409664,
          1.7527930702409664,
          1.2661090950314449,
          -1.365039892798073,
          1.4100288356770327
         ],
         "y": [
          1.973040110240562,
          0.6816398338716068,
          1.5412263486582063,
          -1.0698202530925172,
          0.8349931040699949,
          -1.0415742040797065,
          0.2498260722892488,
          -1.8971197104881934,
          1.0811665380630386,
          -1.7155203912769947,
          -1.8365866040844612,
          -0.27076684470964935,
          0.1610469168727063,
          -0.24252079569684093,
          -0.45236616392085,
          1.5129802996453958,
          -1.2877476380727524,
          -0.42412011490803897,
          0.18929296588551695,
          -0.7308266553048174,
          -0.8276878274775841,
          0.4072203508657501,
          0.06418574469993694,
          -0.24252079569684093,
          0.8672801614609186,
          1.2668068656523497,
          1.3878730784598168,
          0.9560593168774612,
          -0.3030539021005729,
          -0.1133725661331481,
          -0.8841799255032052,
          -0.7913597617085497,
          -0.23847978731872757,
          -0.8599748848685076,
          -1.78009450605884,
          -0.3030539021005729,
          1.2345198082614284,
          0.5282865636732161,
          -0.9164669828941288,
          -1.0698202530925172,
          -1.4411009082711408,
          -0.1497006319021846,
          -0.3312999511133835,
          -1.6509462764951495,
          -1.0092871466887852,
          -0.7631137126957391,
          -0.7631137126957391,
          0.3749332934748288,
          -1.1263123511181383,
          -0.6702935489010828
         ]
        },
        {
         "marker": {
          "line": {
           "width": 1
          },
          "size": 10
         },
         "mode": "markers",
         "name": "virginica (sepal length (cm), petal length (cm))",
         "type": "scatter",
         "visible": false,
         "x": [
          6.927211440663597,
          4.671781539361661,
          5.257330070462143,
          5.5561545024078685,
          5.909903687626351,
          6.827231502636212,
          4.108202909570284,
          6.296607724808488,
          5.578124403716971,
          5.776968897635313,
          3.510554045678828,
          4.361972156761382,
          4.3839420580704855,
          4.494906946752421,
          4.671781539361661,
          4.361972156761382,
          4.881610983934556,
          7.0041060952454535,
          7.689634564373319,
          3.9972380208883496,
          4.903580885243659,
          4.318032354143181,
          7.0041060952454535,
          3.156804860460348,
          5.23536016915304,
          5.434204663071382,
          2.9799302678511044,
          3.488584144369729,
          5.390264860453177,
          4.748676193943518,
          5.445189613725932,
          5.644034107644278,
          5.390264860453177,
          3.842333329588209,
          5.88793378631725,
          4.947520687861861,
          5.5561545024078685,
          5.0475006258892465,
          3.3117095517604853,
          3.8752881815518636,
          4.892595934589106,
          2.8469954778600655,
          4.671781539361661,
          5.754998996326214,
          5.23536016915304,
          3.5215389963333803,
          3.4995690950242784,
          3.8533182802427617,
          5.036515675234697,
          4.50589189740697
         ],
         "y": [
          -0.9568360570412769,
          -1.3523217528545974,
          1.1053715786977356,
          -0.5855554018626533,
          -0.2788488614658753,
          1.6864976021003686,
          -3.0109616760240634,
          1.2264377915052025,
          0.21349800652021456,
          1.1659046851014703,
          0.3708922850967158,
          -0.06092147648563979,
          0.7381319318972258,
          -1.5056750230529856,
          -1.3523217528545974,
          -0.06092147648563979,
          -0.00038837008190793147,
          1.8398508722987579,
          1.6542105447094462,
          -0.7671547210738521,
          0.7986650383009597,
          -1.6590282932513762,
          1.8398508722987579,
          0.06418574469993694,
          0.3063181703148701,
          1.2587248488961258,
          -0.08916752549845042,
          -0.4281611232861528,
          -0.3393819678696071,
          1.4443651764854377,
          1.6582515530875603,
          2.610658231668816,
          -0.3393819678696071,
          -0.12145458288937408,
          -1.077902269848743,
          2.3967718550666937,
          -0.5855554018626533,
          -0.24656180407495162,
          -0.5815143934845403,
          1.0771255296849271,
          0.3991383341095264,
          1.3555860210688953,
          -1.3523217528545974,
          0.3668512767186021,
          0.3063181703148701,
          0.7704189892881492,
          -0.028634419094718568,
          0.27807212130205944,
          -0.646088508266386,
          -1.1061483188615515
         ]
        },
        {
         "marker": {
          "line": {
           "width": 1
          },
          "size": 10
         },
         "mode": "markers",
         "name": "setosa (sepal length (cm), petal width (cm))",
         "type": "scatter",
         "visible": false,
         "x": [
          -4.887415864206914,
          -4.881985240332194,
          -4.876554616457474,
          -4.873839304520114,
          -4.884700552269554,
          -3.913387080284245,
          -4.38275194465274,
          -4.884700552269554,
          -4.868408680645395,
          -5.373072600199567,
          -4.895561800018993,
          -4.879269928394835,
          -5.370357288262207,
          -5.3567807285754085,
          -4.906423047768433,
          -3.921533016096325,
          -3.913387080284245,
          -4.3963285043395395,
          -4.412620375963699,
          -4.3963285043395395,
          -4.895561800018993,
          -3.905241144472166,
          -4.873839304520114,
          -3.414153784604792,
          -4.879269928394835,
          -4.884700552269554,
          -3.902525832534806,
          -4.890131176144274,
          -4.890131176144274,
          -4.876554616457474,
          -4.879269928394835,
          -3.913387080284245,
          -5.381218536011647,
          -4.898277111956353,
          -4.881985240332194,
          -4.884700552269554,
          -4.898277111956353,
          -5.373072600199567,
          -4.868408680645395,
          -4.887415864206914,
          -4.39361319240218,
          -4.38003663271538,
          -4.868408680645395,
          -2.9203511128000583,
          -3.905241144472166,
          -4.38818256852746,
          -4.887415864206914,
          -4.873839304520114,
          -4.892846488081633,
          -4.884700552269554
         ],
         "y": [
          0.2972084170578192,
          -0.11996843294210237,
          -0.5371452829420259,
          -0.7457337079419885,
          0.08861999205785841,
          0.5531840237006277,
          -0.9306285421205275,
          0.08861999205785841,
          -1.1629105579419106,
          0.06492640123643625,
          0.9229736920577055,
          -0.32855685794206513,
          -0.14366202376352652,
          -1.1866041487633343,
          1.7573273920575507,
          1.178949298700512,
          0.5531840237006277,
          0.11231358287928016,
          1.3638441328790507,
          0.11231358287928016,
          0.9229736920577055,
          -0.07258125129925867,
          -0.7457337079419885,
          -0.2574760854777975,
          -0.32855685794206513,
          0.08861999205785841,
          -0.28116967629921946,
          0.505796842057782,
          0.505796842057782,
          -0.5371452829420259,
          -0.32855685794206513,
          0.5531840237006277,
          0.6906916762363206,
          1.1315621170576662,
          -0.11996843294210237,
          0.08861999205785841,
          1.1315621170576662,
          0.06492640123643625,
          -1.1629105579419106,
          0.2972084170578192,
          -0.09627484212068062,
          -1.1392169671204884,
          -1.1629105579419106,
          -0.6509593446562971,
          -0.07258125129925867,
          -0.5134516921206042,
          0.2972084170578192,
          -0.7457337079419885,
          0.7143852670577427,
          0.08861999205785841
         ]
        },
        {
         "marker": {
          "line": {
           "width": 1
          },
          "size": 10
         },
         "mode": "markers",
         "name": "versicolor (sepal length (cm), petal width (cm))",
         "type": "scatter",
         "visible": false,
         "x": [
          0.9540415273917351,
          1.4614207588832684,
          1.4478441991964692,
          0.5036838465847596,
          1.4587054469459086,
          0.4982532227100399,
          1.9552234306880025,
          -0.953286361393203,
          0.4738154152738013,
          1.0029171422642125,
          -0.9560016733305629,
          1.4749973185700678,
          -0.9831547927041614,
          0.9784793348279738,
          0.5009685346473998,
          0.9621874632038147,
          1.4831432543821472,
          -0.9777241688294417,
          1.466851382757988,
          -0.4812061850873477,
          2.9482593981721896,
          0.48739197496060055,
          1.4641360708206284,
          -0.0036953849067737654,
          0.47924603914852093,
          0.9649027751411745,
          0.9594721512664548,
          2.4354495428059364,
          1.4722820066327078,
          -0.9750088568920818,
          -0.47849087314998784,
          -0.9695782330173621,
          0.004450550905305792,
          1.9633693665000822,
          1.488573878256867,
          1.9633693665000822,
          1.453274823071189,
          0.48196135108588084,
          0.5009685346473998,
          0.5036838465847596,
          0.012596486717385351,
          0.9784793348279738,
          0.004450550905305792,
          -0.9560016733305629,
          0.5009685346473998,
          0.007165862842665637,
          0.4982532227100399,
          0.48467666302324064,
          -0.4676296254005484,
          0.4982532227100399
         ],
         "y": [
          2.041650481914624,
          0.6052250977363158,
          1.6481672227361235,
          -0.9022810589062614,
          0.8138135227362766,
          -0.4851042089063379,
          0.21174183855781417,
          -1.5991271063704133,
          1.392191616093315,
          -1.7129411680846844,
          -1.3905386813704526,
          -0.437717027263492,
          0.6953455686291632,
          0.1643546569149687,
          -0.6936926339063005,
          1.4158852069147392,
          -1.0634823022633781,
          0.27816871862923964,
          0.1880482477363923,
          -0.3239029655492229,
          -0.9924015297991087,
          0.34924949109350734,
          0.3966366727363532,
          0.5341443252720464,
          0.9750147660933935,
          1.2072967819147764,
          1.6244736319147,
          0.8612007043791226,
          -0.22912860226353118,
          0.0695802936292788,
          -0.5324913905491838,
          -0.34759655637064474,
          -0.091620949727838,
          -0.4140234364420702,
          -1.4806591522633,
          -0.4140234364420702,
          1.2309903727362002,
          0.7664263410934309,
          -0.6936926339063005,
          -0.9022810589062614,
          -0.7173862247277224,
          0.1643546569149687,
          -0.091620949727838,
          -1.3905386813704526,
          -0.6936926339063005,
          -0.30020937472779885,
          -0.4851042089063379,
          0.55783791609347,
          -1.3668450905490308,
          -0.4851042089063379
         ]
        },
        {
         "marker": {
          "line": {
           "width": 1
          },
          "size": 10
         },
         "mode": "markers",
         "name": "virginica (sepal length (cm), petal width (cm))",
         "type": "scatter",
         "visible": false,
         "x": [
          6.375009669494367,
          3.4420620699769224,
          4.388937734525993,
          2.93739815042275,
          4.896316966017526,
          4.375361174839194,
          2.484325157678414,
          2.9102450310491514,
          2.926536902673311,
          6.350571862058128,
          3.9141422462827777,
          3.4257701983527635,
          4.3970836703380725,
          3.9358647417816566,
          5.897498869313792,
          5.3901196378222584,
          2.9319675265480303,
          4.863733222769208,
          5.35482058263658,
          1.4722820066327078,
          5.376543078135459,
          3.9385800537190168,
          3.8815585030344595,
          2.93739815042275,
          4.399798982275432,
          2.9129603429865116,
          2.94011346236011,
          2.9428287742974697,
          4.407944918087512,
          1.930785623251764,
          3.3986170789791648,
          3.87612787915974,
          4.899032277954887,
          1.4641360708206284,
          0.9784793348279738,
          5.35482058263658,
          5.883922309626993,
          2.9346828384853905,
          2.94554408623483,
          4.394368358400713,
          5.873061061877554,
          5.376543078135459,
          3.4420620699769224,
          5.3792583900728195,
          6.364148421744927,
          5.381973702010179,
          3.4284855102901233,
          3.9141422462827777,
          5.395550261696978,
          2.9482593981721896
         ],
         "y": [
          -1.4523116690490354,
          -1.38588478897761,
          0.9559750676648121,
          -0.1580478297992635,
          -0.4804503165134958,
          1.99891719266462,
          -2.8933909456201854,
          1.9278364202003522,
          0.6763058702005835,
          0.4249841559506194,
          -0.1106606481564177,
          -0.13435423897783944,
          0.3302097926649276,
          -1.7793680481561098,
          -2.3103589598703045,
          -0.8739335756919947,
          0.25912902020066,
          2.0226107834860434,
          1.8377159493075053,
          -0.22912860226353118,
          0.1690085493078129,
          -1.9879564731560726,
          2.3924004518431214,
          -0.1580478297992635,
          0.12162136766496681,
          1.7192479952003914,
          -0.36663625479922435,
          -0.575224679799187,
          -0.5041439073349175,
          2.0890376635574692,
          1.9515300110217761,
          2.809577301843045,
          -0.6890387415134566,
          0.3966366727363532,
          0.1643546569149687,
          1.8377159493075053,
          -1.2674168348704964,
          0.05054059520069918,
          -0.7838131047991479,
          0.5387982176648901,
          -0.43306313487064946,
          0.1690085493078129,
          -1.38588478897761,
          -0.03957987569214966,
          -0.6179579690491885,
          -0.24816830069211043,
          -0.3429426639778021,
          -0.1106606481564177,
          -1.2911104256919184,
          -0.9924015297991087
         ]
        },
        {
         "marker": {
          "line": {
           "width": 1
          },
          "size": 10
         },
         "mode": "markers",
         "name": "setosa (sepal width (cm), petal length (cm))",
         "type": "scatter",
         "visible": false,
         "x": [
          -6.572257075176692,
          -5.759681767037438,
          -6.332924658276066,
          -5.673984060682362,
          -6.734772136804543,
          -6.477679017739316,
          -6.409742013548841,
          -6.161529245565914,
          -5.597166705409586,
          -5.673984060682362,
          -6.649074430449468,
          -5.913316477582987,
          -5.759681767037438,
          -6.504320070986216,
          -7.881257919281799,
          -7.786679861844424,
          -7.470530089671022,
          -6.572257075176692,
          -6.315163956111465,
          -6.811589492077318,
          -5.665103709600061,
          -6.649074430449468,
          -7.727623208736248,
          -5.50258864797221,
          -5.168678173634209,
          -5.263256231071584,
          -5.913316477582987,
          -6.324044307193765,
          -6.409742013548841,
          -5.588286354327287,
          -5.4257712926994355,
          -6.161529245565914,
          -7.29913467696087,
          -7.709862506571649,
          -5.673984060682362,
          -6.581137426258992,
          -6.820469843159619,
          -6.734772136804543,
          -6.007894535020364,
          -6.161529245565914,
          -6.820469843159619,
          -4.8702891036254075,
          -6.332924658276066,
          -6.075831539210839,
          -5.818738420145612,
          -5.759681767037438,
          -6.563376724094391,
          -6.084711890293139,
          -6.649074430449468,
          -6.2472269519209895
         ],
         "y": [
          0.3316740771901132,
          -1.0348260937590728,
          -0.525466656174856,
          -0.7242854287737773,
          0.6049741113799507,
          1.536596106335836,
          0.05837404300027581,
          0.09561467379573384,
          -1.3081261279489103,
          -0.7242854287737773,
          0.915514776365246,
          0.13285530459119188,
          -1.0348260937590728,
          -1.1465479861454466,
          1.6236929865483831,
          2.828615015694107,
          1.3876335831540039,
          0.3316740771901132,
          1.2632960721459985,
          1.1888148105550824,
          0.1700959353866499,
          0.915514776365246,
          0.4560115881981187,
          -0.1032040988031876,
          0.2445771969775658,
          -0.9603448321681567,
          0.13285530459119188,
          0.36891470798557124,
          0.05837404300027581,
          -0.41374476378848185,
          -0.6870447979783193,
          0.09561467379573384,
          2.0087149131245936,
          2.2447743165189737,
          -0.7242854287737773,
          -0.5627072869703138,
          0.2944334463946552,
          0.6049741113799507,
          -1.0720667245545308,
          0.09561467379573384,
          0.2944334463946552,
          -2.9851669638833918,
          -0.525466656174856,
          0.4061553387810293,
          1.3377773337369143,
          -1.0348260937590728,
          1.2260554413505405,
          -0.4882260253793979,
          0.915514776365246,
          -0.2149259911895617
         ]
        },
        {
         "marker": {
          "line": {
           "width": 1
          },
          "size": 10
         },
         "mode": "markers",
         "name": "versicolor (sepal width (cm), petal length (cm))",
         "type": "scatter",
         "visible": false,
         "x": [
          2.106309453143433,
          1.6098839171775796,
          2.765250050737137,
          1.8314556319136062,
          2.5081569316719095,
          2.2599441636889837,
          1.9437943915155826,
          -0.06854880559473013,
          2.345641870044058,
          0.9331826174192753,
          1.0779369768825264,
          1.190275736484503,
          1.9939706935414565,
          2.593854638026986,
          -0.13648580978520483,
          1.524186210822505,
          1.9349140404332816,
          1.4296081533851275,
          3.235034533456089,
          1.2582127406749775,
          2.3545222211263583,
          1.0188803237743518,
          3.7403404205042428,
          2.756369699654837,
          1.6010035660952795,
          1.686701272450356,
          3.004582467637763,
          3.1759778803479137,
          2.097429102061133,
          0.10284660711542101,
          1.172515034319902,
          0.9243022663369764,
          0.9331826174192753,
          3.911735833214392,
          1.9349140404332816,
          1.2848537939218783,
          2.2688245147712838,
          2.8243067038453127,
          0.9420629685015751,
          1.5064255086579041,
          2.33676151896176,
          2.1831268084162074,
          1.3439104470300531,
          0.09396625603312088,
          1.6778209213680553,
          1.190275736484503,
          1.352790798112354,
          1.6010035660952795,
          -0.97570217117136,
          1.2670930917572771
         ],
         "y": [
          0.7407147908707162,
          0.6662335292798002,
          0.5418960182717949,
          -1.9796699324060256,
          -0.3897259766840917,
          -0.42696660747954956,
          1.0140148250605525,
          -1.9670543137843943,
          -0.11642594249425425,
          -0.9237104264421337,
          -2.9857731889528267,
          0.007911568513751382,
          -2.252969966595862,
          -0.07918531169879606,
          -0.4888322504488341,
          0.35569286429450486,
          0.11963346090012532,
          -0.8492291648512179,
          -2.066766812618572,
          -1.4703104948218086,
          0.7779554216661742,
          -0.6131697614568395,
          -1.0979041868672286,
          -0.3524853458886335,
          -0.2281478348806282,
          0.08239283010466746,
          -0.31524471509317564,
          0.3058366148774153,
          -0.15366657328971212,
          -1.3459729838138033,
          -1.7808511598071042,
          -1.8180917906025622,
          -0.9237104264421337,
          -0.4768228568966379,
          0.11963346090012532,
          1.212833597659474,
          0.4674147566808788,
          -1.8307074092241935,
          -0.029329062281706817,
          -1.4330698640263506,
          -1.010807306654681,
          0.1568740916955832,
          -1.159769829836513,
          -2.2403543479742316,
          -0.8119885340557597,
          0.007911568513751382,
          -0.2653884656760861,
          -0.2281478348806282,
          -1.8054761719809307,
          -0.5759291306613817
         ]
        },
        {
         "marker": {
          "line": {
           "width": 1
          },
          "size": 10
         },
         "mode": "markers",
         "name": "virginica (sepal width (cm), petal length (cm))",
         "type": "scatter",
         "visible": false,
         "x": [
          5.1705603752936256,
          3.911735833214392,
          5.409892792194253,
          4.827769549873323,
          5.161680024211325,
          7.147382168074736,
          2.747489348572536,
          6.565258925753808,
          5.974255332350579,
          4.931227958392998,
          3.099160525075137,
          4.408161369180245,
          4.417041720262546,
          3.988553188487168,
          3.7492207715865415,
          3.5955860610409904,
          4.417041720262546,
          6.095474443034856,
          8.54208071853492,
          4.4760983733707205,
          4.588437132972697,
          3.2527952356206904,
          7.720625059313366,
          3.4153102972485407,
          4.425922071344846,
          5.333075436921476,
          3.004582467637763,
          2.9277651123649884,
          4.990284611501173,
          5.161680024211325,
          6.231348451415806,
          5.350836139086078,
          4.990284611501173,
          3.7492207715865415,
          5.315314734756875,
          5.906318328160103,
          4.015194241734068,
          4.254526658634695,
          2.6795523443820604,
          4.00631389065177,
          4.50273942661762,
          3.2616755867029883,
          3.911735833214392,
          5.08486266893855,
          4.425922071344846,
          3.672403416313767,
          3.988553188487168,
          3.672403416313767,
          3.518768705768217,
          3.4241906483308395
         ],
         "y": [
          1.4981430254015065,
          -0.4768228568966379,
          0.6410022920365375,
          0.25598036546032576,
          0.6037616612410793,
          0.9016867076047432,
          -1.2468667100490607,
          0.5166647810285319,
          -0.7627385097081066,
          2.3552837587664768,
          0.889677314052548,
          -0.4023415953057218,
          0.49203976885470535,
          -1.0606635560717705,
          -0.2035228227068017,
          0.9641585756434641,
          0.49203976885470535,
          3.1253276119188986,
          -0.07979153676823096,
          -1.8805636586412817,
          1.1131210988252962,
          -0.27800408429771745,
          0.39232727002052653,
          -0.5513041184875536,
          1.3864211330151324,
          1.2248429912116703,
          -0.31524471509317564,
          0.26859598408195745,
          -0.017319668729511687,
          0.6037616612410793,
          0.16888348524777833,
          3.0136057195325248,
          -0.017319668729511687,
          -0.2035228227068017,
          -0.5639197371091853,
          0.7154835536274532,
          1.6224805364095118,
          0.7653398030445427,
          0.23135535328649925,
          0.7280991722490849,
          0.8025804338400007,
          0.6163772798627106,
          -0.4768228568966379,
          1.1876023604162123,
          1.3864211330151324,
          0.3803178764683314,
          -1.0606635560717705,
          0.3803178764683314,
          1.547999274818596,
          0.3430772456728732
         ]
        },
        {
         "marker": {
          "line": {
           "width": 1
          },
          "size": 10
         },
         "mode": "markers",
         "name": "setosa (sepal width (cm), petal width (cm))",
         "type": "scatter",
         "visible": false,
         "x": [
          -6.353047973936534,
          -5.359565737682426,
          -5.75695863218407,
          -5.558262184933247,
          -6.551744421187356,
          -6.052406471257452,
          -5.606637880844528,
          -6.154351526685712,
          -5.160869290431604,
          -6.105975830774431,
          -6.750440868438178,
          -6.154351526685712,
          -5.907279383523609,
          -5.907279383523609,
          -7.346530210190642,
          -7.045888707511562,
          -6.052406471257452,
          -5.80533432809535,
          -6.401423669847814,
          -6.401423669847814,
          -6.154351526685712,
          -5.65501357675581,
          -6.551744421187356,
          -4.312514141911339,
          -6.154351526685712,
          -5.359565737682426,
          -5.058924235003344,
          -6.353047973936534,
          -6.154351526685712,
          -5.75695863218407,
          -5.558262184933247,
          -5.058924235003344,
          -8.092940303282646,
          -7.743923104692286,
          -5.558262184933247,
          -5.75695863218407,
          -6.353047973936534,
          -7.099458067028539,
          -5.359565737682426,
          -6.154351526685712,
          -5.80533432809535,
          -3.42097696108549,
          -5.75695863218407,
          -4.162193390571798,
          -5.853710024006631,
          -4.811852091841241,
          -6.949137315688999,
          -5.75695863218407,
          -6.750440868438178,
          -5.955655079434891
         ],
         "y": [
          0.36995950651357484,
          -0.9700777918707316,
          -0.4340628725170086,
          -0.70207033219387,
          0.6379669661904365,
          1.6053823101955358,
          0.18364852932397135,
          0.1019520468367133,
          -1.238085251547593,
          -0.783766814681128,
          0.905974425867298,
          0.1019520468367133,
          -1.0517742743579896,
          -1.0517742743579896,
          1.7099968048978815,
          2.9454196085798436,
          1.6053823101955358,
          0.4516559890008329,
          1.2556783680314163,
          1.2556783680314163,
          0.1019520468367133,
          1.069367390841814,
          0.6379669661904365,
          0.07903403462162585,
          0.1019520468367133,
          -0.9700777918707316,
          0.2653450118112293,
          0.36995950651357484,
          0.1019520468367133,
          -0.4340628725170086,
          -0.70207033219387,
          0.2653450118112293,
          1.8963077820874836,
          2.2460117242516042,
          -0.70207033219387,
          -0.4340628725170086,
          0.36995950651357484,
          0.5562704837031786,
          -0.9700777918707316,
          0.1019520468367133,
          0.4516559890008329,
          -2.7644335271215033,
          -0.4340628725170086,
          0.6967454364626069,
          1.3373748505186742,
          -0.8883813093834736,
          1.1739818855441582,
          -0.4340628725170086,
          0.905974425867298,
          -0.16605541284014816
         ]
        },
        {
         "marker": {
          "line": {
           "width": 1
          },
          "size": 10
         },
         "mode": "markers",
         "name": "versicolor (sepal width (cm), petal width (cm))",
         "type": "scatter",
         "visible": false,
         "x": [
          0.8156051179101369,
          1.3633187637513213,
          1.562015211002143,
          2.056159497326349,
          2.1581045527546086,
          1.0626772610722408,
          1.7123359623416847,
          0.2143221125519754,
          0.8639808138214191,
          1.809087354164245,
          1.0091079015552615,
          1.760711658252965,
          0.6117150070536181,
          1.4116944596626022,
          0.8639808138214191,
          1.0143015651609586,
          1.760711658252965,
          -0.38176722920049017,
          3.3502832362595374,
          0.5633393111423378,
          3.0064597012748733,
          1.0626772610722408,
          2.7541938945070727,
          0.5149636152310565,
          0.8639808138214191,
          1.2129980124117805,
          1.6103909069134241,
          2.8561389499353322,
          1.9594081055037866,
          -0.18307078194966833,
          0.7620357583931597,
          0.2143221125519754,
          0.7136600624818774,
          2.904514645846614,
          1.760711658252965,
          1.5136395150908628,
          1.562015211002143,
          2.056159497326349,
          0.6652843665705973,
          1.6587666028247054,
          0.9123565097326992,
          1.2129980124117805,
          0.9123565097326992,
          0.41301855980279706,
          1.2613737083230618,
          0.11757072072941291,
          0.8639808138214191,
          0.8639808138214191,
          0.5633393111423378,
          1.0626772610722408
         ],
         "y": [
          0.5462949173300873,
          0.6279913998173454,
          0.35998394014048385,
          -1.9474687022489232,
          -0.44403843889010075,
          -0.6074314038646167,
          0.9776953419814638,
          -1.9245506900338358,
          -0.3394239441877552,
          -0.7937423810542191,
          -2.9965805287412803,
          0.09197648046362229,
          -2.4605656093875576,
          -0.25772746170049726,
          -0.3394239441877552,
          0.27828745765322577,
          0.09197648046362229,
          -1.1205283110032511,
          -2.052083196951268,
          -1.5748467478697161,
          0.8730808472791194,
          -0.6074314038646167,
          -1.2480608179206842,
          -0.6891278863518747,
          -0.3394239441877552,
          0.010279997976364226,
          -0.5257349213773588,
          0.2553694454381382,
          -0.1760309792132392,
          -1.3885357706801127,
          -1.8428542075465777,
          -1.9245506900338358,
          -0.9571353460287351,
          -0.6303494160797031,
          0.09197648046362229,
          1.2457028016583254,
          0.35998394014048385,
          -1.9474687022489232,
          -0.07141648451089366,
          -1.4114537828952,
          -1.2251428057055966,
          0.010279997976364226,
          -1.2251428057055966,
          -2.192558149710697,
          -0.875438863541477,
          -0.15311296699815172,
          -0.3394239441877552,
          -0.3394239441877552,
          -1.5748467478697161,
          -0.6074314038646167
         ]
        },
        {
         "marker": {
          "line": {
           "width": 1
          },
          "size": 10
         },
         "mode": "markers",
         "name": "virginica (sepal width (cm), petal width (cm))",
         "type": "scatter",
         "visible": false,
         "x": [
          6.641758774912339,
          4.547655583370164,
          5.046993533300069,
          3.6025490430273384,
          5.5947071791412535,
          5.046993533300069,
          3.8496211861894403,
          3.6025490430273384,
          4.397334832030625,
          6.0456694331598735,
          4.10188699295724,
          4.547655583370164,
          5.046993533300069,
          5.492762123712993,
          7.087527365325263,
          5.745027930480791,
          3.4038525957765167,
          4.005135601134681,
          6.937206613985722,
          3.3502832362595374,
          5.745027930480791,
          4.896672781960528,
          4.896672781960528,
          3.9999419375289813,
          4.450904191547604,
          3.0064597012748733,
          3.8012454902781605,
          3.4038525957765167,
          5.444386427801712,
          2.308425304094149,
          4.348959136119343,
          2.9097083094523115,
          5.992100073642897,
          2.1581045527546086,
          2.0077838014150666,
          6.142420824982435,
          5.895348681820333,
          3.205156148525695,
          3.4038525957765167,
          4.8482970860492465,
          6.4914380235727975,
          5.9437243777316136,
          4.547655583370164,
          5.745027930480791,
          6.641758774912339,
          6.142420824982435,
          4.945048477871808,
          4.499279887458885,
          5.347635035979149,
          3.4038525957765167
         ],
         "y": [
          1.7129636843667857,
          -0.38525996861792916,
          0.5821553753871703,
          0.06905846824853479,
          0.6638518578744284,
          0.5821553753871703,
          -1.0846678529461682,
          0.06905846824853479,
          -1.0029713704589103,
          2.51698606339737,
          1.0364738122536354,
          -0.38525996861792916,
          0.5821553753871703,
          -0.8395784054843942,
          0.29122990349522115,
          1.2815632597154092,
          0.3370659279253963,
          2.8079115352893185,
          -0.32648149834575885,
          -2.052083196951268,
          1.2815632597154092,
          -0.03555602645381077,
          -0.03555602645381077,
          -0.4669564511051871,
          1.3861777544177538,
          0.8730808472791194,
          -0.19894899142832673,
          0.3370659279253963,
          0.0461404560334473,
          0.17367296295088036,
          -0.11725250894106884,
          2.644518570314802,
          0.12783693852070535,
          -0.44403843889010075,
          -1.0617498407310808,
          0.745548340361686,
          1.8992746615563891,
          0.6050733876022578,
          0.3370659279253963,
          0.8501628350640319,
          1.0952522825258058,
          1.0135558000385476,
          -0.38525996861792916,
          1.2815632597154092,
          1.7129636843667857,
          0.745548340361686,
          -0.9212748879716524,
          0.5004588928999123,
          1.817578179069131,
          0.3370659279253963
         ]
        },
        {
         "marker": {
          "line": {
           "width": 1
          },
          "size": 10
         },
         "mode": "markers",
         "name": "setosa (petal length (cm), petal width (cm))",
         "type": "scatter",
         "visible": false,
         "x": [
          -6.042418497032245,
          -6.042418497032245,
          -6.196855550072802,
          -5.887981443991688,
          -6.042418497032245,
          -5.098628461392379,
          -5.802179058773147,
          -5.887981443991688,
          -6.042418497032245,
          -6.128220882250785,
          -5.887981443991688,
          -5.733544390951131,
          -6.2826579352913425,
          -6.745969094413012,
          -6.351292603113358,
          -5.407502567473493,
          -5.716376673554607,
          -5.802179058773147,
          -5.3388678996514765,
          -5.64774200573259,
          -5.579107337910574,
          -5.407502567473493,
          -6.660166709194472,
          -4.858389023133281,
          -5.270233231829461,
          -5.733544390951131,
          -5.253065514432936,
          -5.887981443991688,
          -6.042418497032245,
          -5.733544390951131,
          -5.733544390951131,
          -5.407502567473493,
          -6.128220882250785,
          -6.042418497032245,
          -5.887981443991688,
          -6.351292603113358,
          -6.196855550072802,
          -6.2826579352913425,
          -6.196855550072802,
          -5.887981443991688,
          -5.956616111813704,
          -5.956616111813704,
          -6.196855550072802,
          -4.772586637914741,
          -4.789754355311265,
          -5.802179058773147,
          -5.733544390951131,
          -6.042418497032245,
          -5.887981443991688,
          -6.042418497032245
         ],
         "y": [
          0.05692487349580403,
          0.05692487349580403,
          0.2730471083788419,
          -0.1591973613872347,
          0.05692487349580403,
          0.4170780004103114,
          0.5611847892776152,
          -0.1591973613872347,
          0.05692487349580403,
          -0.6634572771690447,
          -0.1591973613872347,
          -0.3753195962702725,
          -0.447335042286006,
          0.2010316623631066,
          0.48916934326187883,
          0.8493224701763871,
          1.2815669399424636,
          0.5611847892776152,
          -0.0871819153714992,
          0.34506255439457645,
          -0.5914418311533104,
          0.8493224701763871,
          0.9214138130279544,
          0.921337916192122,
          -1.023686300919385,
          -0.3753195962702725,
          0.6332002352933492,
          -0.1591973613872347,
          0.05692487349580403,
          -0.3753195962702725,
          -0.3753195962702725,
          0.8493224701763871,
          -0.6634572771690447,
          0.05692487349580403,
          -0.1591973613872347,
          0.48916934326187883,
          0.2730471083788419,
          -0.447335042286006,
          0.2730471083788419,
          -0.1591973613872347,
          0.777307024160653,
          0.777307024160653,
          0.2730471083788419,
          1.6417200668569705,
          -0.015166469355763388,
          0.5611847892776152,
          -0.3753195962702725,
          0.05692487349580403,
          -0.1591973613872347,
          0.05692487349580403
         ]
        },
        {
         "marker": {
          "line": {
           "width": 1
          },
          "size": 10
         },
         "mode": "markers",
         "name": "versicolor (petal length (cm), petal width (cm))",
         "type": "scatter",
         "visible": false,
         "x": [
          1.9368775124153017,
          1.8682428445932855,
          2.4859910567555135,
          0.6155787028723063,
          2.022679897633842,
          1.3877639680750906,
          2.4173563889334972,
          -1.1861989831888846,
          1.542201021115647,
          0.7013810880908465,
          -0.8773248771077706,
          1.4049316854716152,
          -0.10513961190498645,
          1.9368775124153017,
          -0.002169509289920919,
          1.4735663532936314,
          1.8682428445932855,
          0.049297441135569824,
          1.8682428445932855,
          -0.019337226686445653,
          3.0522723184922484,
          0.6155787028723063,
          2.4859910567555135,
          1.4563986358971068,
          1.0788898619939766,
          1.4735663532936314,
          2.091314565455858,
          3.1209069863142647,
          1.8682428445932855,
          -0.8773248771077706,
          -0.17377427972700263,
          -0.5684507710266566,
          0.22090221157265158,
          3.035104601095724,
          1.8682428445932855,
          2.1084822828523833,
          2.1771169506743995,
          1.2333269150345343,
          0.7700157559128625,
          0.6155787028723063,
          0.9930874767754364,
          1.782440459374744,
          0.37533926461320855,
          -1.1861989831888846,
          0.9244528089534202,
          0.6842133706943224,
          0.9244528089534202,
          1.0788898619939766,
          -1.4092707040514572,
          0.7700157559128625
         ],
         "y": [
          -1.0239898882627159,
          -0.0874855027148285,
          -0.9519744422469802,
          -0.015394159863260745,
          -0.3036077375978657,
          -1.0960053342784497,
          -0.015470056699093454,
          -0.015318263027428258,
          -1.3121275691614869,
          0.7049879908015872,
          -0.44756273279350417,
          0.5608812019342845,
          -1.528173907208693,
          -1.0239898882627159,
          0.8490947796688902,
          -0.3756231836136027,
          -0.0874855027148285,
          -1.7442961420917302,
          -0.0874855027148285,
          -0.8077917565438439,
          0.7769275399814908,
          -0.015394159863260745,
          -0.9519744422469802,
          -2.032509719826337,
          -0.6637608645123738,
          -0.3756231836136027,
          -1.2401121231457528,
          -0.15957684556639648,
          -0.0874855027148285,
          -0.44756273279350417,
          -0.591669521660806,
          -0.8798072025595801,
          -0.30353184076203393,
          -0.8799589962312434,
          -0.0874855027148285,
          0.41677441306698265,
          -0.5197299724809046,
          -0.8798830993954128,
          -0.23151639474629782,
          -0.015394159863260745,
          -1.3841430151772238,
          -0.8078676533796768,
          -0.5196540756450719,
          -0.015318263027428258,
          -0.44763862962933676,
          -0.9518985454111479,
          -0.44763862962933676,
          -0.6637608645123738,
          1.137308357403496,
          -0.23151639474629782
         ]
        },
        {
         "marker": {
          "line": {
           "width": 1
          },
          "size": 10
         },
         "mode": "markers",
         "name": "virginica (petal length (cm), petal width (cm))",
         "type": "scatter",
         "visible": false,
         "x": [
          6.587193022792614,
          3.7558229158730163,
          5.471798216715667,
          4.287768742816703,
          5.557600601934207,
          6.552857587999564,
          2.3487217211114806,
          5.368828114100601,
          4.596642848897817,
          6.74163007583317,
          3.996062354132114,
          4.06469702195413,
          4.854050004553439,
          3.8416253010915575,
          4.957020107168504,
          5.02565477499052,
          4.1333316897761465,
          6.94753407929922,
          7.49664762363943,
          2.6404281097960696,
          5.643402987152748,
          3.687188248051001,
          6.467055202781024,
          3.206709371532806,
          5.162924110634553,
          4.905516954978931,
          3.0522723184922484,
          3.206709371532806,
          5.008487057593996,
          4.116163972379622,
          5.300193446278584,
          6.003744043659354,
          5.248726495853093,
          2.794865162836626,
          3.3268109897803124,
          6.261151199314974,
          5.729205372371288,
          4.1333316897761465,
          3.0522723184922484,
          4.699612951512883,
          5.729205372371288,
          4.716780668909406,
          3.7558229158730163,
          5.952277093233862,
          6.123881863670944,
          4.8712177219499635,
          3.6013858628324598,
          4.1504994071726715,
          5.1800918280310775,
          3.515583477613919
         ],
         "y": [
          1.713280131857712,
          0.6328207511141878,
          -0.08763729638649348,
          -0.952050339082811,
          0.6327448542783564,
          -1.6004929405677566,
          0.9210343288487927,
          -2.4649059832640763,
          -1.3842948088488871,
          1.497157896974675,
          1.137080666895999,
          0.2005762813481121,
          0.7768516431456584,
          1.353202901779036,
          3.1541203300232414,
          2.2176159444753547,
          -0.7359281041997741,
          -1.312355259668984,
          -1.2403398136532517,
          -1.1680966771300176,
          1.3531270049432023,
          1.5693251366620733,
          -2.3208750912326064,
          0.5608053050984521,
          0.3446071733795822,
          -1.8165392786149628,
          0.7769275399814908,
          0.5608053050984521,
          0.5607294082626214,
          -2.3928146404125084,
          -1.5284015977161898,
          -1.6725083865834938,
          1.0649893240444326,
          -1.3842189120130546,
          -2.9690900022100544,
          0.4886380654110527,
          2.0735091556080527,
          -0.7359281041997741,
          0.7769275399814908,
          0.9929738780286953,
          2.0735091556080527,
          2.6498604142414304,
          0.6328207511141878,
          0.9208825351771266,
          2.3616468365068246,
          2.4337381793583917,
          0.8489429859972247,
          0.9209584320129602,
          2.0014937095923155,
          0.12856083533237772
         ]
        }
       ],
       "layout": {
        "autosize": true,
        "legend": {
         "orientation": "h",
         "x": 0.5,
         "xanchor": "center",
         "y": -0.3,
         "yanchor": "bottom"
        },
        "margin": {
         "b": 0,
         "l": 0,
         "r": 0,
         "t": 30
        },
        "template": {
         "data": {
          "bar": [
           {
            "error_x": {
             "color": "#2a3f5f"
            },
            "error_y": {
             "color": "#2a3f5f"
            },
            "marker": {
             "line": {
              "color": "#E5ECF6",
              "width": 0.5
             },
             "pattern": {
              "fillmode": "overlay",
              "size": 10,
              "solidity": 0.2
             }
            },
            "type": "bar"
           }
          ],
          "barpolar": [
           {
            "marker": {
             "line": {
              "color": "#E5ECF6",
              "width": 0.5
             },
             "pattern": {
              "fillmode": "overlay",
              "size": 10,
              "solidity": 0.2
             }
            },
            "type": "barpolar"
           }
          ],
          "carpet": [
           {
            "aaxis": {
             "endlinecolor": "#2a3f5f",
             "gridcolor": "white",
             "linecolor": "white",
             "minorgridcolor": "white",
             "startlinecolor": "#2a3f5f"
            },
            "baxis": {
             "endlinecolor": "#2a3f5f",
             "gridcolor": "white",
             "linecolor": "white",
             "minorgridcolor": "white",
             "startlinecolor": "#2a3f5f"
            },
            "type": "carpet"
           }
          ],
          "choropleth": [
           {
            "colorbar": {
             "outlinewidth": 0,
             "ticks": ""
            },
            "type": "choropleth"
           }
          ],
          "contour": [
           {
            "colorbar": {
             "outlinewidth": 0,
             "ticks": ""
            },
            "colorscale": [
             [
              0,
              "#0d0887"
             ],
             [
              0.1111111111111111,
              "#46039f"
             ],
             [
              0.2222222222222222,
              "#7201a8"
             ],
             [
              0.3333333333333333,
              "#9c179e"
             ],
             [
              0.4444444444444444,
              "#bd3786"
             ],
             [
              0.5555555555555556,
              "#d8576b"
             ],
             [
              0.6666666666666666,
              "#ed7953"
             ],
             [
              0.7777777777777778,
              "#fb9f3a"
             ],
             [
              0.8888888888888888,
              "#fdca26"
             ],
             [
              1,
              "#f0f921"
             ]
            ],
            "type": "contour"
           }
          ],
          "contourcarpet": [
           {
            "colorbar": {
             "outlinewidth": 0,
             "ticks": ""
            },
            "type": "contourcarpet"
           }
          ],
          "heatmap": [
           {
            "colorbar": {
             "outlinewidth": 0,
             "ticks": ""
            },
            "colorscale": [
             [
              0,
              "#0d0887"
             ],
             [
              0.1111111111111111,
              "#46039f"
             ],
             [
              0.2222222222222222,
              "#7201a8"
             ],
             [
              0.3333333333333333,
              "#9c179e"
             ],
             [
              0.4444444444444444,
              "#bd3786"
             ],
             [
              0.5555555555555556,
              "#d8576b"
             ],
             [
              0.6666666666666666,
              "#ed7953"
             ],
             [
              0.7777777777777778,
              "#fb9f3a"
             ],
             [
              0.8888888888888888,
              "#fdca26"
             ],
             [
              1,
              "#f0f921"
             ]
            ],
            "type": "heatmap"
           }
          ],
          "heatmapgl": [
           {
            "colorbar": {
             "outlinewidth": 0,
             "ticks": ""
            },
            "colorscale": [
             [
              0,
              "#0d0887"
             ],
             [
              0.1111111111111111,
              "#46039f"
             ],
             [
              0.2222222222222222,
              "#7201a8"
             ],
             [
              0.3333333333333333,
              "#9c179e"
             ],
             [
              0.4444444444444444,
              "#bd3786"
             ],
             [
              0.5555555555555556,
              "#d8576b"
             ],
             [
              0.6666666666666666,
              "#ed7953"
             ],
             [
              0.7777777777777778,
              "#fb9f3a"
             ],
             [
              0.8888888888888888,
              "#fdca26"
             ],
             [
              1,
              "#f0f921"
             ]
            ],
            "type": "heatmapgl"
           }
          ],
          "histogram": [
           {
            "marker": {
             "pattern": {
              "fillmode": "overlay",
              "size": 10,
              "solidity": 0.2
             }
            },
            "type": "histogram"
           }
          ],
          "histogram2d": [
           {
            "colorbar": {
             "outlinewidth": 0,
             "ticks": ""
            },
            "colorscale": [
             [
              0,
              "#0d0887"
             ],
             [
              0.1111111111111111,
              "#46039f"
             ],
             [
              0.2222222222222222,
              "#7201a8"
             ],
             [
              0.3333333333333333,
              "#9c179e"
             ],
             [
              0.4444444444444444,
              "#bd3786"
             ],
             [
              0.5555555555555556,
              "#d8576b"
             ],
             [
              0.6666666666666666,
              "#ed7953"
             ],
             [
              0.7777777777777778,
              "#fb9f3a"
             ],
             [
              0.8888888888888888,
              "#fdca26"
             ],
             [
              1,
              "#f0f921"
             ]
            ],
            "type": "histogram2d"
           }
          ],
          "histogram2dcontour": [
           {
            "colorbar": {
             "outlinewidth": 0,
             "ticks": ""
            },
            "colorscale": [
             [
              0,
              "#0d0887"
             ],
             [
              0.1111111111111111,
              "#46039f"
             ],
             [
              0.2222222222222222,
              "#7201a8"
             ],
             [
              0.3333333333333333,
              "#9c179e"
             ],
             [
              0.4444444444444444,
              "#bd3786"
             ],
             [
              0.5555555555555556,
              "#d8576b"
             ],
             [
              0.6666666666666666,
              "#ed7953"
             ],
             [
              0.7777777777777778,
              "#fb9f3a"
             ],
             [
              0.8888888888888888,
              "#fdca26"
             ],
             [
              1,
              "#f0f921"
             ]
            ],
            "type": "histogram2dcontour"
           }
          ],
          "mesh3d": [
           {
            "colorbar": {
             "outlinewidth": 0,
             "ticks": ""
            },
            "type": "mesh3d"
           }
          ],
          "parcoords": [
           {
            "line": {
             "colorbar": {
              "outlinewidth": 0,
              "ticks": ""
             }
            },
            "type": "parcoords"
           }
          ],
          "pie": [
           {
            "automargin": true,
            "type": "pie"
           }
          ],
          "scatter": [
           {
            "fillpattern": {
             "fillmode": "overlay",
             "size": 10,
             "solidity": 0.2
            },
            "type": "scatter"
           }
          ],
          "scatter3d": [
           {
            "line": {
             "colorbar": {
              "outlinewidth": 0,
              "ticks": ""
             }
            },
            "marker": {
             "colorbar": {
              "outlinewidth": 0,
              "ticks": ""
             }
            },
            "type": "scatter3d"
           }
          ],
          "scattercarpet": [
           {
            "marker": {
             "colorbar": {
              "outlinewidth": 0,
              "ticks": ""
             }
            },
            "type": "scattercarpet"
           }
          ],
          "scattergeo": [
           {
            "marker": {
             "colorbar": {
              "outlinewidth": 0,
              "ticks": ""
             }
            },
            "type": "scattergeo"
           }
          ],
          "scattergl": [
           {
            "marker": {
             "colorbar": {
              "outlinewidth": 0,
              "ticks": ""
             }
            },
            "type": "scattergl"
           }
          ],
          "scattermapbox": [
           {
            "marker": {
             "colorbar": {
              "outlinewidth": 0,
              "ticks": ""
             }
            },
            "type": "scattermapbox"
           }
          ],
          "scatterpolar": [
           {
            "marker": {
             "colorbar": {
              "outlinewidth": 0,
              "ticks": ""
             }
            },
            "type": "scatterpolar"
           }
          ],
          "scatterpolargl": [
           {
            "marker": {
             "colorbar": {
              "outlinewidth": 0,
              "ticks": ""
             }
            },
            "type": "scatterpolargl"
           }
          ],
          "scatterternary": [
           {
            "marker": {
             "colorbar": {
              "outlinewidth": 0,
              "ticks": ""
             }
            },
            "type": "scatterternary"
           }
          ],
          "surface": [
           {
            "colorbar": {
             "outlinewidth": 0,
             "ticks": ""
            },
            "colorscale": [
             [
              0,
              "#0d0887"
             ],
             [
              0.1111111111111111,
              "#46039f"
             ],
             [
              0.2222222222222222,
              "#7201a8"
             ],
             [
              0.3333333333333333,
              "#9c179e"
             ],
             [
              0.4444444444444444,
              "#bd3786"
             ],
             [
              0.5555555555555556,
              "#d8576b"
             ],
             [
              0.6666666666666666,
              "#ed7953"
             ],
             [
              0.7777777777777778,
              "#fb9f3a"
             ],
             [
              0.8888888888888888,
              "#fdca26"
             ],
             [
              1,
              "#f0f921"
             ]
            ],
            "type": "surface"
           }
          ],
          "table": [
           {
            "cells": {
             "fill": {
              "color": "#EBF0F8"
             },
             "line": {
              "color": "white"
             }
            },
            "header": {
             "fill": {
              "color": "#C8D4E3"
             },
             "line": {
              "color": "white"
             }
            },
            "type": "table"
           }
          ]
         },
         "layout": {
          "annotationdefaults": {
           "arrowcolor": "#2a3f5f",
           "arrowhead": 0,
           "arrowwidth": 1
          },
          "autotypenumbers": "strict",
          "coloraxis": {
           "colorbar": {
            "outlinewidth": 0,
            "ticks": ""
           }
          },
          "colorscale": {
           "diverging": [
            [
             0,
             "#8e0152"
            ],
            [
             0.1,
             "#c51b7d"
            ],
            [
             0.2,
             "#de77ae"
            ],
            [
             0.3,
             "#f1b6da"
            ],
            [
             0.4,
             "#fde0ef"
            ],
            [
             0.5,
             "#f7f7f7"
            ],
            [
             0.6,
             "#e6f5d0"
            ],
            [
             0.7,
             "#b8e186"
            ],
            [
             0.8,
             "#7fbc41"
            ],
            [
             0.9,
             "#4d9221"
            ],
            [
             1,
             "#276419"
            ]
           ],
           "sequential": [
            [
             0,
             "#0d0887"
            ],
            [
             0.1111111111111111,
             "#46039f"
            ],
            [
             0.2222222222222222,
             "#7201a8"
            ],
            [
             0.3333333333333333,
             "#9c179e"
            ],
            [
             0.4444444444444444,
             "#bd3786"
            ],
            [
             0.5555555555555556,
             "#d8576b"
            ],
            [
             0.6666666666666666,
             "#ed7953"
            ],
            [
             0.7777777777777778,
             "#fb9f3a"
            ],
            [
             0.8888888888888888,
             "#fdca26"
            ],
            [
             1,
             "#f0f921"
            ]
           ],
           "sequentialminus": [
            [
             0,
             "#0d0887"
            ],
            [
             0.1111111111111111,
             "#46039f"
            ],
            [
             0.2222222222222222,
             "#7201a8"
            ],
            [
             0.3333333333333333,
             "#9c179e"
            ],
            [
             0.4444444444444444,
             "#bd3786"
            ],
            [
             0.5555555555555556,
             "#d8576b"
            ],
            [
             0.6666666666666666,
             "#ed7953"
            ],
            [
             0.7777777777777778,
             "#fb9f3a"
            ],
            [
             0.8888888888888888,
             "#fdca26"
            ],
            [
             1,
             "#f0f921"
            ]
           ]
          },
          "colorway": [
           "#636efa",
           "#EF553B",
           "#00cc96",
           "#ab63fa",
           "#FFA15A",
           "#19d3f3",
           "#FF6692",
           "#B6E880",
           "#FF97FF",
           "#FECB52"
          ],
          "font": {
           "color": "#2a3f5f"
          },
          "geo": {
           "bgcolor": "white",
           "lakecolor": "white",
           "landcolor": "#E5ECF6",
           "showlakes": true,
           "showland": true,
           "subunitcolor": "white"
          },
          "hoverlabel": {
           "align": "left"
          },
          "hovermode": "closest",
          "mapbox": {
           "style": "light"
          },
          "paper_bgcolor": "white",
          "plot_bgcolor": "#E5ECF6",
          "polar": {
           "angularaxis": {
            "gridcolor": "white",
            "linecolor": "white",
            "ticks": ""
           },
           "bgcolor": "#E5ECF6",
           "radialaxis": {
            "gridcolor": "white",
            "linecolor": "white",
            "ticks": ""
           }
          },
          "scene": {
           "xaxis": {
            "backgroundcolor": "#E5ECF6",
            "gridcolor": "white",
            "gridwidth": 2,
            "linecolor": "white",
            "showbackground": true,
            "ticks": "",
            "zerolinecolor": "white"
           },
           "yaxis": {
            "backgroundcolor": "#E5ECF6",
            "gridcolor": "white",
            "gridwidth": 2,
            "linecolor": "white",
            "showbackground": true,
            "ticks": "",
            "zerolinecolor": "white"
           },
           "zaxis": {
            "backgroundcolor": "#E5ECF6",
            "gridcolor": "white",
            "gridwidth": 2,
            "linecolor": "white",
            "showbackground": true,
            "ticks": "",
            "zerolinecolor": "white"
           }
          },
          "shapedefaults": {
           "line": {
            "color": "#2a3f5f"
           }
          },
          "ternary": {
           "aaxis": {
            "gridcolor": "white",
            "linecolor": "white",
            "ticks": ""
           },
           "baxis": {
            "gridcolor": "white",
            "linecolor": "white",
            "ticks": ""
           },
           "bgcolor": "#E5ECF6",
           "caxis": {
            "gridcolor": "white",
            "linecolor": "white",
            "ticks": ""
           }
          },
          "title": {
           "x": 0.05
          },
          "xaxis": {
           "automargin": true,
           "gridcolor": "white",
           "linecolor": "white",
           "ticks": "",
           "title": {
            "standoff": 15
           },
           "zerolinecolor": "white",
           "zerolinewidth": 2
          },
          "yaxis": {
           "automargin": true,
           "gridcolor": "white",
           "linecolor": "white",
           "ticks": "",
           "title": {
            "standoff": 15
           },
           "zerolinecolor": "white",
           "zerolinewidth": 2
          }
         }
        },
        "title": {
         "text": "LDA Transformation Using"
        },
        "updatemenus": [
         {
          "buttons": [
           {
            "args": [
             {
              "visible": [
               true,
               true,
               true,
               false,
               false,
               false,
               false,
               false,
               false,
               false,
               false,
               false,
               false,
               false,
               false,
               false,
               false,
               false
              ]
             },
             {
              "title": "LDA Transformation Using "
             }
            ],
            "label": "sepal length (cm) & sepal width (cm)",
            "method": "update"
           },
           {
            "args": [
             {
              "visible": [
               false,
               false,
               false,
               true,
               true,
               true,
               false,
               false,
               false,
               false,
               false,
               false,
               false,
               false,
               false,
               false,
               false,
               false
              ]
             },
             {
              "title": "LDA Transformation Using "
             }
            ],
            "label": "sepal length (cm) & petal length (cm)",
            "method": "update"
           },
           {
            "args": [
             {
              "visible": [
               false,
               false,
               false,
               false,
               false,
               false,
               true,
               true,
               true,
               false,
               false,
               false,
               false,
               false,
               false,
               false,
               false,
               false
              ]
             },
             {
              "title": "LDA Transformation Using "
             }
            ],
            "label": "sepal length (cm) & petal width (cm)",
            "method": "update"
           },
           {
            "args": [
             {
              "visible": [
               false,
               false,
               false,
               false,
               false,
               false,
               false,
               false,
               false,
               true,
               true,
               true,
               false,
               false,
               false,
               false,
               false,
               false
              ]
             },
             {
              "title": "LDA Transformation Using "
             }
            ],
            "label": "sepal width (cm) & petal length (cm)",
            "method": "update"
           },
           {
            "args": [
             {
              "visible": [
               false,
               false,
               false,
               false,
               false,
               false,
               false,
               false,
               false,
               false,
               false,
               false,
               true,
               true,
               true,
               false,
               false,
               false
              ]
             },
             {
              "title": "LDA Transformation Using "
             }
            ],
            "label": "sepal width (cm) & petal width (cm)",
            "method": "update"
           },
           {
            "args": [
             {
              "visible": [
               false,
               false,
               false,
               false,
               false,
               false,
               false,
               false,
               false,
               false,
               false,
               false,
               false,
               false,
               false,
               true,
               true,
               true
              ]
             },
             {
              "title": "LDA Transformation Using "
             }
            ],
            "label": "petal length (cm) & petal width (cm)",
            "method": "update"
           }
          ],
          "direction": "down",
          "pad": {
           "r": 10,
           "t": 10
          },
          "showactive": true,
          "x": 0.35,
          "xanchor": "left",
          "y": 1.192,
          "yanchor": "top"
         }
        ],
        "xaxis": {
         "autorange": true,
         "range": [
          -5.839707922639549,
          4.8620116249850245
         ],
         "title": {
          "text": "LD1"
         },
         "type": "linear"
        },
        "yaxis": {
         "autorange": true,
         "range": [
          -3.781983017608801,
          3.452351525498619
         ],
         "title": {
          "text": "LD2"
         },
         "type": "linear"
        }
       }
      },
      "image/png": "[encoded data removed]",
      "text/html": [
       "<div>                            <div id=\"d0d39589-c358-4435-bf03-ab8a9188e18d\" class=\"plotly-graph-div\" style=\"height:525px; width:100%;\"></div>            <script type=\"text/javascript\">                require([\"plotly\"], function(Plotly) {                    window.PLOTLYENV=window.PLOTLYENV || {};                                    if (document.getElementById(\"d0d39589-c358-4435-bf03-ab8a9188e18d\")) {                    Plotly.newPlot(                        \"d0d39589-c358-4435-bf03-ab8a9188e18d\",                        [{\"marker\":{\"line\":{\"width\":1},\"size\":10},\"mode\":\"markers\",\"name\":\"setosa (sepal length (cm), sepal width (cm))\",\"visible\":true,\"x\":[2.816958862632194,1.86113987172074,2.842997374448503,2.780304270486895,3.3078876139960744,3.2818491021797636,3.6107370534751295,2.7542657586705843,2.6549180625636755,2.137950799383485,2.7282272468542748,3.182501406072857,2.0752576954218775,3.1458468139275584,2.7021887350379656,4.023550269390082,3.2818491021797636,2.816958862632194,2.3626847034136107,3.6473916456204285,1.8977944638660391,3.3705807179576843,4.16435890880062,2.2633370073067036,3.182501406072857,1.6470220480196047,2.7542657586705843,2.602841038931057,2.3260301112683117,2.842997374448503,2.3520686230846226,1.8977944638660391,4.263706604907526,3.898164061466864,2.137950799383485,2.200643903345095,1.9604875678276488,3.5220054376972096,2.931728990226421,2.5401479349694487,3.0310766863333294,0.7799346728860707,3.485350845551911,3.0310766863333294,3.6473916456204285,2.0752576954218775,3.6473916456204285,3.0571151981496403,2.9423450705554117,2.4774548310078393],\"y\":[-0.3218441989833802,0.8892484405561153,0.6330875860392786,0.9242224427969561,-0.4499246262417989,-1.4048564112644584,0.29539951677281395,-0.03070934222570354,1.5064921563123093,0.6796407985480677,-0.9856411272483641,0.1323450872735552,0.9707756553057449,1.3784117290538915,-1.940572912271023,-2.6974762655535844,-1.4048564112644584,-0.3218441989833802,-1.4398304135052984,-0.9506671250075223,-0.356818201224221,-0.7410594829994755,-0.1238157672432814,0.09737108503271515,0.1323450872735552,0.8077212258064862,-0.03070934222570354,-0.40337141373300994,-0.19376377172496229,0.6330875860392786,0.7611680132976973,-0.356818201224221,-1.661017265781294,-2.1152065520382304,0.6796407985480677,0.3885059417903909,-0.6479530579818976,-0.3683974114921698,1.2968845143042618,-0.11223655697533252,-0.24031698423375122,2.6826107936109658,0.8776692302881663,-0.24031698423375122,-0.9506671250075223,0.9707756553057449,-0.9506671250075223,0.7146148007889084,-0.9041139124987343,0.17889829978234414],\"type\":\"scatter\"},{\"marker\":{\"line\":{\"width\":1},\"size\":10},\"mode\":\"markers\",\"name\":\"versicolor (sepal length (cm), sepal width (cm))\",\"visible\":true,\"x\":[-2.0817125706776274,-0.7970056284708112,-2.1444056746392373,-1.361243564125291,-2.1183671628229273,-0.40542457321383873,-0.3060768771069301,0.20027430574427016,-2.055674058861318,0.3883536176290979,-1.1210872286078446,-0.28003836529062104,-2.7086436102937155,-0.985084940355637,0.08550417815004362,-1.7161700272369644,0.3623151058127888,-0.8963533245777181,-3.136879257695988,-1.021739532500936,0.2735834900348693,-1.2618958680183823,-2.520564298408889,-1.2618958680183823,-1.6274384114590468,-1.7788631311985725,-2.7607206339263355,-1.9929809548997097,-0.7709671166545016,-0.9590464285393279,-1.0844326364625456,-1.0844326364625456,-0.8963533245777181,-1.3245889719799908,0.7905507532150596,0.6130875216592231,-1.7161700272369644,-3.0741861537343795,0.3623151058127888,-0.8076217087998004,-0.5308107811370553,-0.7082740126928918,-1.1731642522404633,-0.2906544456196102,-0.4681176771754455,0.1481972821116516,-0.12861364555109359,-1.1992027640567742,0.04884958600474474,-0.40542457321383873],\"y\":[-1.242038353202195,-0.7528750647044196,-0.9509034964445182,1.8673386461146726,0.0040282885781421545,0.6562460065751764,-0.8809554919628365,2.1468942926044003,-0.2871065681795345,1.2734897223313695,2.903797645886961,0.07397629305982233,1.6693102143745728,0.120529505568612,0.5281655793167584,-0.7878490669452596,0.3185579373087108,0.7843264338335941,1.5062557848753142,1.3665961473489483,-0.34523899095627303,0.3301371475766597,0.7959056441015431,0.3301371475766597,-0.12405213868027648,-0.49671421018758216,-0.24055335567074557,-0.578241424937212,0.202056720318241,1.0754612905912708,1.6577310041066249,1.6577310041066249,0.7843264338335941,0.6212720043343354,0.4816123668079688,-0.8459814897219965,-0.7878490669452596,1.2151209281176385,0.3185579373087108,1.4481233620985772,1.2385157200905297,-0.08907813643943567,0.9939340758416418,2.274974719862819,0.9473808633328529,0.23703072255908106,0.44663836456712874,0.039002290818982266,1.7742322210970947,0.6562460065751764],\"type\":\"scatter\"},{\"marker\":{\"line\":{\"width\":1},\"size\":10},\"mode\":\"markers\",\"name\":\"virginica (sepal length (cm), sepal width (cm))\",\"visible\":true,\"x\":[-0.3060768771069301,-0.8963533245777181,-2.8494522497042527,-1.4133205877579096,-1.5647453074974371,-3.9200413682099335,0.47708523340701536,-3.554498824769271,-3.377035593213434,-1.4027045074289204,-1.0111234521719468,-2.181060266784536,-2.207098778600845,-1.2358573562020732,-0.6195423969149741,-0.7970056284708112,-1.5647453074974371,-1.9196717706091122,-5.241402902562051,-2.7086436102937155,-1.8675947469764922,-0.19130674951270157,-4.6877810472365615,-1.9669424430833988,-1.1625481719114754,-2.5099482180799,-1.4760136917195195,-0.7082740126928918,-1.904249339121792,-3.06357007340539,-4.045427576133153,-2.347907418011385,-1.904249339121792,-1.6901315154206549,-1.8155177233438713,-4.134159191911071,-0.029265949444184945,-1.0738165561335564,-0.4941561889917564,-2.1444056746392373,-1.7161700272369644,-2.1444056746392373,-0.8963533245777181,-1.6534769232753548,-1.1625481719114754,-1.9929809548997097,-2.520564298408889,-1.5647453074974371,0.18485187425695046,-0.28003836529062104],\"y\":[-0.8809554919628365,0.7843264338335941,-0.9043502839357286,-0.04252492393064672,-0.4151869954379532,-1.311986357683875,1.9372866505963529,-0.8577970714269397,0.4697967851030255,-2.2435233507336436,-0.8344022794540485,0.29516314533581794,-0.659768639686841,1.2850689325993185,0.5747187918255474,-0.7528750647044196,-0.4151869954379532,-3.0703747084978845,-0.5550830044013151,1.6693102143745728,-1.160511138452566,0.7377732213248062,-0.9742982884174095,0.3766903600854477,-1.2070643509613541,-1.4050927827014537,0.24860993282702995,-0.08907813643943567,0.08555550332777119,-0.9858774986853583,-0.7297166441685218,-3.233429137997143,0.08555550332777119,0.16708271807740097,0.7493524315927541,-1.3935135724335048,-1.0905631339708841,-0.5432674226963718,-0.007550921689806665,-0.9509034964445182,-0.7878490669452596,-0.9509034964445182,0.7843264338335941,-1.0789839237029364,-1.2070643509613541,-0.578241424937212,0.7959056441015431,-0.4151869954379532,-1.0090359192212552,0.07397629305982233],\"type\":\"scatter\"},{\"marker\":{\"line\":{\"width\":1},\"size\":10},\"mode\":\"markers\",\"name\":\"setosa (sepal length (cm), petal length (cm))\",\"visible\":false,\"x\":[-6.849267645820983,-6.517488361911603,-6.528473312566154,-5.677055201483599,-6.683378003866293,-6.318643867993259,-6.019819436047531,-6.340613769302361,-5.688040152138151,-6.174724127347671,-7.0041723371211235,-5.666070250829048,-6.351598719956912,-6.550443213875255,-8.696023608631679,-7.501841262985194,-7.689700806248988,-6.849267645820983,-6.81631279385733,-6.506503411257051,-6.318643867993259,-6.506503411257051,-7.390876374303258,-5.820974942129187,-4.637777547137253,-5.997849534738429,-5.997849534738429,-6.672393053211742,-7.015157287775674,-5.5001806088743574,-5.666070250829048,-7.0041723371211235,-6.672393053211742,-7.5128262136397455,-6.174724127347671,-7.368906472994156,-7.855590448203677,-6.517488361911603,-6.0308043867020835,-6.506503411257051,-7.026142238430225,-6.196694028656773,-6.0308043867020835,-5.997849534738429,-5.135446473001323,-6.351598719956912,-6.163739176693118,-6.019819436047531,-6.838282695166432,-6.683378003866293],\"y\":[0.3588102695963552,-0.13353659838973245,-0.5330633025811662,-0.9648770641635241,0.11263683560331149,0.8188700801915234,-0.8720569003688682,0.01981667180865556,-1.3644037683549557,-0.22635676218438835,1.0045104077808353,-0.5653503599720899,-0.3797100323827781,-1.3321167109640344,2.26766463513698,1.7430307097599687,1.190150735370147,0.3588102695963552,1.557390382170657,0.26599010580169924,0.8188700801915234,0.26599010580169924,-0.5007762451902449,0.08034977821238741,-0.8438108513560574,-0.07300349198600037,-0.07300349198600037,0.5121635397947454,0.6049837035894013,-0.8115237939651339,-0.5653503599720899,1.0045104077808353,0.5121635397947454,1.3435040055685348,-0.22635676218438835,0.29827716319262293,1.4363241693631907,-0.13353659838973245,-1.2715836045602997,0.26599010580169924,0.2054569993979674,-1.0254101705672558,-1.2715836045602997,-0.07300349198600037,-0.10529054937692402,-0.3797100323827781,0.17316994200704333,-0.8720569003688682,0.7583369737877891,0.11263683560331149],\"type\":\"scatter\"},{\"marker\":{\"line\":{\"width\":1},\"size\":10},\"mode\":\"markers\",\"name\":\"versicolor (sepal length (cm), petal length (cm))\",\"visible\":false,\"x\":[1.3100488976496503,1.619858280249928,2.1614670087322043,1.3990438850224833,1.7967328728591687,2.7810857739327615,2.471276391332484,-0.004967905196898269,1.630843230904479,1.5539485763226222,0.5146709219762763,1.4210137863315853,0.5695956752490311,2.8030556752418647,-0.1379026951879337,0.7794251198219262,2.9469754158874526,1.244139193722343,1.9516375641593091,0.8903900085038613,3.477599193715175,0.4037060332943412,3.156804860460348,2.8030556752418647,0.9343298111220636,0.9453147617766176,1.984592416122962,2.836010527205516,2.2834168480686903,-0.6465565717065572,0.713515415894619,0.37075118133068835,0.55861072459448,4.34000225545228,3.278754699796832,2.2834168480686903,1.8077178235137212,1.4429836876406887,1.575918477631724,1.3990438850224833,2.770100823278212,2.4602914406779313,0.9013749591584123,-0.17085754715158807,1.9186827121956578,1.7527930702409664,1.7527930702409664,1.2661090950314449,-1.365039892798073,1.4100288356770327],\"y\":[1.973040110240562,0.6816398338716068,1.5412263486582063,-1.0698202530925172,0.8349931040699949,-1.0415742040797065,0.2498260722892488,-1.8971197104881934,1.0811665380630386,-1.7155203912769947,-1.8365866040844612,-0.27076684470964935,0.1610469168727063,-0.24252079569684093,-0.45236616392085,1.5129802996453958,-1.2877476380727524,-0.42412011490803897,0.18929296588551695,-0.7308266553048174,-0.8276878274775841,0.4072203508657501,0.06418574469993694,-0.24252079569684093,0.8672801614609186,1.2668068656523497,1.3878730784598168,0.9560593168774612,-0.3030539021005729,-0.1133725661331481,-0.8841799255032052,-0.7913597617085497,-0.23847978731872757,-0.8599748848685076,-1.78009450605884,-0.3030539021005729,1.2345198082614284,0.5282865636732161,-0.9164669828941288,-1.0698202530925172,-1.4411009082711408,-0.1497006319021846,-0.3312999511133835,-1.6509462764951495,-1.0092871466887852,-0.7631137126957391,-0.7631137126957391,0.3749332934748288,-1.1263123511181383,-0.6702935489010828],\"type\":\"scatter\"},{\"marker\":{\"line\":{\"width\":1},\"size\":10},\"mode\":\"markers\",\"name\":\"virginica (sepal length (cm), petal length (cm))\",\"visible\":false,\"x\":[6.927211440663597,4.671781539361661,5.257330070462143,5.5561545024078685,5.909903687626351,6.827231502636212,4.108202909570284,6.296607724808488,5.578124403716971,5.776968897635313,3.510554045678828,4.361972156761382,4.3839420580704855,4.494906946752421,4.671781539361661,4.361972156761382,4.881610983934556,7.0041060952454535,7.689634564373319,3.9972380208883496,4.903580885243659,4.318032354143181,7.0041060952454535,3.156804860460348,5.23536016915304,5.434204663071382,2.9799302678511044,3.488584144369729,5.390264860453177,4.748676193943518,5.445189613725932,5.644034107644278,5.390264860453177,3.842333329588209,5.88793378631725,4.947520687861861,5.5561545024078685,5.0475006258892465,3.3117095517604853,3.8752881815518636,4.892595934589106,2.8469954778600655,4.671781539361661,5.754998996326214,5.23536016915304,3.5215389963333803,3.4995690950242784,3.8533182802427617,5.036515675234697,4.50589189740697],\"y\":[-0.9568360570412769,-1.3523217528545974,1.1053715786977356,-0.5855554018626533,-0.2788488614658753,1.6864976021003686,-3.0109616760240634,1.2264377915052025,0.21349800652021456,1.1659046851014703,0.3708922850967158,-0.06092147648563979,0.7381319318972258,-1.5056750230529856,-1.3523217528545974,-0.06092147648563979,-0.00038837008190793147,1.8398508722987579,1.6542105447094462,-0.7671547210738521,0.7986650383009597,-1.6590282932513762,1.8398508722987579,0.06418574469993694,0.3063181703148701,1.2587248488961258,-0.08916752549845042,-0.4281611232861528,-0.3393819678696071,1.4443651764854377,1.6582515530875603,2.610658231668816,-0.3393819678696071,-0.12145458288937408,-1.077902269848743,2.3967718550666937,-0.5855554018626533,-0.24656180407495162,-0.5815143934845403,1.0771255296849271,0.3991383341095264,1.3555860210688953,-1.3523217528545974,0.3668512767186021,0.3063181703148701,0.7704189892881492,-0.028634419094718568,0.27807212130205944,-0.646088508266386,-1.1061483188615515],\"type\":\"scatter\"},{\"marker\":{\"line\":{\"width\":1},\"size\":10},\"mode\":\"markers\",\"name\":\"setosa (sepal length (cm), petal width (cm))\",\"visible\":false,\"x\":[-4.887415864206914,-4.881985240332194,-4.876554616457474,-4.873839304520114,-4.884700552269554,-3.913387080284245,-4.38275194465274,-4.884700552269554,-4.868408680645395,-5.373072600199567,-4.895561800018993,-4.879269928394835,-5.370357288262207,-5.3567807285754085,-4.906423047768433,-3.921533016096325,-3.913387080284245,-4.3963285043395395,-4.412620375963699,-4.3963285043395395,-4.895561800018993,-3.905241144472166,-4.873839304520114,-3.414153784604792,-4.879269928394835,-4.884700552269554,-3.902525832534806,-4.890131176144274,-4.890131176144274,-4.876554616457474,-4.879269928394835,-3.913387080284245,-5.381218536011647,-4.898277111956353,-4.881985240332194,-4.884700552269554,-4.898277111956353,-5.373072600199567,-4.868408680645395,-4.887415864206914,-4.39361319240218,-4.38003663271538,-4.868408680645395,-2.9203511128000583,-3.905241144472166,-4.38818256852746,-4.887415864206914,-4.873839304520114,-4.892846488081633,-4.884700552269554],\"y\":[0.2972084170578192,-0.11996843294210237,-0.5371452829420259,-0.7457337079419885,0.08861999205785841,0.5531840237006277,-0.9306285421205275,0.08861999205785841,-1.1629105579419106,0.06492640123643625,0.9229736920577055,-0.32855685794206513,-0.14366202376352652,-1.1866041487633343,1.7573273920575507,1.178949298700512,0.5531840237006277,0.11231358287928016,1.3638441328790507,0.11231358287928016,0.9229736920577055,-0.07258125129925867,-0.7457337079419885,-0.2574760854777975,-0.32855685794206513,0.08861999205785841,-0.28116967629921946,0.505796842057782,0.505796842057782,-0.5371452829420259,-0.32855685794206513,0.5531840237006277,0.6906916762363206,1.1315621170576662,-0.11996843294210237,0.08861999205785841,1.1315621170576662,0.06492640123643625,-1.1629105579419106,0.2972084170578192,-0.09627484212068062,-1.1392169671204884,-1.1629105579419106,-0.6509593446562971,-0.07258125129925867,-0.5134516921206042,0.2972084170578192,-0.7457337079419885,0.7143852670577427,0.08861999205785841],\"type\":\"scatter\"},{\"marker\":{\"line\":{\"width\":1},\"size\":10},\"mode\":\"markers\",\"name\":\"versicolor (sepal length (cm), petal width (cm))\",\"visible\":false,\"x\":[0.9540415273917351,1.4614207588832684,1.4478441991964692,0.5036838465847596,1.4587054469459086,0.4982532227100399,1.9552234306880025,-0.953286361393203,0.4738154152738013,1.0029171422642125,-0.9560016733305629,1.4749973185700678,-0.9831547927041614,0.9784793348279738,0.5009685346473998,0.9621874632038147,1.4831432543821472,-0.9777241688294417,1.466851382757988,-0.4812061850873477,2.9482593981721896,0.48739197496060055,1.4641360708206284,-0.0036953849067737654,0.47924603914852093,0.9649027751411745,0.9594721512664548,2.4354495428059364,1.4722820066327078,-0.9750088568920818,-0.47849087314998784,-0.9695782330173621,0.004450550905305792,1.9633693665000822,1.488573878256867,1.9633693665000822,1.453274823071189,0.48196135108588084,0.5009685346473998,0.5036838465847596,0.012596486717385351,0.9784793348279738,0.004450550905305792,-0.9560016733305629,0.5009685346473998,0.007165862842665637,0.4982532227100399,0.48467666302324064,-0.4676296254005484,0.4982532227100399],\"y\":[2.041650481914624,0.6052250977363158,1.6481672227361235,-0.9022810589062614,0.8138135227362766,-0.4851042089063379,0.21174183855781417,-1.5991271063704133,1.392191616093315,-1.7129411680846844,-1.3905386813704526,-0.437717027263492,0.6953455686291632,0.1643546569149687,-0.6936926339063005,1.4158852069147392,-1.0634823022633781,0.27816871862923964,0.1880482477363923,-0.3239029655492229,-0.9924015297991087,0.34924949109350734,0.3966366727363532,0.5341443252720464,0.9750147660933935,1.2072967819147764,1.6244736319147,0.8612007043791226,-0.22912860226353118,0.0695802936292788,-0.5324913905491838,-0.34759655637064474,-0.091620949727838,-0.4140234364420702,-1.4806591522633,-0.4140234364420702,1.2309903727362002,0.7664263410934309,-0.6936926339063005,-0.9022810589062614,-0.7173862247277224,0.1643546569149687,-0.091620949727838,-1.3905386813704526,-0.6936926339063005,-0.30020937472779885,-0.4851042089063379,0.55783791609347,-1.3668450905490308,-0.4851042089063379],\"type\":\"scatter\"},{\"marker\":{\"line\":{\"width\":1},\"size\":10},\"mode\":\"markers\",\"name\":\"virginica (sepal length (cm), petal width (cm))\",\"visible\":false,\"x\":[6.375009669494367,3.4420620699769224,4.388937734525993,2.93739815042275,4.896316966017526,4.375361174839194,2.484325157678414,2.9102450310491514,2.926536902673311,6.350571862058128,3.9141422462827777,3.4257701983527635,4.3970836703380725,3.9358647417816566,5.897498869313792,5.3901196378222584,2.9319675265480303,4.863733222769208,5.35482058263658,1.4722820066327078,5.376543078135459,3.9385800537190168,3.8815585030344595,2.93739815042275,4.399798982275432,2.9129603429865116,2.94011346236011,2.9428287742974697,4.407944918087512,1.930785623251764,3.3986170789791648,3.87612787915974,4.899032277954887,1.4641360708206284,0.9784793348279738,5.35482058263658,5.883922309626993,2.9346828384853905,2.94554408623483,4.394368358400713,5.873061061877554,5.376543078135459,3.4420620699769224,5.3792583900728195,6.364148421744927,5.381973702010179,3.4284855102901233,3.9141422462827777,5.395550261696978,2.9482593981721896],\"y\":[-1.4523116690490354,-1.38588478897761,0.9559750676648121,-0.1580478297992635,-0.4804503165134958,1.99891719266462,-2.8933909456201854,1.9278364202003522,0.6763058702005835,0.4249841559506194,-0.1106606481564177,-0.13435423897783944,0.3302097926649276,-1.7793680481561098,-2.3103589598703045,-0.8739335756919947,0.25912902020066,2.0226107834860434,1.8377159493075053,-0.22912860226353118,0.1690085493078129,-1.9879564731560726,2.3924004518431214,-0.1580478297992635,0.12162136766496681,1.7192479952003914,-0.36663625479922435,-0.575224679799187,-0.5041439073349175,2.0890376635574692,1.9515300110217761,2.809577301843045,-0.6890387415134566,0.3966366727363532,0.1643546569149687,1.8377159493075053,-1.2674168348704964,0.05054059520069918,-0.7838131047991479,0.5387982176648901,-0.43306313487064946,0.1690085493078129,-1.38588478897761,-0.03957987569214966,-0.6179579690491885,-0.24816830069211043,-0.3429426639778021,-0.1106606481564177,-1.2911104256919184,-0.9924015297991087],\"type\":\"scatter\"},{\"marker\":{\"line\":{\"width\":1},\"size\":10},\"mode\":\"markers\",\"name\":\"setosa (sepal width (cm), petal length (cm))\",\"visible\":false,\"x\":[-6.572257075176692,-5.759681767037438,-6.332924658276066,-5.673984060682362,-6.734772136804543,-6.477679017739316,-6.409742013548841,-6.161529245565914,-5.597166705409586,-5.673984060682362,-6.649074430449468,-5.913316477582987,-5.759681767037438,-6.504320070986216,-7.881257919281799,-7.786679861844424,-7.470530089671022,-6.572257075176692,-6.315163956111465,-6.811589492077318,-5.665103709600061,-6.649074430449468,-7.727623208736248,-5.50258864797221,-5.168678173634209,-5.263256231071584,-5.913316477582987,-6.324044307193765,-6.409742013548841,-5.588286354327287,-5.4257712926994355,-6.161529245565914,-7.29913467696087,-7.709862506571649,-5.673984060682362,-6.581137426258992,-6.820469843159619,-6.734772136804543,-6.007894535020364,-6.161529245565914,-6.820469843159619,-4.8702891036254075,-6.332924658276066,-6.075831539210839,-5.818738420145612,-5.759681767037438,-6.563376724094391,-6.084711890293139,-6.649074430449468,-6.2472269519209895],\"y\":[0.3316740771901132,-1.0348260937590728,-0.525466656174856,-0.7242854287737773,0.6049741113799507,1.536596106335836,0.05837404300027581,0.09561467379573384,-1.3081261279489103,-0.7242854287737773,0.915514776365246,0.13285530459119188,-1.0348260937590728,-1.1465479861454466,1.6236929865483831,2.828615015694107,1.3876335831540039,0.3316740771901132,1.2632960721459985,1.1888148105550824,0.1700959353866499,0.915514776365246,0.4560115881981187,-0.1032040988031876,0.2445771969775658,-0.9603448321681567,0.13285530459119188,0.36891470798557124,0.05837404300027581,-0.41374476378848185,-0.6870447979783193,0.09561467379573384,2.0087149131245936,2.2447743165189737,-0.7242854287737773,-0.5627072869703138,0.2944334463946552,0.6049741113799507,-1.0720667245545308,0.09561467379573384,0.2944334463946552,-2.9851669638833918,-0.525466656174856,0.4061553387810293,1.3377773337369143,-1.0348260937590728,1.2260554413505405,-0.4882260253793979,0.915514776365246,-0.2149259911895617],\"type\":\"scatter\"},{\"marker\":{\"line\":{\"width\":1},\"size\":10},\"mode\":\"markers\",\"name\":\"versicolor (sepal width (cm), petal length (cm))\",\"visible\":false,\"x\":[2.106309453143433,1.6098839171775796,2.765250050737137,1.8314556319136062,2.5081569316719095,2.2599441636889837,1.9437943915155826,-0.06854880559473013,2.345641870044058,0.9331826174192753,1.0779369768825264,1.190275736484503,1.9939706935414565,2.593854638026986,-0.13648580978520483,1.524186210822505,1.9349140404332816,1.4296081533851275,3.235034533456089,1.2582127406749775,2.3545222211263583,1.0188803237743518,3.7403404205042428,2.756369699654837,1.6010035660952795,1.686701272450356,3.004582467637763,3.1759778803479137,2.097429102061133,0.10284660711542101,1.172515034319902,0.9243022663369764,0.9331826174192753,3.911735833214392,1.9349140404332816,1.2848537939218783,2.2688245147712838,2.8243067038453127,0.9420629685015751,1.5064255086579041,2.33676151896176,2.1831268084162074,1.3439104470300531,0.09396625603312088,1.6778209213680553,1.190275736484503,1.352790798112354,1.6010035660952795,-0.97570217117136,1.2670930917572771],\"y\":[0.7407147908707162,0.6662335292798002,0.5418960182717949,-1.9796699324060256,-0.3897259766840917,-0.42696660747954956,1.0140148250605525,-1.9670543137843943,-0.11642594249425425,-0.9237104264421337,-2.9857731889528267,0.007911568513751382,-2.252969966595862,-0.07918531169879606,-0.4888322504488341,0.35569286429450486,0.11963346090012532,-0.8492291648512179,-2.066766812618572,-1.4703104948218086,0.7779554216661742,-0.6131697614568395,-1.0979041868672286,-0.3524853458886335,-0.2281478348806282,0.08239283010466746,-0.31524471509317564,0.3058366148774153,-0.15366657328971212,-1.3459729838138033,-1.7808511598071042,-1.8180917906025622,-0.9237104264421337,-0.4768228568966379,0.11963346090012532,1.212833597659474,0.4674147566808788,-1.8307074092241935,-0.029329062281706817,-1.4330698640263506,-1.010807306654681,0.1568740916955832,-1.159769829836513,-2.2403543479742316,-0.8119885340557597,0.007911568513751382,-0.2653884656760861,-0.2281478348806282,-1.8054761719809307,-0.5759291306613817],\"type\":\"scatter\"},{\"marker\":{\"line\":{\"width\":1},\"size\":10},\"mode\":\"markers\",\"name\":\"virginica (sepal width (cm), petal length (cm))\",\"visible\":false,\"x\":[5.1705603752936256,3.911735833214392,5.409892792194253,4.827769549873323,5.161680024211325,7.147382168074736,2.747489348572536,6.565258925753808,5.974255332350579,4.931227958392998,3.099160525075137,4.408161369180245,4.417041720262546,3.988553188487168,3.7492207715865415,3.5955860610409904,4.417041720262546,6.095474443034856,8.54208071853492,4.4760983733707205,4.588437132972697,3.2527952356206904,7.720625059313366,3.4153102972485407,4.425922071344846,5.333075436921476,3.004582467637763,2.9277651123649884,4.990284611501173,5.161680024211325,6.231348451415806,5.350836139086078,4.990284611501173,3.7492207715865415,5.315314734756875,5.906318328160103,4.015194241734068,4.254526658634695,2.6795523443820604,4.00631389065177,4.50273942661762,3.2616755867029883,3.911735833214392,5.08486266893855,4.425922071344846,3.672403416313767,3.988553188487168,3.672403416313767,3.518768705768217,3.4241906483308395],\"y\":[1.4981430254015065,-0.4768228568966379,0.6410022920365375,0.25598036546032576,0.6037616612410793,0.9016867076047432,-1.2468667100490607,0.5166647810285319,-0.7627385097081066,2.3552837587664768,0.889677314052548,-0.4023415953057218,0.49203976885470535,-1.0606635560717705,-0.2035228227068017,0.9641585756434641,0.49203976885470535,3.1253276119188986,-0.07979153676823096,-1.8805636586412817,1.1131210988252962,-0.27800408429771745,0.39232727002052653,-0.5513041184875536,1.3864211330151324,1.2248429912116703,-0.31524471509317564,0.26859598408195745,-0.017319668729511687,0.6037616612410793,0.16888348524777833,3.0136057195325248,-0.017319668729511687,-0.2035228227068017,-0.5639197371091853,0.7154835536274532,1.6224805364095118,0.7653398030445427,0.23135535328649925,0.7280991722490849,0.8025804338400007,0.6163772798627106,-0.4768228568966379,1.1876023604162123,1.3864211330151324,0.3803178764683314,-1.0606635560717705,0.3803178764683314,1.547999274818596,0.3430772456728732],\"type\":\"scatter\"},{\"marker\":{\"line\":{\"width\":1},\"size\":10},\"mode\":\"markers\",\"name\":\"setosa (sepal width (cm), petal width (cm))\",\"visible\":false,\"x\":[-6.353047973936534,-5.359565737682426,-5.75695863218407,-5.558262184933247,-6.551744421187356,-6.052406471257452,-5.606637880844528,-6.154351526685712,-5.160869290431604,-6.105975830774431,-6.750440868438178,-6.154351526685712,-5.907279383523609,-5.907279383523609,-7.346530210190642,-7.045888707511562,-6.052406471257452,-5.80533432809535,-6.401423669847814,-6.401423669847814,-6.154351526685712,-5.65501357675581,-6.551744421187356,-4.312514141911339,-6.154351526685712,-5.359565737682426,-5.058924235003344,-6.353047973936534,-6.154351526685712,-5.75695863218407,-5.558262184933247,-5.058924235003344,-8.092940303282646,-7.743923104692286,-5.558262184933247,-5.75695863218407,-6.353047973936534,-7.099458067028539,-5.359565737682426,-6.154351526685712,-5.80533432809535,-3.42097696108549,-5.75695863218407,-4.162193390571798,-5.853710024006631,-4.811852091841241,-6.949137315688999,-5.75695863218407,-6.750440868438178,-5.955655079434891],\"y\":[0.36995950651357484,-0.9700777918707316,-0.4340628725170086,-0.70207033219387,0.6379669661904365,1.6053823101955358,0.18364852932397135,0.1019520468367133,-1.238085251547593,-0.783766814681128,0.905974425867298,0.1019520468367133,-1.0517742743579896,-1.0517742743579896,1.7099968048978815,2.9454196085798436,1.6053823101955358,0.4516559890008329,1.2556783680314163,1.2556783680314163,0.1019520468367133,1.069367390841814,0.6379669661904365,0.07903403462162585,0.1019520468367133,-0.9700777918707316,0.2653450118112293,0.36995950651357484,0.1019520468367133,-0.4340628725170086,-0.70207033219387,0.2653450118112293,1.8963077820874836,2.2460117242516042,-0.70207033219387,-0.4340628725170086,0.36995950651357484,0.5562704837031786,-0.9700777918707316,0.1019520468367133,0.4516559890008329,-2.7644335271215033,-0.4340628725170086,0.6967454364626069,1.3373748505186742,-0.8883813093834736,1.1739818855441582,-0.4340628725170086,0.905974425867298,-0.16605541284014816],\"type\":\"scatter\"},{\"marker\":{\"line\":{\"width\":1},\"size\":10},\"mode\":\"markers\",\"name\":\"versicolor (sepal width (cm), petal width (cm))\",\"visible\":false,\"x\":[0.8156051179101369,1.3633187637513213,1.562015211002143,2.056159497326349,2.1581045527546086,1.0626772610722408,1.7123359623416847,0.2143221125519754,0.8639808138214191,1.809087354164245,1.0091079015552615,1.760711658252965,0.6117150070536181,1.4116944596626022,0.8639808138214191,1.0143015651609586,1.760711658252965,-0.38176722920049017,3.3502832362595374,0.5633393111423378,3.0064597012748733,1.0626772610722408,2.7541938945070727,0.5149636152310565,0.8639808138214191,1.2129980124117805,1.6103909069134241,2.8561389499353322,1.9594081055037866,-0.18307078194966833,0.7620357583931597,0.2143221125519754,0.7136600624818774,2.904514645846614,1.760711658252965,1.5136395150908628,1.562015211002143,2.056159497326349,0.6652843665705973,1.6587666028247054,0.9123565097326992,1.2129980124117805,0.9123565097326992,0.41301855980279706,1.2613737083230618,0.11757072072941291,0.8639808138214191,0.8639808138214191,0.5633393111423378,1.0626772610722408],\"y\":[0.5462949173300873,0.6279913998173454,0.35998394014048385,-1.9474687022489232,-0.44403843889010075,-0.6074314038646167,0.9776953419814638,-1.9245506900338358,-0.3394239441877552,-0.7937423810542191,-2.9965805287412803,0.09197648046362229,-2.4605656093875576,-0.25772746170049726,-0.3394239441877552,0.27828745765322577,0.09197648046362229,-1.1205283110032511,-2.052083196951268,-1.5748467478697161,0.8730808472791194,-0.6074314038646167,-1.2480608179206842,-0.6891278863518747,-0.3394239441877552,0.010279997976364226,-0.5257349213773588,0.2553694454381382,-0.1760309792132392,-1.3885357706801127,-1.8428542075465777,-1.9245506900338358,-0.9571353460287351,-0.6303494160797031,0.09197648046362229,1.2457028016583254,0.35998394014048385,-1.9474687022489232,-0.07141648451089366,-1.4114537828952,-1.2251428057055966,0.010279997976364226,-1.2251428057055966,-2.192558149710697,-0.875438863541477,-0.15311296699815172,-0.3394239441877552,-0.3394239441877552,-1.5748467478697161,-0.6074314038646167],\"type\":\"scatter\"},{\"marker\":{\"line\":{\"width\":1},\"size\":10},\"mode\":\"markers\",\"name\":\"virginica (sepal width (cm), petal width (cm))\",\"visible\":false,\"x\":[6.641758774912339,4.547655583370164,5.046993533300069,3.6025490430273384,5.5947071791412535,5.046993533300069,3.8496211861894403,3.6025490430273384,4.397334832030625,6.0456694331598735,4.10188699295724,4.547655583370164,5.046993533300069,5.492762123712993,7.087527365325263,5.745027930480791,3.4038525957765167,4.005135601134681,6.937206613985722,3.3502832362595374,5.745027930480791,4.896672781960528,4.896672781960528,3.9999419375289813,4.450904191547604,3.0064597012748733,3.8012454902781605,3.4038525957765167,5.444386427801712,2.308425304094149,4.348959136119343,2.9097083094523115,5.992100073642897,2.1581045527546086,2.0077838014150666,6.142420824982435,5.895348681820333,3.205156148525695,3.4038525957765167,4.8482970860492465,6.4914380235727975,5.9437243777316136,4.547655583370164,5.745027930480791,6.641758774912339,6.142420824982435,4.945048477871808,4.499279887458885,5.347635035979149,3.4038525957765167],\"y\":[1.7129636843667857,-0.38525996861792916,0.5821553753871703,0.06905846824853479,0.6638518578744284,0.5821553753871703,-1.0846678529461682,0.06905846824853479,-1.0029713704589103,2.51698606339737,1.0364738122536354,-0.38525996861792916,0.5821553753871703,-0.8395784054843942,0.29122990349522115,1.2815632597154092,0.3370659279253963,2.8079115352893185,-0.32648149834575885,-2.052083196951268,1.2815632597154092,-0.03555602645381077,-0.03555602645381077,-0.4669564511051871,1.3861777544177538,0.8730808472791194,-0.19894899142832673,0.3370659279253963,0.0461404560334473,0.17367296295088036,-0.11725250894106884,2.644518570314802,0.12783693852070535,-0.44403843889010075,-1.0617498407310808,0.745548340361686,1.8992746615563891,0.6050733876022578,0.3370659279253963,0.8501628350640319,1.0952522825258058,1.0135558000385476,-0.38525996861792916,1.2815632597154092,1.7129636843667857,0.745548340361686,-0.9212748879716524,0.5004588928999123,1.817578179069131,0.3370659279253963],\"type\":\"scatter\"},{\"marker\":{\"line\":{\"width\":1},\"size\":10},\"mode\":\"markers\",\"name\":\"setosa (petal length (cm), petal width (cm))\",\"visible\":false,\"x\":[-6.042418497032245,-6.042418497032245,-6.196855550072802,-5.887981443991688,-6.042418497032245,-5.098628461392379,-5.802179058773147,-5.887981443991688,-6.042418497032245,-6.128220882250785,-5.887981443991688,-5.733544390951131,-6.2826579352913425,-6.745969094413012,-6.351292603113358,-5.407502567473493,-5.716376673554607,-5.802179058773147,-5.3388678996514765,-5.64774200573259,-5.579107337910574,-5.407502567473493,-6.660166709194472,-4.858389023133281,-5.270233231829461,-5.733544390951131,-5.253065514432936,-5.887981443991688,-6.042418497032245,-5.733544390951131,-5.733544390951131,-5.407502567473493,-6.128220882250785,-6.042418497032245,-5.887981443991688,-6.351292603113358,-6.196855550072802,-6.2826579352913425,-6.196855550072802,-5.887981443991688,-5.956616111813704,-5.956616111813704,-6.196855550072802,-4.772586637914741,-4.789754355311265,-5.802179058773147,-5.733544390951131,-6.042418497032245,-5.887981443991688,-6.042418497032245],\"y\":[0.05692487349580403,0.05692487349580403,0.2730471083788419,-0.1591973613872347,0.05692487349580403,0.4170780004103114,0.5611847892776152,-0.1591973613872347,0.05692487349580403,-0.6634572771690447,-0.1591973613872347,-0.3753195962702725,-0.447335042286006,0.2010316623631066,0.48916934326187883,0.8493224701763871,1.2815669399424636,0.5611847892776152,-0.0871819153714992,0.34506255439457645,-0.5914418311533104,0.8493224701763871,0.9214138130279544,0.921337916192122,-1.023686300919385,-0.3753195962702725,0.6332002352933492,-0.1591973613872347,0.05692487349580403,-0.3753195962702725,-0.3753195962702725,0.8493224701763871,-0.6634572771690447,0.05692487349580403,-0.1591973613872347,0.48916934326187883,0.2730471083788419,-0.447335042286006,0.2730471083788419,-0.1591973613872347,0.777307024160653,0.777307024160653,0.2730471083788419,1.6417200668569705,-0.015166469355763388,0.5611847892776152,-0.3753195962702725,0.05692487349580403,-0.1591973613872347,0.05692487349580403],\"type\":\"scatter\"},{\"marker\":{\"line\":{\"width\":1},\"size\":10},\"mode\":\"markers\",\"name\":\"versicolor (petal length (cm), petal width (cm))\",\"visible\":false,\"x\":[1.9368775124153017,1.8682428445932855,2.4859910567555135,0.6155787028723063,2.022679897633842,1.3877639680750906,2.4173563889334972,-1.1861989831888846,1.542201021115647,0.7013810880908465,-0.8773248771077706,1.4049316854716152,-0.10513961190498645,1.9368775124153017,-0.002169509289920919,1.4735663532936314,1.8682428445932855,0.049297441135569824,1.8682428445932855,-0.019337226686445653,3.0522723184922484,0.6155787028723063,2.4859910567555135,1.4563986358971068,1.0788898619939766,1.4735663532936314,2.091314565455858,3.1209069863142647,1.8682428445932855,-0.8773248771077706,-0.17377427972700263,-0.5684507710266566,0.22090221157265158,3.035104601095724,1.8682428445932855,2.1084822828523833,2.1771169506743995,1.2333269150345343,0.7700157559128625,0.6155787028723063,0.9930874767754364,1.782440459374744,0.37533926461320855,-1.1861989831888846,0.9244528089534202,0.6842133706943224,0.9244528089534202,1.0788898619939766,-1.4092707040514572,0.7700157559128625],\"y\":[-1.0239898882627159,-0.0874855027148285,-0.9519744422469802,-0.015394159863260745,-0.3036077375978657,-1.0960053342784497,-0.015470056699093454,-0.015318263027428258,-1.3121275691614869,0.7049879908015872,-0.44756273279350417,0.5608812019342845,-1.528173907208693,-1.0239898882627159,0.8490947796688902,-0.3756231836136027,-0.0874855027148285,-1.7442961420917302,-0.0874855027148285,-0.8077917565438439,0.7769275399814908,-0.015394159863260745,-0.9519744422469802,-2.032509719826337,-0.6637608645123738,-0.3756231836136027,-1.2401121231457528,-0.15957684556639648,-0.0874855027148285,-0.44756273279350417,-0.591669521660806,-0.8798072025595801,-0.30353184076203393,-0.8799589962312434,-0.0874855027148285,0.41677441306698265,-0.5197299724809046,-0.8798830993954128,-0.23151639474629782,-0.015394159863260745,-1.3841430151772238,-0.8078676533796768,-0.5196540756450719,-0.015318263027428258,-0.44763862962933676,-0.9518985454111479,-0.44763862962933676,-0.6637608645123738,1.137308357403496,-0.23151639474629782],\"type\":\"scatter\"},{\"marker\":{\"line\":{\"width\":1},\"size\":10},\"mode\":\"markers\",\"name\":\"virginica (petal length (cm), petal width (cm))\",\"visible\":false,\"x\":[6.587193022792614,3.7558229158730163,5.471798216715667,4.287768742816703,5.557600601934207,6.552857587999564,2.3487217211114806,5.368828114100601,4.596642848897817,6.74163007583317,3.996062354132114,4.06469702195413,4.854050004553439,3.8416253010915575,4.957020107168504,5.02565477499052,4.1333316897761465,6.94753407929922,7.49664762363943,2.6404281097960696,5.643402987152748,3.687188248051001,6.467055202781024,3.206709371532806,5.162924110634553,4.905516954978931,3.0522723184922484,3.206709371532806,5.008487057593996,4.116163972379622,5.300193446278584,6.003744043659354,5.248726495853093,2.794865162836626,3.3268109897803124,6.261151199314974,5.729205372371288,4.1333316897761465,3.0522723184922484,4.699612951512883,5.729205372371288,4.716780668909406,3.7558229158730163,5.952277093233862,6.123881863670944,4.8712177219499635,3.6013858628324598,4.1504994071726715,5.1800918280310775,3.515583477613919],\"y\":[1.713280131857712,0.6328207511141878,-0.08763729638649348,-0.952050339082811,0.6327448542783564,-1.6004929405677566,0.9210343288487927,-2.4649059832640763,-1.3842948088488871,1.497157896974675,1.137080666895999,0.2005762813481121,0.7768516431456584,1.353202901779036,3.1541203300232414,2.2176159444753547,-0.7359281041997741,-1.312355259668984,-1.2403398136532517,-1.1680966771300176,1.3531270049432023,1.5693251366620733,-2.3208750912326064,0.5608053050984521,0.3446071733795822,-1.8165392786149628,0.7769275399814908,0.5608053050984521,0.5607294082626214,-2.3928146404125084,-1.5284015977161898,-1.6725083865834938,1.0649893240444326,-1.3842189120130546,-2.9690900022100544,0.4886380654110527,2.0735091556080527,-0.7359281041997741,0.7769275399814908,0.9929738780286953,2.0735091556080527,2.6498604142414304,0.6328207511141878,0.9208825351771266,2.3616468365068246,2.4337381793583917,0.8489429859972247,0.9209584320129602,2.0014937095923155,0.12856083533237772],\"type\":\"scatter\"}],                        {\"template\":{\"data\":{\"histogram2dcontour\":[{\"type\":\"histogram2dcontour\",\"colorbar\":{\"outlinewidth\":0,\"ticks\":\"\"},\"colorscale\":[[0.0,\"#0d0887\"],[0.1111111111111111,\"#46039f\"],[0.2222222222222222,\"#7201a8\"],[0.3333333333333333,\"#9c179e\"],[0.4444444444444444,\"#bd3786\"],[0.5555555555555556,\"#d8576b\"],[0.6666666666666666,\"#ed7953\"],[0.7777777777777778,\"#fb9f3a\"],[0.8888888888888888,\"#fdca26\"],[1.0,\"#f0f921\"]]}],\"choropleth\":[{\"type\":\"choropleth\",\"colorbar\":{\"outlinewidth\":0,\"ticks\":\"\"}}],\"histogram2d\":[{\"type\":\"histogram2d\",\"colorbar\":{\"outlinewidth\":0,\"ticks\":\"\"},\"colorscale\":[[0.0,\"#0d0887\"],[0.1111111111111111,\"#46039f\"],[0.2222222222222222,\"#7201a8\"],[0.3333333333333333,\"#9c179e\"],[0.4444444444444444,\"#bd3786\"],[0.5555555555555556,\"#d8576b\"],[0.6666666666666666,\"#ed7953\"],[0.7777777777777778,\"#fb9f3a\"],[0.8888888888888888,\"#fdca26\"],[1.0,\"#f0f921\"]]}],\"heatmap\":[{\"type\":\"heatmap\",\"colorbar\":{\"outlinewidth\":0,\"ticks\":\"\"},\"colorscale\":[[0.0,\"#0d0887\"],[0.1111111111111111,\"#46039f\"],[0.2222222222222222,\"#7201a8\"],[0.3333333333333333,\"#9c179e\"],[0.4444444444444444,\"#bd3786\"],[0.5555555555555556,\"#d8576b\"],[0.6666666666666666,\"#ed7953\"],[0.7777777777777778,\"#fb9f3a\"],[0.8888888888888888,\"#fdca26\"],[1.0,\"#f0f921\"]]}],\"heatmapgl\":[{\"type\":\"heatmapgl\",\"colorbar\":{\"outlinewidth\":0,\"ticks\":\"\"},\"colorscale\":[[0.0,\"#0d0887\"],[0.1111111111111111,\"#46039f\"],[0.2222222222222222,\"#7201a8\"],[0.3333333333333333,\"#9c179e\"],[0.4444444444444444,\"#bd3786\"],[0.5555555555555556,\"#d8576b\"],[0.6666666666666666,\"#ed7953\"],[0.7777777777777778,\"#fb9f3a\"],[0.8888888888888888,\"#fdca26\"],[1.0,\"#f0f921\"]]}],\"contourcarpet\":[{\"type\":\"contourcarpet\",\"colorbar\":{\"outlinewidth\":0,\"ticks\":\"\"}}],\"contour\":[{\"type\":\"contour\",\"colorbar\":{\"outlinewidth\":0,\"ticks\":\"\"},\"colorscale\":[[0.0,\"#0d0887\"],[0.1111111111111111,\"#46039f\"],[0.2222222222222222,\"#7201a8\"],[0.3333333333333333,\"#9c179e\"],[0.4444444444444444,\"#bd3786\"],[0.5555555555555556,\"#d8576b\"],[0.6666666666666666,\"#ed7953\"],[0.7777777777777778,\"#fb9f3a\"],[0.8888888888888888,\"#fdca26\"],[1.0,\"#f0f921\"]]}],\"surface\":[{\"type\":\"surface\",\"colorbar\":{\"outlinewidth\":0,\"ticks\":\"\"},\"colorscale\":[[0.0,\"#0d0887\"],[0.1111111111111111,\"#46039f\"],[0.2222222222222222,\"#7201a8\"],[0.3333333333333333,\"#9c179e\"],[0.4444444444444444,\"#bd3786\"],[0.5555555555555556,\"#d8576b\"],[0.6666666666666666,\"#ed7953\"],[0.7777777777777778,\"#fb9f3a\"],[0.8888888888888888,\"#fdca26\"],[1.0,\"#f0f921\"]]}],\"mesh3d\":[{\"type\":\"mesh3d\",\"colorbar\":{\"outlinewidth\":0,\"ticks\":\"\"}}],\"scatter\":[{\"fillpattern\":{\"fillmode\":\"overlay\",\"size\":10,\"solidity\":0.2},\"type\":\"scatter\"}],\"parcoords\":[{\"type\":\"parcoords\",\"line\":{\"colorbar\":{\"outlinewidth\":0,\"ticks\":\"\"}}}],\"scatterpolargl\":[{\"type\":\"scatterpolargl\",\"marker\":{\"colorbar\":{\"outlinewidth\":0,\"ticks\":\"\"}}}],\"bar\":[{\"error_x\":{\"color\":\"#2a3f5f\"},\"error_y\":{\"color\":\"#2a3f5f\"},\"marker\":{\"line\":{\"color\":\"#E5ECF6\",\"width\":0.5},\"pattern\":{\"fillmode\":\"overlay\",\"size\":10,\"solidity\":0.2}},\"type\":\"bar\"}],\"scattergeo\":[{\"type\":\"scattergeo\",\"marker\":{\"colorbar\":{\"outlinewidth\":0,\"ticks\":\"\"}}}],\"scatterpolar\":[{\"type\":\"scatterpolar\",\"marker\":{\"colorbar\":{\"outlinewidth\":0,\"ticks\":\"\"}}}],\"histogram\":[{\"marker\":{\"pattern\":{\"fillmode\":\"overlay\",\"size\":10,\"solidity\":0.2}},\"type\":\"histogram\"}],\"scattergl\":[{\"type\":\"scattergl\",\"marker\":{\"colorbar\":{\"outlinewidth\":0,\"ticks\":\"\"}}}],\"scatter3d\":[{\"type\":\"scatter3d\",\"line\":{\"colorbar\":{\"outlinewidth\":0,\"ticks\":\"\"}},\"marker\":{\"colorbar\":{\"outlinewidth\":0,\"ticks\":\"\"}}}],\"scattermapbox\":[{\"type\":\"scattermapbox\",\"marker\":{\"colorbar\":{\"outlinewidth\":0,\"ticks\":\"\"}}}],\"scatterternary\":[{\"type\":\"scatterternary\",\"marker\":{\"colorbar\":{\"outlinewidth\":0,\"ticks\":\"\"}}}],\"scattercarpet\":[{\"type\":\"scattercarpet\",\"marker\":{\"colorbar\":{\"outlinewidth\":0,\"ticks\":\"\"}}}],\"carpet\":[{\"aaxis\":{\"endlinecolor\":\"#2a3f5f\",\"gridcolor\":\"white\",\"linecolor\":\"white\",\"minorgridcolor\":\"white\",\"startlinecolor\":\"#2a3f5f\"},\"baxis\":{\"endlinecolor\":\"#2a3f5f\",\"gridcolor\":\"white\",\"linecolor\":\"white\",\"minorgridcolor\":\"white\",\"startlinecolor\":\"#2a3f5f\"},\"type\":\"carpet\"}],\"table\":[{\"cells\":{\"fill\":{\"color\":\"#EBF0F8\"},\"line\":{\"color\":\"white\"}},\"header\":{\"fill\":{\"color\":\"#C8D4E3\"},\"line\":{\"color\":\"white\"}},\"type\":\"table\"}],\"barpolar\":[{\"marker\":{\"line\":{\"color\":\"#E5ECF6\",\"width\":0.5},\"pattern\":{\"fillmode\":\"overlay\",\"size\":10,\"solidity\":0.2}},\"type\":\"barpolar\"}],\"pie\":[{\"automargin\":true,\"type\":\"pie\"}]},\"layout\":{\"autotypenumbers\":\"strict\",\"colorway\":[\"#636efa\",\"#EF553B\",\"#00cc96\",\"#ab63fa\",\"#FFA15A\",\"#19d3f3\",\"#FF6692\",\"#B6E880\",\"#FF97FF\",\"#FECB52\"],\"font\":{\"color\":\"#2a3f5f\"},\"hovermode\":\"closest\",\"hoverlabel\":{\"align\":\"left\"},\"paper_bgcolor\":\"white\",\"plot_bgcolor\":\"#E5ECF6\",\"polar\":{\"bgcolor\":\"#E5ECF6\",\"angularaxis\":{\"gridcolor\":\"white\",\"linecolor\":\"white\",\"ticks\":\"\"},\"radialaxis\":{\"gridcolor\":\"white\",\"linecolor\":\"white\",\"ticks\":\"\"}},\"ternary\":{\"bgcolor\":\"#E5ECF6\",\"aaxis\":{\"gridcolor\":\"white\",\"linecolor\":\"white\",\"ticks\":\"\"},\"baxis\":{\"gridcolor\":\"white\",\"linecolor\":\"white\",\"ticks\":\"\"},\"caxis\":{\"gridcolor\":\"white\",\"linecolor\":\"white\",\"ticks\":\"\"}},\"coloraxis\":{\"colorbar\":{\"outlinewidth\":0,\"ticks\":\"\"}},\"colorscale\":{\"sequential\":[[0.0,\"#0d0887\"],[0.1111111111111111,\"#46039f\"],[0.2222222222222222,\"#7201a8\"],[0.3333333333333333,\"#9c179e\"],[0.4444444444444444,\"#bd3786\"],[0.5555555555555556,\"#d8576b\"],[0.6666666666666666,\"#ed7953\"],[0.7777777777777778,\"#fb9f3a\"],[0.8888888888888888,\"#fdca26\"],[1.0,\"#f0f921\"]],\"sequentialminus\":[[0.0,\"#0d0887\"],[0.1111111111111111,\"#46039f\"],[0.2222222222222222,\"#7201a8\"],[0.3333333333333333,\"#9c179e\"],[0.4444444444444444,\"#bd3786\"],[0.5555555555555556,\"#d8576b\"],[0.6666666666666666,\"#ed7953\"],[0.7777777777777778,\"#fb9f3a\"],[0.8888888888888888,\"#fdca26\"],[1.0,\"#f0f921\"]],\"diverging\":[[0,\"#8e0152\"],[0.1,\"#c51b7d\"],[0.2,\"#de77ae\"],[0.3,\"#f1b6da\"],[0.4,\"#fde0ef\"],[0.5,\"#f7f7f7\"],[0.6,\"#e6f5d0\"],[0.7,\"#b8e186\"],[0.8,\"#7fbc41\"],[0.9,\"#4d9221\"],[1,\"#276419\"]]},\"xaxis\":{\"gridcolor\":\"white\",\"linecolor\":\"white\",\"ticks\":\"\",\"title\":{\"standoff\":15},\"zerolinecolor\":\"white\",\"automargin\":true,\"zerolinewidth\":2},\"yaxis\":{\"gridcolor\":\"white\",\"linecolor\":\"white\",\"ticks\":\"\",\"title\":{\"standoff\":15},\"zerolinecolor\":\"white\",\"automargin\":true,\"zerolinewidth\":2},\"scene\":{\"xaxis\":{\"backgroundcolor\":\"#E5ECF6\",\"gridcolor\":\"white\",\"linecolor\":\"white\",\"showbackground\":true,\"ticks\":\"\",\"zerolinecolor\":\"white\",\"gridwidth\":2},\"yaxis\":{\"backgroundcolor\":\"#E5ECF6\",\"gridcolor\":\"white\",\"linecolor\":\"white\",\"showbackground\":true,\"ticks\":\"\",\"zerolinecolor\":\"white\",\"gridwidth\":2},\"zaxis\":{\"backgroundcolor\":\"#E5ECF6\",\"gridcolor\":\"white\",\"linecolor\":\"white\",\"showbackground\":true,\"ticks\":\"\",\"zerolinecolor\":\"white\",\"gridwidth\":2}},\"shapedefaults\":{\"line\":{\"color\":\"#2a3f5f\"}},\"annotationdefaults\":{\"arrowcolor\":\"#2a3f5f\",\"arrowhead\":0,\"arrowwidth\":1},\"geo\":{\"bgcolor\":\"white\",\"landcolor\":\"#E5ECF6\",\"subunitcolor\":\"white\",\"showland\":true,\"showlakes\":true,\"lakecolor\":\"white\"},\"title\":{\"x\":0.05},\"mapbox\":{\"style\":\"light\"}}},\"margin\":{\"l\":0,\"r\":0,\"t\":30,\"b\":0},\"legend\":{\"orientation\":\"h\",\"y\":-0.3,\"x\":0.5,\"xanchor\":\"center\",\"yanchor\":\"bottom\"},\"updatemenus\":[{\"buttons\":[{\"args\":[{\"visible\":[true,true,true,false,false,false,false,false,false,false,false,false,false,false,false,false,false,false]},{\"title\":\"LDA Transformation Using \"}],\"label\":\"sepal length (cm) & sepal width (cm)\",\"method\":\"update\"},{\"args\":[{\"visible\":[false,false,false,true,true,true,false,false,false,false,false,false,false,false,false,false,false,false]},{\"title\":\"LDA Transformation Using \"}],\"label\":\"sepal length (cm) & petal length (cm)\",\"method\":\"update\"},{\"args\":[{\"visible\":[false,false,false,false,false,false,true,true,true,false,false,false,false,false,false,false,false,false]},{\"title\":\"LDA Transformation Using \"}],\"label\":\"sepal length (cm) & petal width (cm)\",\"method\":\"update\"},{\"args\":[{\"visible\":[false,false,false,false,false,false,false,false,false,true,true,true,false,false,false,false,false,false]},{\"title\":\"LDA Transformation Using \"}],\"label\":\"sepal width (cm) & petal length (cm)\",\"method\":\"update\"},{\"args\":[{\"visible\":[false,false,false,false,false,false,false,false,false,false,false,false,true,true,true,false,false,false]},{\"title\":\"LDA Transformation Using \"}],\"label\":\"sepal width (cm) & petal width (cm)\",\"method\":\"update\"},{\"args\":[{\"visible\":[false,false,false,false,false,false,false,false,false,false,false,false,false,false,false,true,true,true]},{\"title\":\"LDA Transformation Using \"}],\"label\":\"petal length (cm) & petal width (cm)\",\"method\":\"update\"}],\"direction\":\"down\",\"pad\":{\"r\":10,\"t\":10},\"showactive\":true,\"x\":0.35,\"xanchor\":\"left\",\"y\":1.192,\"yanchor\":\"top\"}],\"title\":{\"text\":\"LDA Transformation Using\"},\"xaxis\":{\"title\":{\"text\":\"LD1\"}},\"yaxis\":{\"title\":{\"text\":\"LD2\"}}},                        {\"responsive\": true}                    ).then(function(){\n",
       "                            \n",
       "var gd = document.getElementById('d0d39589-c358-4435-bf03-ab8a9188e18d');\n",
       "var x = new MutationObserver(function (mutations, observer) {{\n",
       "        var display = window.getComputedStyle(gd).display;\n",
       "        if (!display || display === 'none') {{\n",
       "            console.log([gd, 'removed!']);\n",
       "            Plotly.purge(gd);\n",
       "            observer.disconnect();\n",
       "        }}\n",
       "}});\n",
       "\n",
       "// Listen for the removal of the full notebook cells\n",
       "var notebookContainer = gd.closest('#notebook-container');\n",
       "if (notebookContainer) {{\n",
       "    x.observe(notebookContainer, {childList: true});\n",
       "}}\n",
       "\n",
       "// Listen for the clearing of the current output cell\n",
       "var outputEl = gd.closest('.output');\n",
       "if (outputEl) {{\n",
       "    x.observe(outputEl, {childList: true});\n",
       "}}\n",
       "\n",
       "                        })                };                });            </script>        </div>"
      ]
     },
     "metadata": {},
     "output_type": "display_data"
    }
   ],
   "source": [
    "import numpy as np\n",
    "import plotly.graph_objects as go\n",
    "from sklearn.discriminant_analysis import LinearDiscriminantAnalysis as LDA\n",
    "from sklearn.datasets import load_iris\n",
    "\n",
    "# Load Iris dataset\n",
    "data = load_iris()\n",
    "X = data.data\n",
    "y = data.target\n",
    "feature_names = data.feature_names\n",
    "class_names = data.target_names\n",
    "\n",
    "# Create a figure\n",
    "fig = go.Figure()\n",
    "\n",
    "# Add traces for each pair of features\n",
    "for i in range(len(feature_names)):\n",
    "    for j in range(i + 1, len(feature_names)):\n",
    "        # Selecting specified features\n",
    "        X_selected = X[:, [i, j]]\n",
    "\n",
    "        # Apply LDA\n",
    "        lda = LDA(n_components=2)\n",
    "        X_lda = lda.fit_transform(X_selected, y)\n",
    "\n",
    "        # Add trace\n",
    "        visible = True if i == 0 and j == 1 else False\n",
    "        for class_idx, class_name in enumerate(class_names):\n",
    "            idx = y == class_idx\n",
    "            fig.add_trace(go.Scatter(\n",
    "                x=X_lda[idx, 0], y=X_lda[idx, 1],\n",
    "                mode='markers', name=f\"{class_name} ({feature_names[i]}, {feature_names[j]})\",\n",
    "                marker=dict(size=10, line=dict(width=1)),\n",
    "                visible=visible\n",
    "            ))\n",
    "\n",
    "# Create buttons for feature selection\n",
    "buttons = []\n",
    "for i in range(len(feature_names)):\n",
    "    for j in range(i + 1, len(feature_names)):\n",
    "        buttons.append(\n",
    "            dict(\n",
    "                label=f\"{feature_names[i]} & {feature_names[j]}\",\n",
    "                method=\"update\",\n",
    "                args=[{\"visible\": [False] * len(fig.data)},\n",
    "                      {\"title\": f\"LDA Transformation Using \"}]\n",
    "            )\n",
    "        )\n",
    "        button_idx = len(buttons) - 1\n",
    "        # Set the corresponding traces to visible\n",
    "        for k in range(len(class_names)):\n",
    "            buttons[button_idx][\"args\"][0][\"visible\"][button_idx * len(class_names) + k] = True\n",
    "\n",
    "# Update layout with buttons\n",
    "fig.update_layout(\n",
    "    updatemenus=[\n",
    "        dict(\n",
    "            buttons=buttons,\n",
    "            direction=\"down\",\n",
    "            pad={\"r\": 10, \"t\": 10},\n",
    "            showactive=True,\n",
    "            x=0.35,\n",
    "            xanchor=\"left\",\n",
    "            y=1.192,\n",
    "            yanchor=\"top\"\n",
    "        )\n",
    "    ],\n",
    "    title=\"LDA Transformation Using\",\n",
    "    xaxis_title=\"LD1\",\n",
    "    yaxis_title=\"LD2\",\n",
    "    margin=dict(l=0, r=0, t=30, b=0),\n",
    "    legend=dict(orientation=\"h\", y=-0.3, x=0.5, xanchor=\"center\", yanchor=\"bottom\")\n",
    "\n",
    ")\n",
    "\n",
    "fig.show()\n"
   ]
  },
  {
   "cell_type": "code",
   "execution_count": 25,
   "id": "9ec04615-030a-4856-b2c1-929298a06001",
   "metadata": {
    "tags": [
     "remove-input"
    ]
   },
   "outputs": [
    {
     "data": {
      "text/html": [
       "<div id=\"cVoqySjQmRmF\" data-shufflequestions=\"False\"\n",
       "               data-shuffleanswers=\"True\"\n",
       "               data-preserveresponses=\"false\"\n",
       "               data-numquestions=\"1000000\"\n",
       "               data-maxwidth=\"600\"\n",
       "               style=\"border-radius: 10px; text-align: left\"> <style>\n",
       "#cVoqySjQmRmF {\n",
       "   --jq-multiple-choice-bg: #6f78ffff;\n",
       "   --jq-mc-button-bg: #fafafa;\n",
       "   --jq-mc-button-border: #e0e0e0e0;\n",
       "   --jq-mc-button-inset-shadow: #555555;\n",
       "   --jq-many-choice-bg: #f75c03ff;\n",
       "   --jq-numeric-bg: #392061ff;\n",
       "   --jq-numeric-input-bg: #c0c0c0;\n",
       "   --jq-numeric-input-label: #101010;\n",
       "   --jq-numeric-input-shadow: #999999;\n",
       "   --jq-incorrect-color: #c80202;\n",
       "   --jq-correct-color: #009113;\n",
       "   --jq-text-color: #fafafa;\n",
       "}\n",
       "\n",
       ".Quiz {\n",
       "    max-width: 600px;\n",
       "    margin-top: 15px;\n",
       "    margin-left: auto;\n",
       "    margin-right: auto;\n",
       "    margin-bottom: 15px;\n",
       "    padding-bottom: 4px;\n",
       "    padding-top: 4px;\n",
       "    line-height: 1.1;\n",
       "    font-size: 16pt;\n",
       "    border-radius: inherit;\n",
       "}\n",
       "\n",
       ".QuizCode {\n",
       "    font-size: 14pt;\n",
       "    margin-top: 10px;\n",
       "    margin-left: 20px;\n",
       "    margin-right: 20px;\n",
       "}\n",
       "\n",
       ".QuizCode>pre {\n",
       "    padding: 4px;\n",
       "}\n",
       "\n",
       ".Answer {\n",
       "    margin: 10px 0;\n",
       "    display: grid;\n",
       "    grid-template-columns: 1fr 1fr;\n",
       "    grid-gap: 10px;\n",
       "    border-radius: inherit;\n",
       "}\n",
       "\n",
       ".Feedback {\n",
       "    font-size: 16pt;\n",
       "    text-align: center;\n",
       "    min-height: 2em;\n",
       "}\n",
       "\n",
       ".Input {\n",
       "    align: left;\n",
       "    font-size: 20pt;\n",
       "}\n",
       "\n",
       ".Input-text {\n",
       "    display: block;\n",
       "    margin: 10px;\n",
       "    color: inherit;\n",
       "    width: 140px;\n",
       "    background-color: var(--jq-numeric-input-bg);\n",
       "    color: var(--jq-text-color);\n",
       "    padding: 5px;\n",
       "    padding-left: 10px;\n",
       "    font-family: inherit;\n",
       "    font-size: 20px;\n",
       "    font-weight: inherit;\n",
       "    line-height: 20pt;\n",
       "    border: none;\n",
       "    border-radius: 0.2rem;\n",
       "    transition: box-shadow 0.1s);\n",
       "}\n",
       "\n",
       ".Input-text:focus {\n",
       "    outline: none;\n",
       "    background-color: var(--jq-numeric-input-bg);\n",
       "    box-shadow: 0.6rem 0.8rem 1.4rem -0.5rem var(--jq-numeric-input-shadow);\n",
       "}\n",
       "\n",
       ".MCButton {\n",
       "    background: var(--jq-mc-button-bg);\n",
       "    border: 1px solid var(--jq-mc-button-border);\n",
       "    border-radius: inherit;\n",
       "    padding: 10px;\n",
       "    font-size: 16px;\n",
       "    cursor: pointer;\n",
       "    text-align: center;\n",
       "    display: flex;\n",
       "    align-items: center;\n",
       "    justify-content: center;\n",
       "}\n",
       "\n",
       ".MCButton p {\n",
       "    color: inherit;\n",
       "}\n",
       "\n",
       ".MultipleChoiceQn {\n",
       "    padding: 10px;\n",
       "    background: var(--jq-multiple-choice-bg);\n",
       "    color: var(--jq-text-color);\n",
       "    border-radius: inherit;\n",
       "}\n",
       "\n",
       ".ManyChoiceQn {\n",
       "    padding: 10px;\n",
       "    background: var(--jq-many-choice-bg);\n",
       "    color: var(--jq-text-color);\n",
       "    border-radius: inherit;\n",
       "}\n",
       "\n",
       ".NumericQn {\n",
       "    padding: 10px;\n",
       "    background: var(--jq-numeric-bg);\n",
       "    color: var(--jq-text-color);\n",
       "    border-radius: inherit;\n",
       "}\n",
       "\n",
       ".NumericQn p {\n",
       "    color: inherit;\n",
       "}\n",
       "\n",
       ".InpLabel {\n",
       "    line-height: 34px;\n",
       "    float: left;\n",
       "    margin-right: 10px;\n",
       "    color: var(--jq-numeric-input-label);\n",
       "    font-size: 15pt;\n",
       "}\n",
       "\n",
       ".incorrect {\n",
       "    color: var(--jq-incorrect-color);\n",
       "}\n",
       "\n",
       ".correct {\n",
       "    color: var(--jq-correct-color);\n",
       "}\n",
       "\n",
       ".correctButton {\n",
       "    /*\n",
       "    background: var(--jq-correct-color);\n",
       "   */\n",
       "    animation: correct-anim 0.6s ease;\n",
       "    animation-fill-mode: forwards;\n",
       "    color: var(--jq-text-color);\n",
       "    box-shadow: inset 0px 0px 5px var(--jq-mc-button-inset-shadow);\n",
       "    outline: none;\n",
       "}\n",
       "\n",
       ".incorrectButton {\n",
       "    animation: incorrect-anim 0.8s ease;\n",
       "    animation-fill-mode: forwards;\n",
       "    color: var(--jq-text-color);\n",
       "    box-shadow: inset 0px 0px 5px var(--jq-mc-button-inset-shadow);\n",
       "    outline: none;\n",
       "}\n",
       "\n",
       "@keyframes incorrect-anim {\n",
       "    100% {\n",
       "        background-color: var(--jq-incorrect-color);\n",
       "    }\n",
       "}\n",
       "\n",
       "@keyframes correct-anim {\n",
       "    100% {\n",
       "        background-color: var(--jq-correct-color);\n",
       "    }\n",
       "}\n",
       "</style>"
      ],
      "text/plain": [
       "<IPython.core.display.HTML object>"
      ]
     },
     "metadata": {},
     "output_type": "display_data"
    },
    {
     "data": {
      "application/javascript": "var questionscVoqySjQmRmF=[{\"question\": \"How many classes were there in the original data before applying LDA for dimensionality reduction in this example?\", \"type\": \"numeric\", \"answers\": [{\"type\": \"value\", \"value\": 4, \"correct\": true, \"feedback\": \"The original data had 4 features.\"}, {\"type\": \"default\", \"feedback\": \"The answer is incorrect! Scroll up for a hint.\"}]}];\n    // Make a random ID\nfunction makeid(length) {\n    var result = [];\n    var characters = 'ABCDEFGHIJKLMNOPQRSTUVWXYZabcdefghijklmnopqrstuvwxyz';\n    var charactersLength = characters.length;\n    for (var i = 0; i < length; i++) {\n        result.push(characters.charAt(Math.floor(Math.random() * charactersLength)));\n    }\n    return result.join('');\n}\n\n// Choose a random subset of an array. Can also be used to shuffle the array\nfunction getRandomSubarray(arr, size) {\n    var shuffled = arr.slice(0), i = arr.length, temp, index;\n    while (i--) {\n        index = Math.floor((i + 1) * Math.random());\n        temp = shuffled[index];\n        shuffled[index] = shuffled[i];\n        shuffled[i] = temp;\n    }\n    return shuffled.slice(0, size);\n}\n\nfunction printResponses(responsesContainer) {\n    var responses=JSON.parse(responsesContainer.dataset.responses);\n    var stringResponses='<B>IMPORTANT!</B>To preserve this answer sequence for submission, when you have finalized your answers: <ol> <li> Copy the text in this cell below \"Answer String\"</li> <li> Double click on the cell directly below the Answer String, labeled \"Replace Me\"</li> <li> Select the whole \"Replace Me\" text</li> <li> Paste in your answer string and press shift-Enter.</li><li>Save the notebook using the save icon or File->Save Notebook menu item</li></ul><br><br><br><b>Answer String:</b><br> ';\n    console.log(responses);\n    responses.forEach((response, index) => {\n        if (response) {\n            console.log(index + ': ' + response);\n            stringResponses+= index + ': ' + response +\"<BR>\";\n        }\n    });\n    responsesContainer.innerHTML=stringResponses;\n}\nfunction check_mc() {\n    var id = this.id.split('-')[0];\n    //var response = this.id.split('-')[1];\n    //console.log(response);\n    //console.log(\"In check_mc(), id=\"+id);\n    //console.log(event.srcElement.id)           \n    //console.log(event.srcElement.dataset.correct)   \n    //console.log(event.srcElement.dataset.feedback)\n\n    var label = event.srcElement;\n    //console.log(label, label.nodeName);\n    var depth = 0;\n    while ((label.nodeName != \"LABEL\") && (depth < 20)) {\n        label = label.parentElement;\n        console.log(depth, label);\n        depth++;\n    }\n\n\n\n    var answers = label.parentElement.children;\n\n    //console.log(answers);\n\n\n    // Split behavior based on multiple choice vs many choice:\n    var fb = document.getElementById(\"fb\" + id);\n\n\n\n\n    if (fb.dataset.numcorrect == 1) {\n        // What follows is for the saved responses stuff\n        var outerContainer = fb.parentElement.parentElement;\n        var responsesContainer = document.getElementById(\"responses\" + outerContainer.id);\n        if (responsesContainer) {\n            //console.log(responsesContainer);\n            var response = label.firstChild.innerText;\n            if (label.querySelector(\".QuizCode\")){\n                response+= label.querySelector(\".QuizCode\").firstChild.innerText;\n            }\n            console.log(response);\n            //console.log(document.getElementById(\"quizWrap\"+id));\n            var qnum = document.getElementById(\"quizWrap\"+id).dataset.qnum;\n            console.log(\"Question \" + qnum);\n            //console.log(id, \", got numcorrect=\",fb.dataset.numcorrect);\n            var responses=JSON.parse(responsesContainer.dataset.responses);\n            console.log(responses);\n            responses[qnum]= response;\n            responsesContainer.setAttribute('data-responses', JSON.stringify(responses));\n            printResponses(responsesContainer);\n        }\n        // End code to preserve responses\n        \n        for (var i = 0; i < answers.length; i++) {\n            var child = answers[i];\n            //console.log(child);\n            child.className = \"MCButton\";\n        }\n\n\n\n        if (label.dataset.correct == \"true\") {\n            // console.log(\"Correct action\");\n            if (\"feedback\" in label.dataset) {\n                fb.textContent = jaxify(label.dataset.feedback);\n            } else {\n                fb.textContent = \"Correct!\";\n            }\n            label.classList.add(\"correctButton\");\n\n            fb.className = \"Feedback\";\n            fb.classList.add(\"correct\");\n\n        } else {\n            if (\"feedback\" in label.dataset) {\n                fb.textContent = jaxify(label.dataset.feedback);\n            } else {\n                fb.textContent = \"Incorrect -- try again.\";\n            }\n            //console.log(\"Error action\");\n            label.classList.add(\"incorrectButton\");\n            fb.className = \"Feedback\";\n            fb.classList.add(\"incorrect\");\n        }\n    }\n    else {\n        var reset = false;\n        var feedback;\n         if (label.dataset.correct == \"true\") {\n            if (\"feedback\" in label.dataset) {\n                feedback = jaxify(label.dataset.feedback);\n            } else {\n                feedback = \"Correct!\";\n            }\n            if (label.dataset.answered <= 0) {\n                if (fb.dataset.answeredcorrect < 0) {\n                    fb.dataset.answeredcorrect = 1;\n                    reset = true;\n                } else {\n                    fb.dataset.answeredcorrect++;\n                }\n                if (reset) {\n                    for (var i = 0; i < answers.length; i++) {\n                        var child = answers[i];\n                        child.className = \"MCButton\";\n                        child.dataset.answered = 0;\n                    }\n                }\n                label.classList.add(\"correctButton\");\n                label.dataset.answered = 1;\n                fb.className = \"Feedback\";\n                fb.classList.add(\"correct\");\n\n            }\n        } else {\n            if (\"feedback\" in label.dataset) {\n                feedback = jaxify(label.dataset.feedback);\n            } else {\n                feedback = \"Incorrect -- try again.\";\n            }\n            if (fb.dataset.answeredcorrect > 0) {\n                fb.dataset.answeredcorrect = -1;\n                reset = true;\n            } else {\n                fb.dataset.answeredcorrect--;\n            }\n\n            if (reset) {\n                for (var i = 0; i < answers.length; i++) {\n                    var child = answers[i];\n                    child.className = \"MCButton\";\n                    child.dataset.answered = 0;\n                }\n            }\n            label.classList.add(\"incorrectButton\");\n            fb.className = \"Feedback\";\n            fb.classList.add(\"incorrect\");\n        }\n        // What follows is for the saved responses stuff\n        var outerContainer = fb.parentElement.parentElement;\n        var responsesContainer = document.getElementById(\"responses\" + outerContainer.id);\n        if (responsesContainer) {\n            //console.log(responsesContainer);\n            var response = label.firstChild.innerText;\n            if (label.querySelector(\".QuizCode\")){\n                response+= label.querySelector(\".QuizCode\").firstChild.innerText;\n            }\n            console.log(response);\n            //console.log(document.getElementById(\"quizWrap\"+id));\n            var qnum = document.getElementById(\"quizWrap\"+id).dataset.qnum;\n            console.log(\"Question \" + qnum);\n            //console.log(id, \", got numcorrect=\",fb.dataset.numcorrect);\n            var responses=JSON.parse(responsesContainer.dataset.responses);\n            if (label.dataset.correct == \"true\") {\n                if (typeof(responses[qnum]) == \"object\"){\n                    if (!responses[qnum].includes(response))\n                        responses[qnum].push(response);\n                } else{\n                    responses[qnum]= [ response ];\n                }\n            } else {\n                responses[qnum]= response;\n            }\n            console.log(responses);\n            responsesContainer.setAttribute('data-responses', JSON.stringify(responses));\n            printResponses(responsesContainer);\n        }\n        // End save responses stuff\n\n\n\n        var numcorrect = fb.dataset.numcorrect;\n        var answeredcorrect = fb.dataset.answeredcorrect;\n        if (answeredcorrect >= 0) {\n            fb.textContent = feedback + \" [\" + answeredcorrect + \"/\" + numcorrect + \"]\";\n        } else {\n            fb.textContent = feedback + \" [\" + 0 + \"/\" + numcorrect + \"]\";\n        }\n\n\n    }\n\n    if (typeof MathJax != 'undefined') {\n        var version = MathJax.version;\n        console.log('MathJax version', version);\n        if (version[0] == \"2\") {\n            MathJax.Hub.Queue([\"Typeset\", MathJax.Hub]);\n        } else if (version[0] == \"3\") {\n            MathJax.typeset([fb]);\n        }\n    } else {\n        console.log('MathJax not detected');\n    }\n\n}\n\nfunction make_mc(qa, shuffle_answers, outerqDiv, qDiv, aDiv, id) {\n    var shuffled;\n    if (shuffle_answers == \"True\") {\n        //console.log(shuffle_answers+\" read as true\");\n        shuffled = getRandomSubarray(qa.answers, qa.answers.length);\n    } else {\n        //console.log(shuffle_answers+\" read as false\");\n        shuffled = qa.answers;\n    }\n\n\n    var num_correct = 0;\n\n\n\n    shuffled.forEach((item, index, ans_array) => {\n        //console.log(answer);\n\n        // Make input element\n        var inp = document.createElement(\"input\");\n        inp.type = \"radio\";\n        inp.id = \"quizo\" + id + index;\n        inp.style = \"display:none;\";\n        aDiv.append(inp);\n\n        //Make label for input element\n        var lab = document.createElement(\"label\");\n        lab.className = \"MCButton\";\n        lab.id = id + '-' + index;\n        lab.onclick = check_mc;\n        var aSpan = document.createElement('span');\n        aSpan.classsName = \"\";\n        //qDiv.id=\"quizQn\"+id+index;\n        if (\"answer\" in item) {\n            aSpan.innerHTML = jaxify(item.answer);\n            //aSpan.innerHTML=item.answer;\n        }\n        lab.append(aSpan);\n\n        // Create div for code inside question\n        var codeSpan;\n        if (\"code\" in item) {\n            codeSpan = document.createElement('span');\n            codeSpan.id = \"code\" + id + index;\n            codeSpan.className = \"QuizCode\";\n            var codePre = document.createElement('pre');\n            codeSpan.append(codePre);\n            var codeCode = document.createElement('code');\n            codePre.append(codeCode);\n            codeCode.innerHTML = item.code;\n            lab.append(codeSpan);\n            //console.log(codeSpan);\n        }\n\n        //lab.textContent=item.answer;\n\n        // Set the data attributes for the answer\n        lab.setAttribute('data-correct', item.correct);\n        if (item.correct) {\n            num_correct++;\n        }\n        if (\"feedback\" in item) {\n            lab.setAttribute('data-feedback', item.feedback);\n        }\n        lab.setAttribute('data-answered', 0);\n\n        aDiv.append(lab);\n\n    });\n\n    if (num_correct > 1) {\n        outerqDiv.className = \"ManyChoiceQn\";\n    } else {\n        outerqDiv.className = \"MultipleChoiceQn\";\n    }\n\n    return num_correct;\n\n}\nfunction check_numeric(ths, event) {\n\n    if (event.keyCode === 13) {\n        ths.blur();\n\n        var id = ths.id.split('-')[0];\n\n        var submission = ths.value;\n        if (submission.indexOf('/') != -1) {\n            var sub_parts = submission.split('/');\n            //console.log(sub_parts);\n            submission = sub_parts[0] / sub_parts[1];\n        }\n        //console.log(\"Reader entered\", submission);\n\n        if (\"precision\" in ths.dataset) {\n            var precision = ths.dataset.precision;\n            // console.log(\"1:\", submission)\n            submission = Math.round((1 * submission + Number.EPSILON) * 10 ** precision) / 10 ** precision;\n            // console.log(\"Rounded to \", submission, \" precision=\", precision  );\n        }\n\n\n        //console.log(\"In check_numeric(), id=\"+id);\n        //console.log(event.srcElement.id)           \n        //console.log(event.srcElement.dataset.feedback)\n\n        var fb = document.getElementById(\"fb\" + id);\n        fb.style.display = \"none\";\n        fb.textContent = \"Incorrect -- try again.\";\n\n        var answers = JSON.parse(ths.dataset.answers);\n        //console.log(answers);\n\n        var defaultFB = \"\";\n        var correct;\n        var done = false;\n        answers.every(answer => {\n            //console.log(answer.type);\n\n            correct = false;\n            // if (answer.type==\"value\"){\n            if ('value' in answer) {\n                if (submission == answer.value) {\n                    if (\"feedback\" in answer) {\n                        fb.textContent = jaxify(answer.feedback);\n                    } else {\n                        fb.textContent = jaxify(\"Correct\");\n                    }\n                    correct = answer.correct;\n                    //console.log(answer.correct);\n                    done = true;\n                }\n                // } else if (answer.type==\"range\") {\n            } else if ('range' in answer) {\n                //console.log(answer.range);\n                if ((submission >= answer.range[0]) && (submission < answer.range[1])) {\n                    fb.textContent = jaxify(answer.feedback);\n                    correct = answer.correct;\n                    //console.log(answer.correct);\n                    done = true;\n                }\n            } else if (answer.type == \"default\") {\n                defaultFB = answer.feedback;\n            }\n            if (done) {\n                return false; // Break out of loop if this has been marked correct\n            } else {\n                return true; // Keep looking for case that includes this as a correct answer\n            }\n        });\n\n        if ((!done) && (defaultFB != \"\")) {\n            fb.innerHTML = jaxify(defaultFB);\n            //console.log(\"Default feedback\", defaultFB);\n        }\n\n        fb.style.display = \"block\";\n        if (correct) {\n            ths.className = \"Input-text\";\n            ths.classList.add(\"correctButton\");\n            fb.className = \"Feedback\";\n            fb.classList.add(\"correct\");\n        } else {\n            ths.className = \"Input-text\";\n            ths.classList.add(\"incorrectButton\");\n            fb.className = \"Feedback\";\n            fb.classList.add(\"incorrect\");\n        }\n\n        // What follows is for the saved responses stuff\n        var outerContainer = fb.parentElement.parentElement;\n        var responsesContainer = document.getElementById(\"responses\" + outerContainer.id);\n        if (responsesContainer) {\n            console.log(submission);\n            var qnum = document.getElementById(\"quizWrap\"+id).dataset.qnum;\n            //console.log(\"Question \" + qnum);\n            //console.log(id, \", got numcorrect=\",fb.dataset.numcorrect);\n            var responses=JSON.parse(responsesContainer.dataset.responses);\n            console.log(responses);\n            if (submission == ths.value){\n                responses[qnum]= submission;\n            } else {\n                responses[qnum]= ths.value + \"(\" + submission +\")\";\n            }\n            responsesContainer.setAttribute('data-responses', JSON.stringify(responses));\n            printResponses(responsesContainer);\n        }\n        // End code to preserve responses\n\n        if (typeof MathJax != 'undefined') {\n            var version = MathJax.version;\n            console.log('MathJax version', version);\n            if (version[0] == \"2\") {\n                MathJax.Hub.Queue([\"Typeset\", MathJax.Hub]);\n            } else if (version[0] == \"3\") {\n                MathJax.typeset([fb]);\n            }\n        } else {\n            console.log('MathJax not detected');\n        }\n        return false;\n    }\n\n}\n\nfunction isValid(el, charC) {\n    //console.log(\"Input char: \", charC);\n    if (charC == 46) {\n        if (el.value.indexOf('.') === -1) {\n            return true;\n        } else if (el.value.indexOf('/') != -1) {\n            var parts = el.value.split('/');\n            if (parts[1].indexOf('.') === -1) {\n                return true;\n            }\n        }\n        else {\n            return false;\n        }\n    } else if (charC == 47) {\n        if (el.value.indexOf('/') === -1) {\n            if ((el.value != \"\") && (el.value != \".\")) {\n                return true;\n            } else {\n                return false;\n            }\n        } else {\n            return false;\n        }\n    } else if (charC == 45) {\n        var edex = el.value.indexOf('e');\n        if (edex == -1) {\n            edex = el.value.indexOf('E');\n        }\n\n        if (el.value == \"\") {\n            return true;\n        } else if (edex == (el.value.length - 1)) { // If just after e or E\n            return true;\n        } else {\n            return false;\n        }\n    } else if (charC == 101) { // \"e\"\n        if ((el.value.indexOf('e') === -1) && (el.value.indexOf('E') === -1) && (el.value.indexOf('/') == -1)) {\n            // Prev symbol must be digit or decimal point:\n            if (el.value.slice(-1).search(/\\d/) >= 0) {\n                return true;\n            } else if (el.value.slice(-1).search(/\\./) >= 0) {\n                return true;\n            } else {\n                return false;\n            }\n        } else {\n            return false;\n        }\n    } else {\n        if (charC > 31 && (charC < 48 || charC > 57))\n            return false;\n    }\n    return true;\n}\n\nfunction numeric_keypress(evnt) {\n    var charC = (evnt.which) ? evnt.which : evnt.keyCode;\n\n    if (charC == 13) {\n        check_numeric(this, evnt);\n    } else {\n        return isValid(this, charC);\n    }\n}\n\n\n\n\n\nfunction make_numeric(qa, outerqDiv, qDiv, aDiv, id) {\n\n\n\n    //console.log(answer);\n\n\n    outerqDiv.className = \"NumericQn\";\n    aDiv.style.display = 'block';\n\n    var lab = document.createElement(\"label\");\n    lab.className = \"InpLabel\";\n    lab.textContent = \"Type numeric answer here:\";\n    aDiv.append(lab);\n\n    var inp = document.createElement(\"input\");\n    inp.type = \"text\";\n    //inp.id=\"input-\"+id;\n    inp.id = id + \"-0\";\n    inp.className = \"Input-text\";\n    inp.setAttribute('data-answers', JSON.stringify(qa.answers));\n    if (\"precision\" in qa) {\n        inp.setAttribute('data-precision', qa.precision);\n    }\n    aDiv.append(inp);\n    //console.log(inp);\n\n    //inp.addEventListener(\"keypress\", check_numeric);\n    //inp.addEventListener(\"keypress\", numeric_keypress);\n    /*\n    inp.addEventListener(\"keypress\", function(event) {\n        return numeric_keypress(this, event);\n    }\n                        );\n                        */\n    //inp.onkeypress=\"return numeric_keypress(this, event)\";\n    inp.onkeypress = numeric_keypress;\n    inp.onpaste = event => false;\n\n    inp.addEventListener(\"focus\", function (event) {\n        this.value = \"\";\n        return false;\n    }\n    );\n\n\n}\nfunction jaxify(string) {\n    var mystring = string;\n\n    var count = 0;\n    var loc = mystring.search(/([^\\\\]|^)(\\$)/);\n\n    var count2 = 0;\n    var loc2 = mystring.search(/([^\\\\]|^)(\\$\\$)/);\n\n    //console.log(loc);\n\n    while ((loc >= 0) || (loc2 >= 0)) {\n\n        /* Have to replace all the double $$ first with current implementation */\n        if (loc2 >= 0) {\n            if (count2 % 2 == 0) {\n                mystring = mystring.replace(/([^\\\\]|^)(\\$\\$)/, \"$1\\\\[\");\n            } else {\n                mystring = mystring.replace(/([^\\\\]|^)(\\$\\$)/, \"$1\\\\]\");\n            }\n            count2++;\n        } else {\n            if (count % 2 == 0) {\n                mystring = mystring.replace(/([^\\\\]|^)(\\$)/, \"$1\\\\(\");\n            } else {\n                mystring = mystring.replace(/([^\\\\]|^)(\\$)/, \"$1\\\\)\");\n            }\n            count++;\n        }\n        loc = mystring.search(/([^\\\\]|^)(\\$)/);\n        loc2 = mystring.search(/([^\\\\]|^)(\\$\\$)/);\n        //console.log(mystring,\", loc:\",loc,\", loc2:\",loc2);\n    }\n\n    //console.log(mystring);\n    return mystring;\n}\n\n\nfunction show_questions(json, mydiv) {\n    console.log('show_questions');\n    //var mydiv=document.getElementById(myid);\n    var shuffle_questions = mydiv.dataset.shufflequestions;\n    var num_questions = mydiv.dataset.numquestions;\n    var shuffle_answers = mydiv.dataset.shuffleanswers;\n    var max_width = mydiv.dataset.maxwidth;\n\n    if (num_questions > json.length) {\n        num_questions = json.length;\n    }\n\n    var questions;\n    if ((num_questions < json.length) || (shuffle_questions == \"True\")) {\n        //console.log(num_questions+\",\"+json.length);\n        questions = getRandomSubarray(json, num_questions);\n    } else {\n        questions = json;\n    }\n\n    //console.log(\"SQ: \"+shuffle_questions+\", NQ: \" + num_questions + \", SA: \", shuffle_answers);\n\n    // Iterate over questions\n    questions.forEach((qa, index, array) => {\n        //console.log(qa.question); \n\n        var id = makeid(8);\n        //console.log(id);\n\n\n        // Create Div to contain question and answers\n        var iDiv = document.createElement('div');\n        //iDiv.id = 'quizWrap' + id + index;\n        iDiv.id = 'quizWrap' + id;\n        iDiv.className = 'Quiz';\n        iDiv.setAttribute('data-qnum', index);\n        iDiv.style.maxWidth  =max_width+\"px\";\n        mydiv.appendChild(iDiv);\n        // iDiv.innerHTML=qa.question;\n        \n        var outerqDiv = document.createElement('div');\n        outerqDiv.id = \"OuterquizQn\" + id + index;\n        // Create div to contain question part\n        var qDiv = document.createElement('div');\n        qDiv.id = \"quizQn\" + id + index;\n        \n        if (qa.question) {\n            iDiv.append(outerqDiv);\n\n            //qDiv.textContent=qa.question;\n            qDiv.innerHTML = jaxify(qa.question);\n            outerqDiv.append(qDiv);\n        }\n\n        // Create div for code inside question\n        var codeDiv;\n        if (\"code\" in qa) {\n            codeDiv = document.createElement('div');\n            codeDiv.id = \"code\" + id + index;\n            codeDiv.className = \"QuizCode\";\n            var codePre = document.createElement('pre');\n            codeDiv.append(codePre);\n            var codeCode = document.createElement('code');\n            codePre.append(codeCode);\n            codeCode.innerHTML = qa.code;\n            outerqDiv.append(codeDiv);\n            //console.log(codeDiv);\n        }\n\n\n        // Create div to contain answer part\n        var aDiv = document.createElement('div');\n        aDiv.id = \"quizAns\" + id + index;\n        aDiv.className = 'Answer';\n        iDiv.append(aDiv);\n\n        //console.log(qa.type);\n\n        var num_correct;\n        if ((qa.type == \"multiple_choice\") || (qa.type == \"many_choice\") ) {\n            num_correct = make_mc(qa, shuffle_answers, outerqDiv, qDiv, aDiv, id);\n            if (\"answer_cols\" in qa) {\n                //aDiv.style.gridTemplateColumns = 'auto '.repeat(qa.answer_cols);\n                aDiv.style.gridTemplateColumns = 'repeat(' + qa.answer_cols + ', 1fr)';\n            }\n        } else if (qa.type == \"numeric\") {\n            //console.log(\"numeric\");\n            make_numeric(qa, outerqDiv, qDiv, aDiv, id);\n        }\n\n\n        //Make div for feedback\n        var fb = document.createElement(\"div\");\n        fb.id = \"fb\" + id;\n        //fb.style=\"font-size: 20px;text-align:center;\";\n        fb.className = \"Feedback\";\n        fb.setAttribute(\"data-answeredcorrect\", 0);\n        fb.setAttribute(\"data-numcorrect\", num_correct);\n        iDiv.append(fb);\n\n\n    });\n    var preserveResponses = mydiv.dataset.preserveresponses;\n    console.log(preserveResponses);\n    console.log(preserveResponses == \"true\");\n    if (preserveResponses == \"true\") {\n        console.log(preserveResponses);\n        // Create Div to contain record of answers\n        var iDiv = document.createElement('div');\n        iDiv.id = 'responses' + mydiv.id;\n        iDiv.className = 'JCResponses';\n        // Create a place to store responses as an empty array\n        iDiv.setAttribute('data-responses', '[]');\n\n        // Dummy Text\n        iDiv.innerHTML=\"<b>Select your answers and then follow the directions that will appear here.</b>\"\n        //iDiv.className = 'Quiz';\n        mydiv.appendChild(iDiv);\n    }\n//console.log(\"At end of show_questions\");\n    if (typeof MathJax != 'undefined') {\n        console.log(\"MathJax version\", MathJax.version);\n        var version = MathJax.version;\n        setTimeout(function(){\n            var version = MathJax.version;\n            console.log('After sleep, MathJax version', version);\n            if (version[0] == \"2\") {\n                MathJax.Hub.Queue([\"Typeset\", MathJax.Hub]);\n            } else if (version[0] == \"3\") {\n                MathJax.typeset([mydiv]);\n            }\n        }, 500);\nif (typeof version == 'undefined') {\n        } else\n        {\n            if (version[0] == \"2\") {\n                MathJax.Hub.Queue([\"Typeset\", MathJax.Hub]);\n            } else if (version[0] == \"3\") {\n                MathJax.typeset([mydiv]);\n            } else {\n                console.log(\"MathJax not found\");\n            }\n        }\n    }\n    return false;\n}\n/* This is to handle asynchrony issues in loading Jupyter notebooks\n           where the quiz has been previously run. The Javascript was generally\n           being run before the div was added to the DOM. I tried to do this\n           more elegantly using Mutation Observer, but I didn't get it to work.\n\n           Someone more knowledgeable could make this better ;-) */\n\n        function try_show() {\n          if(document.getElementById(\"cVoqySjQmRmF\")) {\n            show_questions(questionscVoqySjQmRmF,  cVoqySjQmRmF); \n          } else {\n             setTimeout(try_show, 200);\n          }\n        };\n    \n        {\n        // console.log(element);\n\n        //console.log(\"cVoqySjQmRmF\");\n        // console.log(document.getElementById(\"cVoqySjQmRmF\"));\n\n        try_show();\n        }\n        ",
      "text/plain": [
       "<IPython.core.display.Javascript object>"
      ]
     },
     "metadata": {},
     "output_type": "display_data"
    }
   ],
   "source": [
    "from jupyterquiz import display_quiz\n",
    "\n",
    "display_quiz(quiz_result4)"
   ]
  },
  {
   "cell_type": "markdown",
   "id": "1feb9d41-3596-4274-9e95-22529d22c713",
   "metadata": {},
   "source": [
    "Now, let’s express the “explained variance” as percentage:\n"
   ]
  },
  {
   "cell_type": "code",
   "execution_count": 15,
   "id": "786196d1-9743-4816-b75f-30f9c22c5212",
   "metadata": {},
   "outputs": [
    {
     "name": "stdout",
     "output_type": "stream",
     "text": [
      "Variance explained:\n",
      "\n",
      "LDA 1: 99.12%\n",
      "LDA 2: 0.88%\n"
     ]
    }
   ],
   "source": [
    "## Explaning the varianvce for the new features created\n",
    "print('Variance explained:\\n')\n",
    "for i,j in enumerate(lda_as_dimension_reduction.explained_variance_ratio_):\n",
    "    print(f'LDA {i+1}: {j:.2%}')"
   ]
  },
  {
   "cell_type": "markdown",
   "id": "6bfe4288-ce26-4f1d-9fbc-6bce74b16416",
   "metadata": {},
   "source": [
    "The LDA 1 is by far the most informative one, and we won’t loose much information if we would form a 1D-feature spaced based on this.\n",
    "\n",
    "What we are going to do next is to visualize the 2 columns created by LDA and see how the class are separated."
   ]
  },
  {
   "cell_type": "code",
   "execution_count": 21,
   "id": "d1d6d6ca-e30f-417a-8336-66033549c526",
   "metadata": {
    "tags": [
     "hide-input"
    ]
   },
   "outputs": [
    {
     "data": {
      "image/png": "[encoded data removed]",
      "text/plain": [
       "<Figure size 640x480 with 1 Axes>"
      ]
     },
     "metadata": {},
     "output_type": "display_data"
    }
   ],
   "source": [
    "# Create a function for plotting \n",
    "from matplotlib import pyplot as plt\n",
    "def plot_scikit_lda(X, title):\n",
    "\n",
    "    ax = plt.subplot(111)\n",
    "    for label,marker,color in zip(\n",
    "        range(1,4),('^', 's', 'o'),('blue', 'red', 'green')):\n",
    "\n",
    "        plt.scatter(x=X[:,0][y == label],\n",
    "                    y=X[:,1][y == label] * -1, # flip the figure\n",
    "                    marker=marker,\n",
    "                    color=color,\n",
    "                    alpha=0.5,\n",
    "                    label=label_dict[label])\n",
    "\n",
    "    plt.xlabel('LD1')\n",
    "    plt.ylabel('LD2')\n",
    "\n",
    "    leg = plt.legend(loc='upper right', fancybox=True)\n",
    "    leg.get_frame().set_alpha(0.5)\n",
    "    plt.title(title)\n",
    "\n",
    "    # hide axis ticks\n",
    "    plt.tick_params(axis=\"both\", which=\"both\", bottom=\"off\", top=\"off\",  \n",
    "            labelbottom=\"on\", left=\"off\", right=\"off\", labelleft=\"on\")\n",
    "\n",
    "    # remove axis spines\n",
    "    ax.spines[\"top\"].set_visible(False)  \n",
    "    ax.spines[\"right\"].set_visible(False)\n",
    "    ax.spines[\"bottom\"].set_visible(False)\n",
    "    ax.spines[\"left\"].set_visible(False)    \n",
    "\n",
    "    plt.grid()\n",
    "    plt.tight_layout\n",
    "    plt.show()\n",
    "    \n",
    "plot_scikit_lda(X_lda_sklearn, title='LDA classification')"
   ]
  },
  {
   "cell_type": "markdown",
   "id": "c50a499d-8b1f-4cc1-808c-4a8910dae2ce",
   "metadata": {},
   "source": [
    "The scatter plot above represents our new feature subspace that we constructed via LDA. We can see that the first linear discriminant **LD1** separates the classes quite nicely. However, the second discriminant, **LD2**, does not add much valuable information,which we’ve already concluded when we looked at the ranked varianvce explained.\n",
    "\n",
    "That's it we are able to use LDA to reduce thnumberer of features **from 4 to 2** \n",
    "\n",
    "Finally, let't move on to the classification task itself."
   ]
  },
  {
   "cell_type": "markdown",
   "id": "4ccdce47-6f79-4bce-ace8-19be92368214",
   "metadata": {},
   "source": [
    "### Split Train and Test data"
   ]
  },
  {
   "cell_type": "markdown",
   "id": "94959f68-75d2-4656-8388-8bf01990db4f",
   "metadata": {},
   "source": [
    "For the classification task, since we don't have a test dataset we are going to split our original data. 70% will be used for training the model and 30% will be used as validation.\n",
    "To split our data we are going to call function train_test_split from scikit-learn library."
   ]
  },
  {
   "cell_type": "code",
   "execution_count": 22,
   "id": "c99e098e-4304-4a75-b4e6-bfdd3f7db933",
   "metadata": {},
   "outputs": [
    {
     "name": "stdout",
     "output_type": "stream",
     "text": [
      "\n",
      "Size of the dataset\n",
      "All data: (150, 4)\n",
      "Training: (105, 4)\n",
      "Validation: (45, 4)\n",
      "\n",
      "Proportion of 'TARGETS' in the dataset\n",
      "All data: [0.33333333 0.33333333 0.33333333]\n",
      "Validation: [0.33333333 0.33333333 0.33333333]\n",
      "Training: [0.33333333 0.33333333 0.33333333]\n"
     ]
    }
   ],
   "source": [
    "from sklearn.model_selection import train_test_split\n",
    "import numpy as np\n",
    "\n",
    "X_train, X_test, y_train, y_test = train_test_split(X, y, stratify=y, test_size=0.7, random_state=12345)\n",
    " \n",
    "print(\"\\nSize of the dataset\")\n",
    "print(\"All data:\", X.shape)\n",
    "print(\"Training:\", X_test.shape)    \n",
    "print(\"Validation:\", X_train.shape) \n",
    "    \n",
    "print(\"\\nProportion of 'TARGETS' in the dataset\")\n",
    "print(\"All data:\", np.bincount(y)[1:] / float(len(y)))\n",
    "print(\"Validation:\", np.bincount(y_test)[1:] / float(len(y_test))) \n",
    "print(\"Training:\", np.bincount(y_train)[1:] / float(len(y_train)))   "
   ]
  },
  {
   "cell_type": "markdown",
   "id": "f0354175-a8a8-4c61-878e-f3a6301c5f75",
   "metadata": {},
   "source": [
    "Transform data to follow assumption 2 regarding {ref}`variance of the data <normality-assumptions>`"
   ]
  },
  {
   "cell_type": "code",
   "execution_count": 18,
   "id": "bda8a8f9-1979-47a3-bfed-cfb223866f52",
   "metadata": {},
   "outputs": [],
   "source": [
    "from sklearn.preprocessing import StandardScaler\n",
    "scaler=StandardScaler()\n",
    "scaler.fit(X_train)\n",
    "\n",
    "# Scaling Train Set\n",
    "X_train = scaler.transform(X_train)\n",
    "# Scaling Test Set\n",
    "X_test = scaler.transform(X_test)"
   ]
  },
  {
   "cell_type": "code",
   "execution_count": 19,
   "id": "24bf39c7-c094-4022-a06e-36697dff586e",
   "metadata": {},
   "outputs": [
    {
     "data": {
      "text/html": [
       "<style>#sk-container-id-1 {color: black;}#sk-container-id-1 pre{padding: 0;}#sk-container-id-1 div.sk-toggleable {background-color: white;}#sk-container-id-1 label.sk-toggleable__label {cursor: pointer;display: block;width: 100%;margin-bottom: 0;padding: 0.3em;box-sizing: border-box;text-align: center;}#sk-container-id-1 label.sk-toggleable__label-arrow:before {content: \"▸\";float: left;margin-right: 0.25em;color: #696969;}#sk-container-id-1 label.sk-toggleable__label-arrow:hover:before {color: black;}#sk-container-id-1 div.sk-estimator:hover label.sk-toggleable__label-arrow:before {color: black;}#sk-container-id-1 div.sk-toggleable__content {max-height: 0;max-width: 0;overflow: hidden;text-align: left;background-color: #f0f8ff;}#sk-container-id-1 div.sk-toggleable__content pre {margin: 0.2em;color: black;border-radius: 0.25em;background-color: #f0f8ff;}#sk-container-id-1 input.sk-toggleable__control:checked~div.sk-toggleable__content {max-height: 200px;max-width: 100%;overflow: auto;}#sk-container-id-1 input.sk-toggleable__control:checked~label.sk-toggleable__label-arrow:before {content: \"▾\";}#sk-container-id-1 div.sk-estimator input.sk-toggleable__control:checked~label.sk-toggleable__label {background-color: #d4ebff;}#sk-container-id-1 div.sk-label input.sk-toggleable__control:checked~label.sk-toggleable__label {background-color: #d4ebff;}#sk-container-id-1 input.sk-hidden--visually {border: 0;clip: rect(1px 1px 1px 1px);clip: rect(1px, 1px, 1px, 1px);height: 1px;margin: -1px;overflow: hidden;padding: 0;position: absolute;width: 1px;}#sk-container-id-1 div.sk-estimator {font-family: monospace;background-color: #f0f8ff;border: 1px dotted black;border-radius: 0.25em;box-sizing: border-box;margin-bottom: 0.5em;}#sk-container-id-1 div.sk-estimator:hover {background-color: #d4ebff;}#sk-container-id-1 div.sk-parallel-item::after {content: \"\";width: 100%;border-bottom: 1px solid gray;flex-grow: 1;}#sk-container-id-1 div.sk-label:hover label.sk-toggleable__label {background-color: #d4ebff;}#sk-container-id-1 div.sk-serial::before {content: \"\";position: absolute;border-left: 1px solid gray;box-sizing: border-box;top: 0;bottom: 0;left: 50%;z-index: 0;}#sk-container-id-1 div.sk-serial {display: flex;flex-direction: column;align-items: center;background-color: white;padding-right: 0.2em;padding-left: 0.2em;position: relative;}#sk-container-id-1 div.sk-item {position: relative;z-index: 1;}#sk-container-id-1 div.sk-parallel {display: flex;align-items: stretch;justify-content: center;background-color: white;position: relative;}#sk-container-id-1 div.sk-item::before, #sk-container-id-1 div.sk-parallel-item::before {content: \"\";position: absolute;border-left: 1px solid gray;box-sizing: border-box;top: 0;bottom: 0;left: 50%;z-index: -1;}#sk-container-id-1 div.sk-parallel-item {display: flex;flex-direction: column;z-index: 1;position: relative;background-color: white;}#sk-container-id-1 div.sk-parallel-item:first-child::after {align-self: flex-end;width: 50%;}#sk-container-id-1 div.sk-parallel-item:last-child::after {align-self: flex-start;width: 50%;}#sk-container-id-1 div.sk-parallel-item:only-child::after {width: 0;}#sk-container-id-1 div.sk-dashed-wrapped {border: 1px dashed gray;margin: 0 0.4em 0.5em 0.4em;box-sizing: border-box;padding-bottom: 0.4em;background-color: white;}#sk-container-id-1 div.sk-label label {font-family: monospace;font-weight: bold;display: inline-block;line-height: 1.2em;}#sk-container-id-1 div.sk-label-container {text-align: center;}#sk-container-id-1 div.sk-container {/* jupyter's `normalize.less` sets `[hidden] { display: none; }` but bootstrap.min.css set `[hidden] { display: none !important; }` so we also need the `!important` here to be able to override the default hidden behavior on the sphinx rendered scikit-learn.org. See: https://github.com/scikit-learn/scikit-learn/issues/21755 */display: inline-block !important;position: relative;}#sk-container-id-1 div.sk-text-repr-fallback {display: none;}</style><div id=\"sk-container-id-1\" class=\"sk-top-container\"><div class=\"sk-text-repr-fallback\"><pre>LinearDiscriminantAnalysis()</pre><b>In a Jupyter environment, please rerun this cell to show the HTML representation or trust the notebook. <br />On GitHub, the HTML representation is unable to render, please try loading this page with nbviewer.org.</b></div><div class=\"sk-container\" hidden><div class=\"sk-item\"><div class=\"sk-estimator sk-toggleable\"><input class=\"sk-toggleable__control sk-hidden--visually\" id=\"sk-estimator-id-1\" type=\"checkbox\" checked><label for=\"sk-estimator-id-1\" class=\"sk-toggleable__label sk-toggleable__label-arrow\">LinearDiscriminantAnalysis</label><div class=\"sk-toggleable__content\"><pre>LinearDiscriminantAnalysis()</pre></div></div></div></div></div>"
      ],
      "text/plain": [
       "LinearDiscriminantAnalysis()"
      ]
     },
     "execution_count": 19,
     "metadata": {},
     "output_type": "execute_result"
    }
   ],
   "source": [
    "lda_for_classification = LDA(shrinkage=None, solver='svd')\n",
    "lda_for_classification.fit(X_train, y_train)"
   ]
  },
  {
   "cell_type": "code",
   "execution_count": 20,
   "id": "db7db378-b5ba-474f-bceb-b6d11531f081",
   "metadata": {},
   "outputs": [
    {
     "name": "stdout",
     "output_type": "stream",
     "text": [
      "Training REPORT\n",
      "              precision    recall  f1-score   support\n",
      "\n",
      "      Setosa       1.00      1.00      1.00        15\n",
      "  Versicolor       1.00      1.00      1.00        15\n",
      "   Virginica       1.00      1.00      1.00        15\n",
      "\n",
      "    accuracy                           1.00        45\n",
      "   macro avg       1.00      1.00      1.00        45\n",
      "weighted avg       1.00      1.00      1.00        45\n",
      "\n",
      "Validation REPORT\n",
      "              precision    recall  f1-score   support\n",
      "\n",
      "      Setosa       1.00      1.00      1.00        35\n",
      "  Versicolor       0.97      0.97      0.97        35\n",
      "   Virginica       0.97      0.97      0.97        35\n",
      "\n",
      "    accuracy                           0.98       105\n",
      "   macro avg       0.98      0.98      0.98       105\n",
      "weighted avg       0.98      0.98      0.98       105\n"
     ]
    }
   ],
   "source": [
    "from sklearn.metrics import classification_report\n",
    "\n",
    "# Score Training Data Set\n",
    "y_true = y_train\n",
    "y_pred = lda_for_classification.predict(X_train)\n",
    "target_names = ['Setosa', 'Versicolor', 'Virginica']\n",
    "print('Training REPORT')\n",
    "print(classification_report(y_true, y_pred, target_names=target_names))\n",
    "\n",
    "# Score Validation Data Set\n",
    "y_true = y_test\n",
    "y_pred = lda_for_classification.predict(X_test)\n",
    "target_names = ['Setosa', 'Versicolor', 'Virginica']\n",
    "print('Validation REPORT')\n",
    "print(classification_report(y_true, y_pred, target_names=target_names))"
   ]
  },
  {
   "cell_type": "markdown",
   "id": "35febc83-c80d-4725-8c29-bc3bf17c273a",
   "metadata": {},
   "source": [
    "That's it! We are done with the implementation of LDA as a classifier. \n",
    "We are able to classify the IRIS dataset and have high performance metrics as it could be seen above"
   ]
  },
  {
   "cell_type": "code",
   "execution_count": null,
   "id": "476cd9a3-65ef-4040-a5d0-9d6686dc3cc5",
   "metadata": {},
   "outputs": [],
   "source": []
  }
 ],
 "metadata": {
  "kernelspec": {
   "display_name": "Python 3 (ipykernel)",
   "language": "python",
   "name": "python3"
  },
  "language_info": {
   "codemirror_mode": {
    "name": "ipython",
    "version": 3
   },
   "file_extension": ".py",
   "mimetype": "text/x-python",
   "name": "python",
   "nbconvert_exporter": "python",
   "pygments_lexer": "ipython3",
   "version": "3.11.1"
  }
 },
 "nbformat": 4,
 "nbformat_minor": 5
}
